{
 "cells": [
  {
   "cell_type": "code",
   "execution_count": 1,
   "metadata": {},
   "outputs": [],
   "source": [
    "import astropy\n",
    "from astropy.table import Table, join, vstack\n",
    "from astropy.time import Time\n",
    "from astropy.io import fits\n",
    "from astropy import units as u\n",
    "\n",
    "from astroquery.jplhorizons import Horizons\n",
    "\n",
    "import numpy as np\n",
    "import matplotlib.pyplot as plt\n",
    "from io import BytesIO, StringIO\n",
    "import time\n",
    "import requests\n",
    "import sys\n",
    "import os\n",
    "import getpass\n",
    "\n",
    "saveplots = False # set to save some of the plots to png files\n",
    "import pandas as pd\n",
    "from astropy.time import Time\n",
    "from astropy.coordinates import SkyCoord\n",
    "from urllib.parse import quote"
   ]
  },
  {
   "cell_type": "markdown",
   "metadata": {},
   "source": [
    "# Functions"
   ]
  },
  {
   "cell_type": "code",
   "execution_count": 2,
   "metadata": {},
   "outputs": [],
   "source": [
    "def cadc_ssos_query(object_name, search=\"bynameall\", \n",
    "                    # epoch1=50000, epoch2=57079,\n",
    "                    xyres=\"no\", \n",
    "                    # telinst=\"Pan-STARRS1\", \n",
    "                    lang=\"en\", format=\"tsv\",\n",
    "                    url=\"https://www.cadc-ccda.hia-iha.nrc-cnrc.gc.ca/cadcbin/ssos/ssosclf.pl\"):\n",
    "    \"\"\"Use CADC moving object query to find PS1 observations by target name\n",
    "    \n",
    "    The epoch parameters give the range in MJD for the PS1 observations.\n",
    "    The only parameter that might be usefully modified is the search.  \n",
    "    E.g., use search=\"bynameHorizons\" to search using the JPL Horizons emphemeris rather\n",
    "    than the ephemeris cached at CADC.  That might be useful if the CADC cache has become\n",
    "    out-of-date.\n",
    "    \n",
    "    This return an astropy table with the observations.\n",
    "    \"\"\"\n",
    "    t0 = Time('1990-01-01 00:00:00', format='iso', scale='utc')\n",
    "    t1 = Time.now()\n",
    "\n",
    "    print(f\"Querying CADC SSOS for object '{object_name}' between {t0.iso} and {t1.iso}\")\n",
    "    params = dict(\n",
    "        lang=lang,\n",
    "        object=object_name,\n",
    "        search=search,\n",
    "        epoch1=t0.mjd,\n",
    "        epoch2=t1.mjd,\n",
    "        format=format\n",
    "    )\n",
    "\n",
    "    try:\n",
    "        r = requests.get(url, params=params, timeout=60)\n",
    "    except requests.exceptions.RequestException as e:\n",
    "        print(f\"HTTP request failed: {e}\")\n",
    "        # Return an empty table with expected columns so downstream code doesn't crash\n",
    "        cols = ['Image', 'MJD', 'Filter', 'Exptime', 'Object_RA', 'Object_Dec',\n",
    "                'Image_target', 'Telescope/Instrument', 'MetaData', 'Datalink']\n",
    "        return Table.from_pandas(pd.DataFrame(columns=cols))\n",
    "\n",
    "    print(r.url)\n",
    "\n",
    "    text = r.text\n",
    "    first_line = text.strip().split('\\n', 1)[0]\n",
    "\n",
    "    # Detect common error responses from CADC / Horizons and HTML error pages\n",
    "    if (first_line.lower().startswith(\"there was an error\") or\n",
    "        \"error\" in first_line.lower() or\n",
    "        first_line.strip().startswith(\"<!DOCTYPE\") or\n",
    "        first_line.strip().startswith(\"<html\")):\n",
    "        # Clean up message for printing\n",
    "        msg = first_line.replace('<br/>', '').strip()\n",
    "        print(f\"CADC/SSOS returned an error: {msg}\")\n",
    "        # Try a simple fallback: switch to CADC cached ephemerides if not already using it\n",
    "        if search != \"bynameCADC\":\n",
    "            print(\"Retrying with search='bynameCADC'...\")\n",
    "            return cadc_ssos_query(object_name, search=\"bynameCADC\", xyres=xyres, lang=lang, format=format, url=url)\n",
    "        # Otherwise return an empty table with expected columns\n",
    "        cols = ['Image', 'MJD', 'Filter', 'Exptime', 'Object_RA', 'Object_Dec',\n",
    "                'Image_target', 'Telescope/Instrument', 'MetaData', 'Datalink']\n",
    "        return Table.from_pandas(pd.DataFrame(columns=cols))\n",
    "\n",
    "    # Parse TSV using pandas to avoid astropy fast C-reader converter limitations\n",
    "    try:\n",
    "        df = pd.read_csv(StringIO(text), sep='\\t', engine='python', on_bad_lines='skip')\n",
    "    except Exception as e:\n",
    "        print(f\"Failed to parse CADC TSV: {e}\")\n",
    "        # Return empty table with expected columns to keep pipeline running\n",
    "        cols = ['Image', 'MJD', 'Filter', 'Exptime', 'Object_RA', 'Object_Dec',\n",
    "                'Image_target', 'Telescope/Instrument', 'MetaData', 'Datalink']\n",
    "        return Table.from_pandas(pd.DataFrame(columns=cols))\n",
    "\n",
    "    # Ensure expected columns exist even if CADC response changes\n",
    "    expected_cols = ['Image', 'MJD', 'Filter', 'Exptime', 'Object_RA', 'Object_Dec',\n",
    "                     'Image_target', 'Telescope/Instrument', 'MetaData', 'Datalink']\n",
    "    for col in expected_cols:\n",
    "        if col not in df.columns:\n",
    "            df[col] = pd.NA\n",
    "\n",
    "    # Ensure string type for Image_target if present\n",
    "    if 'Image_target' in df.columns:\n",
    "        df['Image_target'] = df['Image_target'].astype(str)\n",
    "\n",
    "    return Table.from_pandas(df)\n",
    "\n"
   ]
  },
  {
   "cell_type": "code",
   "execution_count": 3,
   "metadata": {},
   "outputs": [],
   "source": [
    "# Define a simple ephemerides query\n",
    "def ephemcc(ident, ep, nbd=None, step=None, observer='645', rplane='1', tcoor=5):\n",
    "    '''Gets asteroid ephemerides from IMCCE Miriade for a suite of JD for a single SSO\n",
    "    Original function by M. Mahlke\n",
    "\n",
    "    :ident: int, float, str - asteroid identifier\n",
    "    :ep: float, str, list - Epoch of computation\n",
    "    :observer: str - IAU Obs code - default to geocenter: https://minorplanetcenter.net//iau/lists/ObsCodesF.html\n",
    "    :returns: pd.DataFrame - Input dataframe with ephemerides columns appended\n",
    "              False - If query failed somehow\n",
    "\n",
    "    '''\n",
    "    \n",
    "    # ------\n",
    "    # Miriade URL \n",
    "    url = 'https://ssp.imcce.fr/webservices/miriade/api/ephemcc.php'\n",
    "    \n",
    "    #if rplane=='2':\n",
    "    #    tcoor='1'\n",
    "        \n",
    "    # Query parameters\n",
    "    params = {\n",
    "        '-name': f'c:{ident}',\n",
    "        '-mime': 'json',\n",
    "        '-rplane': rplane,\n",
    "        '-tcoor': tcoor,\n",
    "        '-output': '--jd',\n",
    "        '-observer': observer, \n",
    "        '-tscale': 'UTC',\n",
    "        '-type': 'Asteroid'\n",
    "    }\n",
    "    \n",
    "\n",
    "    # Single epoch of computation\n",
    "    if type(ep)!=list:\n",
    "        # Set parameters\n",
    "        params['-ep'] = ep\n",
    "        if nbd!=None: \n",
    "            params['-nbd'] = nbd\n",
    "        if step!=None: \n",
    "            params['-step'] = step\n",
    "\n",
    "        # Execute query\n",
    "        try:\n",
    "            r = requests.post(url, params=params, timeout=80)\n",
    "        except requests.exceptions.ReadTimeout:\n",
    "            return False\n",
    "\n",
    "\n",
    "    # Multiple epochs of computation\n",
    "    else:\n",
    "        # Epochs of computation\n",
    "        files = {'epochs': ('epochs', '\\n'.join(['%.6f' % epoch\n",
    "                                                 for epoch in ep]))}\n",
    "\n",
    "        # Execute query\n",
    "        try:\n",
    "            r = requests.post(url, params=params, files=files, timeout=120)\n",
    "            print(r.url)\n",
    "        except requests.exceptions.ReadTimeout:\n",
    "            return False\n",
    "\n",
    "    j = r.json()\n",
    "\n",
    "    # Read JSON response\n",
    "    try:\n",
    "        ephem = pd.DataFrame.from_dict(j['data'])\n",
    "    except KeyError:\n",
    "        return False\n",
    "\n",
    "    return ephem\n"
   ]
  },
  {
   "cell_type": "code",
   "execution_count": null,
   "metadata": {},
   "outputs": [],
   "source": []
  },
  {
   "cell_type": "markdown",
   "metadata": {},
   "source": [
    "# List of the comets"
   ]
  },
  {
   "cell_type": "code",
   "execution_count": 3,
   "metadata": {},
   "outputs": [
    {
     "data": {
      "application/vnd.microsoft.datawrangler.viewer.v0+json": {
       "columns": [
        {
         "name": "index",
         "rawType": "int64",
         "type": "integer"
        },
        {
         "name": "Comet name",
         "rawType": "object",
         "type": "string"
        },
        {
         "name": "q",
         "rawType": "float64",
         "type": "float"
        },
        {
         "name": "e",
         "rawType": "float64",
         "type": "float"
        },
        {
         "name": "Tq",
         "rawType": "object",
         "type": "string"
        },
        {
         "name": "year of observations",
         "rawType": "object",
         "type": "string"
        }
       ],
       "ref": "2c3f8c24-fa81-41f8-8e62-b7ec16846d9c",
       "rows": [
        [
         "0",
         "C/2021 S3",
         "1.32",
         "1.00025",
         "14.02.2024",
         "2024, 2025"
        ],
        [
         "1",
         "C/2019 L3",
         "3.55",
         "1.00141",
         "09.01.2022",
         "2024, 2025"
        ],
        [
         "2",
         "C/2019 U5",
         "3.62",
         "1.00142",
         "29.03.2023",
         "2024, 2025"
        ],
        [
         "3",
         "C/2022 N2",
         "3.83",
         "1.00356",
         "31.07.25",
         "2024, 2025"
        ],
        [
         "4",
         "C/2019 T4",
         "4.24",
         "0.99562",
         "08.06.2022",
         "2024, 2025"
        ],
        [
         "5",
         "C/2017 K2",
         "1.8",
         "1.0006",
         "19.12.2022",
         "2020, 2021, 2024, 2025"
        ],
        [
         "6",
         "C/2022 QE78",
         "5.48",
         "1.00405",
         "10.09.2025",
         "2024, 2025"
        ],
        [
         "7",
         "C/2022 E2",
         "3.67",
         "1.00073",
         "14.09.2024",
         "2024, 2025"
        ],
        [
         "8",
         "C/2024 E1",
         "0.566",
         "1.00005",
         "20.01.2026",
         "2024, 2025"
        ],
        [
         "9",
         "C/2021 G2",
         "4.982",
         "1.00011",
         "09.09.2024",
         "2024, 2025"
        ],
        [
         "10",
         "C/2023 Q1",
         "2.576",
         "1.0053",
         "01.12.2024",
         "2024, 2025"
        ],
        [
         "11",
         "C/2023 H5",
         "4.313",
         "1.00038",
         "30.06.2025",
         "2024, 2025"
        ],
        [
         "12",
         "C/2010 U3",
         "8.446",
         "1.00085",
         "26.02.2019",
         "2019, 2020"
        ],
        [
         "13",
         "C/2012 K2",
         "1.491",
         "0.59426",
         "12.09.2012",
         "2014"
        ],
        [
         "14",
         "C/2013 V2",
         "3.508",
         "1.00446",
         "14.10.2014",
         "2015"
        ],
        [
         "15",
         "C/2014 N3",
         "3.882",
         "0.99933",
         "13.03.2015",
         "2015"
        ],
        [
         "16",
         "C/2014 S2",
         "2.101",
         "0.98763",
         "09.12.2015",
         "2015, 2016"
        ],
        [
         "17",
         "C/2014 W2",
         "2.67",
         "0.99832",
         "10.03.2016",
         "2015, 2016"
        ],
        [
         "18",
         "C/2015 O1",
         "3.73",
         "0.99999",
         "19.02.2018",
         "2017, 2018"
        ],
        [
         "19",
         "C/2015 V2",
         "1.637",
         "1.0017",
         "12.06.2017",
         "2017"
        ],
        [
         "20",
         "C/2015 VL62",
         "2.72",
         "1.00203",
         "28.08.2017",
         "2017"
        ],
        [
         "21",
         "C/2016 N4",
         "3.199",
         "0.99939",
         "16.09.2017",
         "2017"
        ],
        [
         "22",
         "C/2017 O1",
         "1.499",
         "0.99643",
         "14.10.2017",
         "2017"
        ],
        [
         "23",
         "C/2018 N2",
         "3.125",
         "1.00018",
         "10.11.2019",
         "2019, 2020"
        ],
        [
         "24",
         "C/2018 U1",
         "4.994",
         "1.00081",
         "02.11.2021",
         "Jun-21"
        ],
        [
         "25",
         "C/2020 M3",
         "1.268",
         "0.95271",
         "25.10.2020",
         "2020"
        ],
        [
         "26",
         "C/2020 T2",
         "2.055",
         "0.99343",
         "11.07.2021",
         "2021"
        ],
        [
         "27",
         "C/2021 A2",
         "0.615",
         "1.0001",
         "03.01.2022",
         "2021"
        ],
        [
         "28",
         "110P",
         "2.464",
         "0.31628",
         "16.12.2014",
         "2015"
        ],
        [
         "29",
         "114P",
         "1.579",
         "0.55448",
         "14.01.2020",
         "2019, 2020, 2021"
        ],
        [
         "30",
         "123P",
         "2.126",
         "0.44927",
         "04.02.2019",
         "2011, 2019"
        ],
        [
         "31",
         "12P",
         "0.781",
         "0.95456",
         "21.04.2024",
         "2023"
        ],
        [
         "32",
         "156P",
         "1.333",
         "0.61492",
         "17.11.2020",
         "2020, 2021"
        ],
        [
         "33",
         "201P",
         "1.34",
         "0.61286",
         "14.01.2015",
         "2015"
        ],
        [
         "34",
         "21P",
         "1.013",
         "0.71047",
         "10.09.2018",
         "2018"
        ],
        [
         "35",
         "230P",
         "1.485",
         "0.56311",
         "18.11.2015",
         "2015, 2016"
        ],
        [
         "36",
         "260P",
         "1.491",
         "0.59426",
         "12.09.2012",
         "2019"
        ],
        [
         "37",
         "32P",
         "1.994",
         "0.55667",
         "01.03.2024",
         "2015"
        ],
        [
         "38",
         "38P",
         "1.589",
         "0.85929",
         "10.11.2018",
         "2018, 2019"
        ],
        [
         "39",
         "398P",
         "1.306",
         "0.58257",
         "26.12.2020",
         "2020, 2021"
        ],
        [
         "40",
         "4P",
         "1.578",
         "0.58448",
         "05.09.2021",
         "2015"
        ],
        [
         "41",
         "64P",
         "1.393",
         "0.68732",
         "03.11.2018",
         "2018"
        ],
        [
         "42",
         "68P",
         "1.762",
         "0.64034",
         "11.11.2019",
         "2019"
        ]
       ],
       "shape": {
        "columns": 5,
        "rows": 43
       }
      },
      "text/html": [
       "<div>\n",
       "<style scoped>\n",
       "    .dataframe tbody tr th:only-of-type {\n",
       "        vertical-align: middle;\n",
       "    }\n",
       "\n",
       "    .dataframe tbody tr th {\n",
       "        vertical-align: top;\n",
       "    }\n",
       "\n",
       "    .dataframe thead th {\n",
       "        text-align: right;\n",
       "    }\n",
       "</style>\n",
       "<table border=\"1\" class=\"dataframe\">\n",
       "  <thead>\n",
       "    <tr style=\"text-align: right;\">\n",
       "      <th></th>\n",
       "      <th>Comet name</th>\n",
       "      <th>q</th>\n",
       "      <th>e</th>\n",
       "      <th>Tq</th>\n",
       "      <th>year of observations</th>\n",
       "    </tr>\n",
       "  </thead>\n",
       "  <tbody>\n",
       "    <tr>\n",
       "      <th>0</th>\n",
       "      <td>C/2021 S3</td>\n",
       "      <td>1.320</td>\n",
       "      <td>1.00025</td>\n",
       "      <td>14.02.2024</td>\n",
       "      <td>2024, 2025</td>\n",
       "    </tr>\n",
       "    <tr>\n",
       "      <th>1</th>\n",
       "      <td>C/2019 L3</td>\n",
       "      <td>3.550</td>\n",
       "      <td>1.00141</td>\n",
       "      <td>09.01.2022</td>\n",
       "      <td>2024, 2025</td>\n",
       "    </tr>\n",
       "    <tr>\n",
       "      <th>2</th>\n",
       "      <td>C/2019 U5</td>\n",
       "      <td>3.620</td>\n",
       "      <td>1.00142</td>\n",
       "      <td>29.03.2023</td>\n",
       "      <td>2024, 2025</td>\n",
       "    </tr>\n",
       "    <tr>\n",
       "      <th>3</th>\n",
       "      <td>C/2022 N2</td>\n",
       "      <td>3.830</td>\n",
       "      <td>1.00356</td>\n",
       "      <td>31.07.25</td>\n",
       "      <td>2024, 2025</td>\n",
       "    </tr>\n",
       "    <tr>\n",
       "      <th>4</th>\n",
       "      <td>C/2019 T4</td>\n",
       "      <td>4.240</td>\n",
       "      <td>0.99562</td>\n",
       "      <td>08.06.2022</td>\n",
       "      <td>2024, 2025</td>\n",
       "    </tr>\n",
       "    <tr>\n",
       "      <th>5</th>\n",
       "      <td>C/2017 K2</td>\n",
       "      <td>1.800</td>\n",
       "      <td>1.00060</td>\n",
       "      <td>19.12.2022</td>\n",
       "      <td>2020, 2021, 2024, 2025</td>\n",
       "    </tr>\n",
       "    <tr>\n",
       "      <th>6</th>\n",
       "      <td>C/2022 QE78</td>\n",
       "      <td>5.480</td>\n",
       "      <td>1.00405</td>\n",
       "      <td>10.09.2025</td>\n",
       "      <td>2024, 2025</td>\n",
       "    </tr>\n",
       "    <tr>\n",
       "      <th>7</th>\n",
       "      <td>C/2022 E2</td>\n",
       "      <td>3.670</td>\n",
       "      <td>1.00073</td>\n",
       "      <td>14.09.2024</td>\n",
       "      <td>2024, 2025</td>\n",
       "    </tr>\n",
       "    <tr>\n",
       "      <th>8</th>\n",
       "      <td>C/2024 E1</td>\n",
       "      <td>0.566</td>\n",
       "      <td>1.00005</td>\n",
       "      <td>20.01.2026</td>\n",
       "      <td>2024, 2025</td>\n",
       "    </tr>\n",
       "    <tr>\n",
       "      <th>9</th>\n",
       "      <td>C/2021 G2</td>\n",
       "      <td>4.982</td>\n",
       "      <td>1.00011</td>\n",
       "      <td>09.09.2024</td>\n",
       "      <td>2024, 2025</td>\n",
       "    </tr>\n",
       "    <tr>\n",
       "      <th>10</th>\n",
       "      <td>C/2023 Q1</td>\n",
       "      <td>2.576</td>\n",
       "      <td>1.00530</td>\n",
       "      <td>01.12.2024</td>\n",
       "      <td>2024, 2025</td>\n",
       "    </tr>\n",
       "    <tr>\n",
       "      <th>11</th>\n",
       "      <td>C/2023 H5</td>\n",
       "      <td>4.313</td>\n",
       "      <td>1.00038</td>\n",
       "      <td>30.06.2025</td>\n",
       "      <td>2024, 2025</td>\n",
       "    </tr>\n",
       "    <tr>\n",
       "      <th>12</th>\n",
       "      <td>C/2010 U3</td>\n",
       "      <td>8.446</td>\n",
       "      <td>1.00085</td>\n",
       "      <td>26.02.2019</td>\n",
       "      <td>2019, 2020</td>\n",
       "    </tr>\n",
       "    <tr>\n",
       "      <th>13</th>\n",
       "      <td>C/2012 K2</td>\n",
       "      <td>1.491</td>\n",
       "      <td>0.59426</td>\n",
       "      <td>12.09.2012</td>\n",
       "      <td>2014</td>\n",
       "    </tr>\n",
       "    <tr>\n",
       "      <th>14</th>\n",
       "      <td>C/2013 V2</td>\n",
       "      <td>3.508</td>\n",
       "      <td>1.00446</td>\n",
       "      <td>14.10.2014</td>\n",
       "      <td>2015</td>\n",
       "    </tr>\n",
       "    <tr>\n",
       "      <th>15</th>\n",
       "      <td>C/2014 N3</td>\n",
       "      <td>3.882</td>\n",
       "      <td>0.99933</td>\n",
       "      <td>13.03.2015</td>\n",
       "      <td>2015</td>\n",
       "    </tr>\n",
       "    <tr>\n",
       "      <th>16</th>\n",
       "      <td>C/2014 S2</td>\n",
       "      <td>2.101</td>\n",
       "      <td>0.98763</td>\n",
       "      <td>09.12.2015</td>\n",
       "      <td>2015, 2016</td>\n",
       "    </tr>\n",
       "    <tr>\n",
       "      <th>17</th>\n",
       "      <td>C/2014 W2</td>\n",
       "      <td>2.670</td>\n",
       "      <td>0.99832</td>\n",
       "      <td>10.03.2016</td>\n",
       "      <td>2015, 2016</td>\n",
       "    </tr>\n",
       "    <tr>\n",
       "      <th>18</th>\n",
       "      <td>C/2015 O1</td>\n",
       "      <td>3.730</td>\n",
       "      <td>0.99999</td>\n",
       "      <td>19.02.2018</td>\n",
       "      <td>2017, 2018</td>\n",
       "    </tr>\n",
       "    <tr>\n",
       "      <th>19</th>\n",
       "      <td>C/2015 V2</td>\n",
       "      <td>1.637</td>\n",
       "      <td>1.00170</td>\n",
       "      <td>12.06.2017</td>\n",
       "      <td>2017</td>\n",
       "    </tr>\n",
       "    <tr>\n",
       "      <th>20</th>\n",
       "      <td>C/2015 VL62</td>\n",
       "      <td>2.720</td>\n",
       "      <td>1.00203</td>\n",
       "      <td>28.08.2017</td>\n",
       "      <td>2017</td>\n",
       "    </tr>\n",
       "    <tr>\n",
       "      <th>21</th>\n",
       "      <td>C/2016 N4</td>\n",
       "      <td>3.199</td>\n",
       "      <td>0.99939</td>\n",
       "      <td>16.09.2017</td>\n",
       "      <td>2017</td>\n",
       "    </tr>\n",
       "    <tr>\n",
       "      <th>22</th>\n",
       "      <td>C/2017 O1</td>\n",
       "      <td>1.499</td>\n",
       "      <td>0.99643</td>\n",
       "      <td>14.10.2017</td>\n",
       "      <td>2017</td>\n",
       "    </tr>\n",
       "    <tr>\n",
       "      <th>23</th>\n",
       "      <td>C/2018 N2</td>\n",
       "      <td>3.125</td>\n",
       "      <td>1.00018</td>\n",
       "      <td>10.11.2019</td>\n",
       "      <td>2019, 2020</td>\n",
       "    </tr>\n",
       "    <tr>\n",
       "      <th>24</th>\n",
       "      <td>C/2018 U1</td>\n",
       "      <td>4.994</td>\n",
       "      <td>1.00081</td>\n",
       "      <td>02.11.2021</td>\n",
       "      <td>Jun-21</td>\n",
       "    </tr>\n",
       "    <tr>\n",
       "      <th>25</th>\n",
       "      <td>C/2020 M3</td>\n",
       "      <td>1.268</td>\n",
       "      <td>0.95271</td>\n",
       "      <td>25.10.2020</td>\n",
       "      <td>2020</td>\n",
       "    </tr>\n",
       "    <tr>\n",
       "      <th>26</th>\n",
       "      <td>C/2020 T2</td>\n",
       "      <td>2.055</td>\n",
       "      <td>0.99343</td>\n",
       "      <td>11.07.2021</td>\n",
       "      <td>2021</td>\n",
       "    </tr>\n",
       "    <tr>\n",
       "      <th>27</th>\n",
       "      <td>C/2021 A2</td>\n",
       "      <td>0.615</td>\n",
       "      <td>1.00010</td>\n",
       "      <td>03.01.2022</td>\n",
       "      <td>2021</td>\n",
       "    </tr>\n",
       "    <tr>\n",
       "      <th>28</th>\n",
       "      <td>110P</td>\n",
       "      <td>2.464</td>\n",
       "      <td>0.31628</td>\n",
       "      <td>16.12.2014</td>\n",
       "      <td>2015</td>\n",
       "    </tr>\n",
       "    <tr>\n",
       "      <th>29</th>\n",
       "      <td>114P</td>\n",
       "      <td>1.579</td>\n",
       "      <td>0.55448</td>\n",
       "      <td>14.01.2020</td>\n",
       "      <td>2019, 2020, 2021</td>\n",
       "    </tr>\n",
       "    <tr>\n",
       "      <th>30</th>\n",
       "      <td>123P</td>\n",
       "      <td>2.126</td>\n",
       "      <td>0.44927</td>\n",
       "      <td>04.02.2019</td>\n",
       "      <td>2011, 2019</td>\n",
       "    </tr>\n",
       "    <tr>\n",
       "      <th>31</th>\n",
       "      <td>12P</td>\n",
       "      <td>0.781</td>\n",
       "      <td>0.95456</td>\n",
       "      <td>21.04.2024</td>\n",
       "      <td>2023</td>\n",
       "    </tr>\n",
       "    <tr>\n",
       "      <th>32</th>\n",
       "      <td>156P</td>\n",
       "      <td>1.333</td>\n",
       "      <td>0.61492</td>\n",
       "      <td>17.11.2020</td>\n",
       "      <td>2020, 2021</td>\n",
       "    </tr>\n",
       "    <tr>\n",
       "      <th>33</th>\n",
       "      <td>201P</td>\n",
       "      <td>1.340</td>\n",
       "      <td>0.61286</td>\n",
       "      <td>14.01.2015</td>\n",
       "      <td>2015</td>\n",
       "    </tr>\n",
       "    <tr>\n",
       "      <th>34</th>\n",
       "      <td>21P</td>\n",
       "      <td>1.013</td>\n",
       "      <td>0.71047</td>\n",
       "      <td>10.09.2018</td>\n",
       "      <td>2018</td>\n",
       "    </tr>\n",
       "    <tr>\n",
       "      <th>35</th>\n",
       "      <td>230P</td>\n",
       "      <td>1.485</td>\n",
       "      <td>0.56311</td>\n",
       "      <td>18.11.2015</td>\n",
       "      <td>2015, 2016</td>\n",
       "    </tr>\n",
       "    <tr>\n",
       "      <th>36</th>\n",
       "      <td>260P</td>\n",
       "      <td>1.491</td>\n",
       "      <td>0.59426</td>\n",
       "      <td>12.09.2012</td>\n",
       "      <td>2019</td>\n",
       "    </tr>\n",
       "    <tr>\n",
       "      <th>37</th>\n",
       "      <td>32P</td>\n",
       "      <td>1.994</td>\n",
       "      <td>0.55667</td>\n",
       "      <td>01.03.2024</td>\n",
       "      <td>2015</td>\n",
       "    </tr>\n",
       "    <tr>\n",
       "      <th>38</th>\n",
       "      <td>38P</td>\n",
       "      <td>1.589</td>\n",
       "      <td>0.85929</td>\n",
       "      <td>10.11.2018</td>\n",
       "      <td>2018, 2019</td>\n",
       "    </tr>\n",
       "    <tr>\n",
       "      <th>39</th>\n",
       "      <td>398P</td>\n",
       "      <td>1.306</td>\n",
       "      <td>0.58257</td>\n",
       "      <td>26.12.2020</td>\n",
       "      <td>2020, 2021</td>\n",
       "    </tr>\n",
       "    <tr>\n",
       "      <th>40</th>\n",
       "      <td>4P</td>\n",
       "      <td>1.578</td>\n",
       "      <td>0.58448</td>\n",
       "      <td>05.09.2021</td>\n",
       "      <td>2015</td>\n",
       "    </tr>\n",
       "    <tr>\n",
       "      <th>41</th>\n",
       "      <td>64P</td>\n",
       "      <td>1.393</td>\n",
       "      <td>0.68732</td>\n",
       "      <td>03.11.2018</td>\n",
       "      <td>2018</td>\n",
       "    </tr>\n",
       "    <tr>\n",
       "      <th>42</th>\n",
       "      <td>68P</td>\n",
       "      <td>1.762</td>\n",
       "      <td>0.64034</td>\n",
       "      <td>11.11.2019</td>\n",
       "      <td>2019</td>\n",
       "    </tr>\n",
       "  </tbody>\n",
       "</table>\n",
       "</div>"
      ],
      "text/plain": [
       "     Comet name      q        e          Tq    year of observations\n",
       "0     C/2021 S3  1.320  1.00025  14.02.2024              2024, 2025\n",
       "1     C/2019 L3  3.550  1.00141  09.01.2022              2024, 2025\n",
       "2     C/2019 U5  3.620  1.00142  29.03.2023              2024, 2025\n",
       "3     C/2022 N2  3.830  1.00356    31.07.25              2024, 2025\n",
       "4     C/2019 T4  4.240  0.99562  08.06.2022              2024, 2025\n",
       "5     C/2017 K2  1.800  1.00060  19.12.2022  2020, 2021, 2024, 2025\n",
       "6   C/2022 QE78  5.480  1.00405  10.09.2025              2024, 2025\n",
       "7     C/2022 E2  3.670  1.00073  14.09.2024              2024, 2025\n",
       "8     C/2024 E1  0.566  1.00005  20.01.2026              2024, 2025\n",
       "9     C/2021 G2  4.982  1.00011  09.09.2024              2024, 2025\n",
       "10    C/2023 Q1  2.576  1.00530  01.12.2024              2024, 2025\n",
       "11    C/2023 H5  4.313  1.00038  30.06.2025              2024, 2025\n",
       "12    C/2010 U3  8.446  1.00085  26.02.2019              2019, 2020\n",
       "13    C/2012 K2  1.491  0.59426  12.09.2012                    2014\n",
       "14    C/2013 V2  3.508  1.00446  14.10.2014                    2015\n",
       "15    C/2014 N3  3.882  0.99933  13.03.2015                    2015\n",
       "16    C/2014 S2  2.101  0.98763  09.12.2015              2015, 2016\n",
       "17    C/2014 W2  2.670  0.99832  10.03.2016              2015, 2016\n",
       "18    C/2015 O1  3.730  0.99999  19.02.2018              2017, 2018\n",
       "19    C/2015 V2  1.637  1.00170  12.06.2017                    2017\n",
       "20  C/2015 VL62  2.720  1.00203  28.08.2017                    2017\n",
       "21    C/2016 N4  3.199  0.99939  16.09.2017                    2017\n",
       "22    C/2017 O1  1.499  0.99643  14.10.2017                    2017\n",
       "23    C/2018 N2  3.125  1.00018  10.11.2019              2019, 2020\n",
       "24    C/2018 U1  4.994  1.00081  02.11.2021                  Jun-21\n",
       "25    C/2020 M3  1.268  0.95271  25.10.2020                    2020\n",
       "26    C/2020 T2  2.055  0.99343  11.07.2021                    2021\n",
       "27    C/2021 A2  0.615  1.00010  03.01.2022                    2021\n",
       "28         110P  2.464  0.31628  16.12.2014                    2015\n",
       "29         114P  1.579  0.55448  14.01.2020        2019, 2020, 2021\n",
       "30         123P  2.126  0.44927  04.02.2019              2011, 2019\n",
       "31          12P  0.781  0.95456  21.04.2024                    2023\n",
       "32         156P  1.333  0.61492  17.11.2020              2020, 2021\n",
       "33         201P  1.340  0.61286  14.01.2015                    2015\n",
       "34          21P  1.013  0.71047  10.09.2018                    2018\n",
       "35         230P  1.485  0.56311  18.11.2015              2015, 2016\n",
       "36         260P  1.491  0.59426  12.09.2012                    2019\n",
       "37          32P  1.994  0.55667  01.03.2024                    2015\n",
       "38          38P  1.589  0.85929  10.11.2018              2018, 2019\n",
       "39         398P  1.306  0.58257  26.12.2020              2020, 2021\n",
       "40           4P  1.578  0.58448  05.09.2021                    2015\n",
       "41          64P  1.393  0.68732  03.11.2018                    2018\n",
       "42          68P  1.762  0.64034  11.11.2019                    2019"
      ]
     },
     "execution_count": 3,
     "metadata": {},
     "output_type": "execute_result"
    }
   ],
   "source": [
    "df_init = pd.read_csv('data/List of comets.csv')\n",
    "df_init"
   ]
  },
  {
   "cell_type": "markdown",
   "metadata": {},
   "source": [
    "# Read tables from CADC"
   ]
  },
  {
   "cell_type": "code",
   "execution_count": 73,
   "metadata": {},
   "outputs": [
    {
     "name": "stdout",
     "output_type": "stream",
     "text": [
      "0: C/2021 S3\n",
      "Querying CADC SSOS for object 'C/2021 S3' between 1990-01-01 00:00:00.000 and 2025-09-22 11:51:56.764\n",
      "https://www.cadc-ccda.hia-iha.nrc-cnrc.gc.ca/cadcbin/ssos/ssosclf.pl?lang=en&object=C%2F2021+S3&search=bynameall&epoch1=47892.0&epoch2=60940.49440698593&format=tsv\n",
      "Returned table has 2400 rows\n",
      "1: C/2019 L3\n",
      "Querying CADC SSOS for object 'C/2019 L3' between 1990-01-01 00:00:00.000 and 2025-09-22 11:52:03.622\n",
      "https://www.cadc-ccda.hia-iha.nrc-cnrc.gc.ca/cadcbin/ssos/ssosclf.pl?lang=en&object=C%2F2019+L3&search=bynameall&epoch1=47892.0&epoch2=60940.49448636738&format=tsv\n",
      "Returned table has 2724 rows\n",
      "2: C/2019 U5\n",
      "Querying CADC SSOS for object 'C/2019 U5' between 1990-01-01 00:00:00.000 and 2025-09-22 11:52:11.453\n",
      "https://www.cadc-ccda.hia-iha.nrc-cnrc.gc.ca/cadcbin/ssos/ssosclf.pl?lang=en&object=C%2F2019+U5&search=bynameall&epoch1=47892.0&epoch2=60940.49457700529&format=tsv\n",
      "Returned table has 1826 rows\n",
      "3: C/2022 N2\n",
      "Querying CADC SSOS for object 'C/2022 N2' between 1990-01-01 00:00:00.000 and 2025-09-22 11:52:18.964\n",
      "https://www.cadc-ccda.hia-iha.nrc-cnrc.gc.ca/cadcbin/ssos/ssosclf.pl?lang=en&object=C%2F2022+N2&search=bynameall&epoch1=47892.0&epoch2=60940.49466393926&format=tsv\n",
      "Returned table has 2802 rows\n",
      "4: C/2019 T4\n",
      "Querying CADC SSOS for object 'C/2019 T4' between 1990-01-01 00:00:00.000 and 2025-09-22 11:52:27.673\n",
      "https://www.cadc-ccda.hia-iha.nrc-cnrc.gc.ca/cadcbin/ssos/ssosclf.pl?lang=en&object=C%2F2019+T4&search=bynameall&epoch1=47892.0&epoch2=60940.49476473574&format=tsv\n",
      "Returned table has 1769 rows\n",
      "5: C/2017 K2\n",
      "Querying CADC SSOS for object 'C/2017 K2' between 1990-01-01 00:00:00.000 and 2025-09-22 11:52:35.512\n",
      "https://www.cadc-ccda.hia-iha.nrc-cnrc.gc.ca/cadcbin/ssos/ssosclf.pl?lang=en&object=C%2F2017+K2&search=bynameall&epoch1=47892.0&epoch2=60940.49485546511&format=tsv\n",
      "Returned table has 7173 rows\n",
      "6: C/2022 QE78\n",
      "Querying CADC SSOS for object 'C/2022 QE78' between 1990-01-01 00:00:00.000 and 2025-09-22 11:52:43.776\n",
      "https://www.cadc-ccda.hia-iha.nrc-cnrc.gc.ca/cadcbin/ssos/ssosclf.pl?lang=en&object=C%2F2022+QE78&search=bynameall&epoch1=47892.0&epoch2=60940.494951113185&format=tsv\n",
      "Returned table has 2666 rows\n",
      "7: C/2022 E2\n",
      "Querying CADC SSOS for object 'C/2022 E2' between 1990-01-01 00:00:00.000 and 2025-09-22 11:52:51.290\n",
      "https://www.cadc-ccda.hia-iha.nrc-cnrc.gc.ca/cadcbin/ssos/ssosclf.pl?lang=en&object=C%2F2022+E2&search=bynameall&epoch1=47892.0&epoch2=60940.49503807881&format=tsv\n",
      "Returned table has 1331 rows\n",
      "8: C/2024 E1\n",
      "Querying CADC SSOS for object 'C/2024 E1' between 1990-01-01 00:00:00.000 and 2025-09-22 11:53:01.529\n",
      "https://www.cadc-ccda.hia-iha.nrc-cnrc.gc.ca/cadcbin/ssos/ssosclf.pl?lang=en&object=C%2F2024+E1&search=bynameall&epoch1=47892.0&epoch2=60940.495156586774&format=tsv\n",
      "Returned table has 1362 rows\n",
      "9: C/2021 G2\n",
      "Querying CADC SSOS for object 'C/2021 G2' between 1990-01-01 00:00:00.000 and 2025-09-22 11:53:08.211\n",
      "https://www.cadc-ccda.hia-iha.nrc-cnrc.gc.ca/cadcbin/ssos/ssosclf.pl?lang=en&object=C%2F2021+G2&search=bynameall&epoch1=47892.0&epoch2=60940.495233923626&format=tsv\n",
      "Returned table has 1582 rows\n",
      "10: C/2023 Q1\n",
      "Querying CADC SSOS for object 'C/2023 Q1' between 1990-01-01 00:00:00.000 and 2025-09-22 11:53:15.033\n",
      "https://www.cadc-ccda.hia-iha.nrc-cnrc.gc.ca/cadcbin/ssos/ssosclf.pl?lang=en&object=C%2F2023+Q1&search=bynameall&epoch1=47892.0&epoch2=60940.49531288336&format=tsv\n",
      "Returned table has 1142 rows\n",
      "11: C/2023 H5\n",
      "Querying CADC SSOS for object 'C/2023 H5' between 1990-01-01 00:00:00.000 and 2025-09-22 11:53:23.667\n",
      "https://www.cadc-ccda.hia-iha.nrc-cnrc.gc.ca/cadcbin/ssos/ssosclf.pl?lang=en&object=C%2F2023+H5&search=bynameall&epoch1=47892.0&epoch2=60940.49541281349&format=tsv\n",
      "Returned table has 921 rows\n",
      "12: C/2010 U3\n",
      "Querying CADC SSOS for object 'C/2010 U3' between 1990-01-01 00:00:00.000 and 2025-09-22 11:53:31.215\n",
      "https://www.cadc-ccda.hia-iha.nrc-cnrc.gc.ca/cadcbin/ssos/ssosclf.pl?lang=en&object=C%2F2010+U3&search=bynameall&epoch1=47892.0&epoch2=60940.49550017282&format=tsv\n",
      "Returned table has 662 rows\n",
      "13: C/2012 K2\n",
      "Querying CADC SSOS for object 'C/2012 K2' between 1990-01-01 00:00:00.000 and 2025-09-22 11:53:37.352\n",
      "https://www.cadc-ccda.hia-iha.nrc-cnrc.gc.ca/cadcbin/ssos/ssosclf.pl?lang=en&object=C%2F2012+K2&search=bynameall&epoch1=47892.0&epoch2=60940.495571202235&format=tsv\n",
      "Returned table has 1821 rows\n",
      "14: C/2013 V2\n",
      "Querying CADC SSOS for object 'C/2013 V2' between 1990-01-01 00:00:00.000 and 2025-09-22 11:53:44.670\n",
      "https://www.cadc-ccda.hia-iha.nrc-cnrc.gc.ca/cadcbin/ssos/ssosclf.pl?lang=en&object=C%2F2013+V2&search=bynameall&epoch1=47892.0&epoch2=60940.49565590148&format=tsv\n",
      "Returned table has 607 rows\n",
      "15: C/2014 N3\n",
      "Querying CADC SSOS for object 'C/2014 N3' between 1990-01-01 00:00:00.000 and 2025-09-22 11:53:51.905\n",
      "https://www.cadc-ccda.hia-iha.nrc-cnrc.gc.ca/cadcbin/ssos/ssosclf.pl?lang=en&object=C%2F2014+N3&search=bynameall&epoch1=47892.0&epoch2=60940.495739639955&format=tsv\n",
      "Returned table has 646 rows\n",
      "16: C/2014 S2\n",
      "Querying CADC SSOS for object 'C/2014 S2' between 1990-01-01 00:00:00.000 and 2025-09-22 11:53:58.978\n",
      "https://www.cadc-ccda.hia-iha.nrc-cnrc.gc.ca/cadcbin/ssos/ssosclf.pl?lang=en&object=C%2F2014+S2&search=bynameall&epoch1=47892.0&epoch2=60940.49582150612&format=tsv\n",
      "Returned table has 679 rows\n",
      "17: C/2014 W2\n",
      "Querying CADC SSOS for object 'C/2014 W2' between 1990-01-01 00:00:00.000 and 2025-09-22 11:54:06.325\n",
      "https://www.cadc-ccda.hia-iha.nrc-cnrc.gc.ca/cadcbin/ssos/ssosclf.pl?lang=en&object=C%2F2014+W2&search=bynameall&epoch1=47892.0&epoch2=60940.49590653956&format=tsv\n",
      "Returned table has 726 rows\n",
      "18: C/2015 O1\n",
      "Querying CADC SSOS for object 'C/2015 O1' between 1990-01-01 00:00:00.000 and 2025-09-22 11:54:13.910\n",
      "https://www.cadc-ccda.hia-iha.nrc-cnrc.gc.ca/cadcbin/ssos/ssosclf.pl?lang=en&object=C%2F2015+O1&search=bynameall&epoch1=47892.0&epoch2=60940.49599432381&format=tsv\n",
      "Returned table has 973 rows\n",
      "19: C/2015 V2\n",
      "Querying CADC SSOS for object 'C/2015 V2' between 1990-01-01 00:00:00.000 and 2025-09-22 11:54:21.502\n",
      "https://www.cadc-ccda.hia-iha.nrc-cnrc.gc.ca/cadcbin/ssos/ssosclf.pl?lang=en&object=C%2F2015+V2&search=bynameall&epoch1=47892.0&epoch2=60940.49608220217&format=tsv\n",
      "Returned table has 1210 rows\n",
      "20: C/2015 VL62\n",
      "Querying CADC SSOS for object 'C/2015 VL62' between 1990-01-01 00:00:00.000 and 2025-09-22 11:54:27.770\n",
      "https://www.cadc-ccda.hia-iha.nrc-cnrc.gc.ca/cadcbin/ssos/ssosclf.pl?lang=en&object=C%2F2015+VL62&search=bynameall&epoch1=47892.0&epoch2=60940.49615474721&format=tsv\n",
      "Returned table has 706 rows\n",
      "21: C/2016 N4\n",
      "Querying CADC SSOS for object 'C/2016 N4' between 1990-01-01 00:00:00.000 and 2025-09-22 11:54:34.687\n",
      "https://www.cadc-ccda.hia-iha.nrc-cnrc.gc.ca/cadcbin/ssos/ssosclf.pl?lang=en&object=C%2F2016+N4&search=bynameall&epoch1=47892.0&epoch2=60940.496234808284&format=tsv\n",
      "Returned table has 1650 rows\n",
      "22: C/2017 O1\n",
      "Querying CADC SSOS for object 'C/2017 O1' between 1990-01-01 00:00:00.000 and 2025-09-22 11:54:41.792\n",
      "https://www.cadc-ccda.hia-iha.nrc-cnrc.gc.ca/cadcbin/ssos/ssosclf.pl?lang=en&object=C%2F2017+O1&search=bynameall&epoch1=47892.0&epoch2=60940.496317031946&format=tsv\n",
      "Returned table has 4258 rows\n",
      "23: C/2018 N2\n",
      "Querying CADC SSOS for object 'C/2018 N2' between 1990-01-01 00:00:00.000 and 2025-09-22 11:54:50.599\n",
      "https://www.cadc-ccda.hia-iha.nrc-cnrc.gc.ca/cadcbin/ssos/ssosclf.pl?lang=en&object=C%2F2018+N2&search=bynameall&epoch1=47892.0&epoch2=60940.496418971634&format=tsv\n",
      "Returned table has 1730 rows\n",
      "24: C/2018 U1\n",
      "Querying CADC SSOS for object 'C/2018 U1' between 1990-01-01 00:00:00.000 and 2025-09-22 11:54:57.938\n",
      "https://www.cadc-ccda.hia-iha.nrc-cnrc.gc.ca/cadcbin/ssos/ssosclf.pl?lang=en&object=C%2F2018+U1&search=bynameall&epoch1=47892.0&epoch2=60940.496503914066&format=tsv\n",
      "Returned table has 1119 rows\n",
      "25: C/2020 M3\n",
      "Querying CADC SSOS for object 'C/2020 M3' between 1990-01-01 00:00:00.000 and 2025-09-22 11:55:05.385\n",
      "https://www.cadc-ccda.hia-iha.nrc-cnrc.gc.ca/cadcbin/ssos/ssosclf.pl?lang=en&object=C%2F2020+M3&search=bynameall&epoch1=47892.0&epoch2=60940.49659010654&format=tsv\n",
      "Returned table has 1306 rows\n",
      "26: C/2020 T2\n",
      "Querying CADC SSOS for object 'C/2020 T2' between 1990-01-01 00:00:00.000 and 2025-09-22 11:55:13.764\n",
      "https://www.cadc-ccda.hia-iha.nrc-cnrc.gc.ca/cadcbin/ssos/ssosclf.pl?lang=en&object=C%2F2020+T2&search=bynameall&epoch1=47892.0&epoch2=60940.49668708904&format=tsv\n",
      "Returned table has 1214 rows\n",
      "27: C/2021 A2\n",
      "Querying CADC SSOS for object 'C/2021 A2' between 1990-01-01 00:00:00.000 and 2025-09-22 11:55:20.252\n",
      "https://www.cadc-ccda.hia-iha.nrc-cnrc.gc.ca/cadcbin/ssos/ssosclf.pl?lang=en&object=C%2F2021+A2&search=bynameall&epoch1=47892.0&epoch2=60940.49676217176&format=tsv\n",
      "Returned table has 957 rows\n",
      "28: 110P\n",
      "Querying CADC SSOS for object '110P' between 1990-01-01 00:00:00.000 and 2025-09-22 11:55:28.501\n",
      "https://www.cadc-ccda.hia-iha.nrc-cnrc.gc.ca/cadcbin/ssos/ssosclf.pl?lang=en&object=110P&search=bynameall&epoch1=47892.0&epoch2=60940.49685765132&format=tsv\n",
      "Returned table has 2528 rows\n",
      "29: 114P\n",
      "Querying CADC SSOS for object '114P' between 1990-01-01 00:00:00.000 and 2025-09-22 11:55:43.674\n",
      "https://www.cadc-ccda.hia-iha.nrc-cnrc.gc.ca/cadcbin/ssos/ssosclf.pl?lang=en&object=114P&search=bynameall&epoch1=47892.0&epoch2=60940.49703326386&format=tsv\n",
      "Returned table has 1404 rows\n",
      "30: 123P\n",
      "Querying CADC SSOS for object '123P' between 1990-01-01 00:00:00.000 and 2025-09-22 11:55:58.093\n",
      "https://www.cadc-ccda.hia-iha.nrc-cnrc.gc.ca/cadcbin/ssos/ssosclf.pl?lang=en&object=123P&search=bynameall&epoch1=47892.0&epoch2=60940.49720014515&format=tsv\n",
      "Returned table has 1237 rows\n",
      "31: 12P\n",
      "Querying CADC SSOS for object '12P' between 1990-01-01 00:00:00.000 and 2025-09-22 11:56:12.408\n",
      "https://www.cadc-ccda.hia-iha.nrc-cnrc.gc.ca/cadcbin/ssos/ssosclf.pl?lang=en&object=12P&search=bynameall&epoch1=47892.0&epoch2=60940.49736583086&format=tsv\n",
      "Returned table has 2387 rows\n",
      "32: 156P\n",
      "Querying CADC SSOS for object '156P' between 1990-01-01 00:00:00.000 and 2025-09-22 11:56:27.846\n",
      "https://www.cadc-ccda.hia-iha.nrc-cnrc.gc.ca/cadcbin/ssos/ssosclf.pl?lang=en&object=156P&search=bynameall&epoch1=47892.0&epoch2=60940.49754451675&format=tsv\n",
      "Returned table has 1173 rows\n",
      "33: 201P\n",
      "Querying CADC SSOS for object '201P' between 1990-01-01 00:00:00.000 and 2025-09-22 11:56:44.039\n",
      "https://www.cadc-ccda.hia-iha.nrc-cnrc.gc.ca/cadcbin/ssos/ssosclf.pl?lang=en&object=201P&search=bynameall&epoch1=47892.0&epoch2=60940.497731928735&format=tsv\n",
      "Returned table has 2542 rows\n",
      "34: 21P\n",
      "Querying CADC SSOS for object '21P' between 1990-01-01 00:00:00.000 and 2025-09-22 11:56:58.421\n",
      "https://www.cadc-ccda.hia-iha.nrc-cnrc.gc.ca/cadcbin/ssos/ssosclf.pl?lang=en&object=21P&search=bynameall&epoch1=47892.0&epoch2=60940.4978983959&format=tsv\n",
      "Returned table has 1775 rows\n",
      "35: 230P\n",
      "Querying CADC SSOS for object '230P' between 1990-01-01 00:00:00.000 and 2025-09-22 11:57:12.746\n",
      "https://www.cadc-ccda.hia-iha.nrc-cnrc.gc.ca/cadcbin/ssos/ssosclf.pl?lang=en&object=230P&search=bynameall&epoch1=47892.0&epoch2=60940.49806419195&format=tsv\n",
      "Returned table has 689 rows\n",
      "36: 260P\n",
      "Querying CADC SSOS for object '260P' between 1990-01-01 00:00:00.000 and 2025-09-22 11:57:26.718\n",
      "https://www.cadc-ccda.hia-iha.nrc-cnrc.gc.ca/cadcbin/ssos/ssosclf.pl?lang=en&object=260P&search=bynameall&epoch1=47892.0&epoch2=60940.498225904455&format=tsv\n",
      "Returned table has 1821 rows\n",
      "37: 32P\n",
      "Querying CADC SSOS for object '32P' between 1990-01-01 00:00:00.000 and 2025-09-22 11:57:43.091\n",
      "https://www.cadc-ccda.hia-iha.nrc-cnrc.gc.ca/cadcbin/ssos/ssosclf.pl?lang=en&object=32P&search=bynameall&epoch1=47892.0&epoch2=60940.49841540146&format=tsv\n",
      "Returned table has 1466 rows\n",
      "38: 38P\n",
      "Querying CADC SSOS for object '38P' between 1990-01-01 00:00:00.000 and 2025-09-22 11:57:57.953\n",
      "https://www.cadc-ccda.hia-iha.nrc-cnrc.gc.ca/cadcbin/ssos/ssosclf.pl?lang=en&object=38P&search=bynameall&epoch1=47892.0&epoch2=60940.498587416114&format=tsv\n",
      "Returned table has 2245 rows\n",
      "39: 398P\n",
      "Querying CADC SSOS for object '398P' between 1990-01-01 00:00:00.000 and 2025-09-22 11:58:12.836\n",
      "https://www.cadc-ccda.hia-iha.nrc-cnrc.gc.ca/cadcbin/ssos/ssosclf.pl?lang=en&object=398P&search=bynameall&epoch1=47892.0&epoch2=60940.49875968147&format=tsv\n",
      "Returned table has 1497 rows\n",
      "40: 4P\n",
      "Querying CADC SSOS for object '4P' between 1990-01-01 00:00:00.000 and 2025-09-22 11:58:29.186\n",
      "https://www.cadc-ccda.hia-iha.nrc-cnrc.gc.ca/cadcbin/ssos/ssosclf.pl?lang=en&object=4P&search=bynameall&epoch1=47892.0&epoch2=60940.49894890952&format=tsv\n",
      "Returned table has 1880 rows\n",
      "41: 64P\n",
      "Querying CADC SSOS for object '64P' between 1990-01-01 00:00:00.000 and 2025-09-22 11:58:44.130\n",
      "https://www.cadc-ccda.hia-iha.nrc-cnrc.gc.ca/cadcbin/ssos/ssosclf.pl?lang=en&object=64P&search=bynameall&epoch1=47892.0&epoch2=60940.49912187146&format=tsv\n",
      "Returned table has 2029 rows\n",
      "42: 68P\n",
      "Querying CADC SSOS for object '68P' between 1990-01-01 00:00:00.000 and 2025-09-22 11:58:58.695\n",
      "https://www.cadc-ccda.hia-iha.nrc-cnrc.gc.ca/cadcbin/ssos/ssosclf.pl?lang=en&object=68P&search=bynameall&epoch1=47892.0&epoch2=60940.49929044815&format=tsv\n",
      "Returned table has 1169 rows\n",
      "CPU times: user 1.13 s, sys: 83 ms, total: 1.21 s\n",
      "Wall time: 7min 15s\n"
     ]
    }
   ],
   "source": [
    "%%time \n",
    "for i, row in df_init.iterrows():\n",
    "    print(f\"{i}: {row['Comet name']}\")\n",
    "    source = df_init.loc[i, 'Comet name']\n",
    "    name = \" \".join(source.split())\n",
    "\n",
    "    cadc_tab = cadc_ssos_query(name)\n",
    "    print(f\"Returned table has {len(cadc_tab)} rows\")\n",
    "    df_comet = cadc_tab.to_pandas()\n",
    "    df_comet.to_csv(f\"data/cadc/{name.replace('/', '_')}_cadc.csv\", index=False)\n",
    "    # break\n",
    "\n"
   ]
  },
  {
   "cell_type": "markdown",
   "metadata": {},
   "source": [
    "# Check Miriade"
   ]
  },
  {
   "cell_type": "code",
   "execution_count": 16,
   "metadata": {},
   "outputs": [
    {
     "name": "stdout",
     "output_type": "stream",
     "text": [
      "1: C/2019 L3\n",
      "  Read 2724 observations from data/cadc/C_2019 L3_cadc.csv in 6 chunks\n",
      "https://ssp.imcce.fr/webservices/miriade/api/ephemcc.php?-name=c%3AC%2F2019+L3&-mime=json&-rplane=1&-tcoor=5&-output=--jd&-observer=500&-tscale=UTC&-type=Asteroid\n",
      "https://ssp.imcce.fr/webservices/miriade/api/ephemcc.php?-name=c%3AC%2F2019+L3&-mime=json&-rplane=1&-tcoor=5&-output=--jd&-observer=500&-tscale=UTC&-type=Asteroid\n",
      "https://ssp.imcce.fr/webservices/miriade/api/ephemcc.php?-name=c%3AC%2F2019+L3&-mime=json&-rplane=1&-tcoor=5&-output=--jd&-observer=500&-tscale=UTC&-type=Asteroid\n",
      "https://ssp.imcce.fr/webservices/miriade/api/ephemcc.php?-name=c%3AC%2F2019+L3&-mime=json&-rplane=1&-tcoor=5&-output=--jd&-observer=500&-tscale=UTC&-type=Asteroid\n",
      "https://ssp.imcce.fr/webservices/miriade/api/ephemcc.php?-name=c%3AC%2F2019+L3&-mime=json&-rplane=1&-tcoor=5&-output=--jd&-observer=500&-tscale=UTC&-type=Asteroid\n",
      "https://ssp.imcce.fr/webservices/miriade/api/ephemcc.php?-name=c%3AC%2F2019+L3&-mime=json&-rplane=1&-tcoor=5&-output=--jd&-observer=500&-tscale=UTC&-type=Asteroid\n",
      "Got 2724 ephemeris rows from Miriade\n",
      "2: C/2019 U5\n",
      "  Read 1826 observations from data/cadc/C_2019 U5_cadc.csv in 4 chunks\n",
      "https://ssp.imcce.fr/webservices/miriade/api/ephemcc.php?-name=c%3AC%2F2019+U5&-mime=json&-rplane=1&-tcoor=5&-output=--jd&-observer=500&-tscale=UTC&-type=Asteroid\n",
      "https://ssp.imcce.fr/webservices/miriade/api/ephemcc.php?-name=c%3AC%2F2019+U5&-mime=json&-rplane=1&-tcoor=5&-output=--jd&-observer=500&-tscale=UTC&-type=Asteroid\n",
      "https://ssp.imcce.fr/webservices/miriade/api/ephemcc.php?-name=c%3AC%2F2019+U5&-mime=json&-rplane=1&-tcoor=5&-output=--jd&-observer=500&-tscale=UTC&-type=Asteroid\n",
      "https://ssp.imcce.fr/webservices/miriade/api/ephemcc.php?-name=c%3AC%2F2019+U5&-mime=json&-rplane=1&-tcoor=5&-output=--jd&-observer=500&-tscale=UTC&-type=Asteroid\n",
      "Got 1826 ephemeris rows from Miriade\n",
      "3: C/2022 N2\n",
      "  Read 2802 observations from data/cadc/C_2022 N2_cadc.csv in 6 chunks\n",
      "https://ssp.imcce.fr/webservices/miriade/api/ephemcc.php?-name=c%3AC%2F2022+N2&-mime=json&-rplane=1&-tcoor=5&-output=--jd&-observer=500&-tscale=UTC&-type=Asteroid\n",
      "https://ssp.imcce.fr/webservices/miriade/api/ephemcc.php?-name=c%3AC%2F2022+N2&-mime=json&-rplane=1&-tcoor=5&-output=--jd&-observer=500&-tscale=UTC&-type=Asteroid\n",
      "https://ssp.imcce.fr/webservices/miriade/api/ephemcc.php?-name=c%3AC%2F2022+N2&-mime=json&-rplane=1&-tcoor=5&-output=--jd&-observer=500&-tscale=UTC&-type=Asteroid\n",
      "https://ssp.imcce.fr/webservices/miriade/api/ephemcc.php?-name=c%3AC%2F2022+N2&-mime=json&-rplane=1&-tcoor=5&-output=--jd&-observer=500&-tscale=UTC&-type=Asteroid\n",
      "https://ssp.imcce.fr/webservices/miriade/api/ephemcc.php?-name=c%3AC%2F2022+N2&-mime=json&-rplane=1&-tcoor=5&-output=--jd&-observer=500&-tscale=UTC&-type=Asteroid\n",
      "https://ssp.imcce.fr/webservices/miriade/api/ephemcc.php?-name=c%3AC%2F2022+N2&-mime=json&-rplane=1&-tcoor=5&-output=--jd&-observer=500&-tscale=UTC&-type=Asteroid\n",
      "Got 2802 ephemeris rows from Miriade\n",
      "4: C/2019 T4\n",
      "  Read 1769 observations from data/cadc/C_2019 T4_cadc.csv in 4 chunks\n",
      "https://ssp.imcce.fr/webservices/miriade/api/ephemcc.php?-name=c%3AC%2F2019+T4&-mime=json&-rplane=1&-tcoor=5&-output=--jd&-observer=500&-tscale=UTC&-type=Asteroid\n",
      "https://ssp.imcce.fr/webservices/miriade/api/ephemcc.php?-name=c%3AC%2F2019+T4&-mime=json&-rplane=1&-tcoor=5&-output=--jd&-observer=500&-tscale=UTC&-type=Asteroid\n",
      "https://ssp.imcce.fr/webservices/miriade/api/ephemcc.php?-name=c%3AC%2F2019+T4&-mime=json&-rplane=1&-tcoor=5&-output=--jd&-observer=500&-tscale=UTC&-type=Asteroid\n",
      "https://ssp.imcce.fr/webservices/miriade/api/ephemcc.php?-name=c%3AC%2F2019+T4&-mime=json&-rplane=1&-tcoor=5&-output=--jd&-observer=500&-tscale=UTC&-type=Asteroid\n",
      "Got 1769 ephemeris rows from Miriade\n",
      "5: C/2017 K2\n",
      "  Read 7173 observations from data/cadc/C_2017 K2_cadc.csv in 15 chunks\n",
      "https://ssp.imcce.fr/webservices/miriade/api/ephemcc.php?-name=c%3AC%2F2017+K2&-mime=json&-rplane=1&-tcoor=5&-output=--jd&-observer=500&-tscale=UTC&-type=Asteroid\n",
      "https://ssp.imcce.fr/webservices/miriade/api/ephemcc.php?-name=c%3AC%2F2017+K2&-mime=json&-rplane=1&-tcoor=5&-output=--jd&-observer=500&-tscale=UTC&-type=Asteroid\n",
      "https://ssp.imcce.fr/webservices/miriade/api/ephemcc.php?-name=c%3AC%2F2017+K2&-mime=json&-rplane=1&-tcoor=5&-output=--jd&-observer=500&-tscale=UTC&-type=Asteroid\n",
      "https://ssp.imcce.fr/webservices/miriade/api/ephemcc.php?-name=c%3AC%2F2017+K2&-mime=json&-rplane=1&-tcoor=5&-output=--jd&-observer=500&-tscale=UTC&-type=Asteroid\n",
      "https://ssp.imcce.fr/webservices/miriade/api/ephemcc.php?-name=c%3AC%2F2017+K2&-mime=json&-rplane=1&-tcoor=5&-output=--jd&-observer=500&-tscale=UTC&-type=Asteroid\n",
      "https://ssp.imcce.fr/webservices/miriade/api/ephemcc.php?-name=c%3AC%2F2017+K2&-mime=json&-rplane=1&-tcoor=5&-output=--jd&-observer=500&-tscale=UTC&-type=Asteroid\n",
      "https://ssp.imcce.fr/webservices/miriade/api/ephemcc.php?-name=c%3AC%2F2017+K2&-mime=json&-rplane=1&-tcoor=5&-output=--jd&-observer=500&-tscale=UTC&-type=Asteroid\n",
      "https://ssp.imcce.fr/webservices/miriade/api/ephemcc.php?-name=c%3AC%2F2017+K2&-mime=json&-rplane=1&-tcoor=5&-output=--jd&-observer=500&-tscale=UTC&-type=Asteroid\n",
      "https://ssp.imcce.fr/webservices/miriade/api/ephemcc.php?-name=c%3AC%2F2017+K2&-mime=json&-rplane=1&-tcoor=5&-output=--jd&-observer=500&-tscale=UTC&-type=Asteroid\n",
      "https://ssp.imcce.fr/webservices/miriade/api/ephemcc.php?-name=c%3AC%2F2017+K2&-mime=json&-rplane=1&-tcoor=5&-output=--jd&-observer=500&-tscale=UTC&-type=Asteroid\n",
      "https://ssp.imcce.fr/webservices/miriade/api/ephemcc.php?-name=c%3AC%2F2017+K2&-mime=json&-rplane=1&-tcoor=5&-output=--jd&-observer=500&-tscale=UTC&-type=Asteroid\n",
      "https://ssp.imcce.fr/webservices/miriade/api/ephemcc.php?-name=c%3AC%2F2017+K2&-mime=json&-rplane=1&-tcoor=5&-output=--jd&-observer=500&-tscale=UTC&-type=Asteroid\n",
      "https://ssp.imcce.fr/webservices/miriade/api/ephemcc.php?-name=c%3AC%2F2017+K2&-mime=json&-rplane=1&-tcoor=5&-output=--jd&-observer=500&-tscale=UTC&-type=Asteroid\n",
      "https://ssp.imcce.fr/webservices/miriade/api/ephemcc.php?-name=c%3AC%2F2017+K2&-mime=json&-rplane=1&-tcoor=5&-output=--jd&-observer=500&-tscale=UTC&-type=Asteroid\n",
      "https://ssp.imcce.fr/webservices/miriade/api/ephemcc.php?-name=c%3AC%2F2017+K2&-mime=json&-rplane=1&-tcoor=5&-output=--jd&-observer=500&-tscale=UTC&-type=Asteroid\n",
      "Got 7173 ephemeris rows from Miriade\n",
      "6: C/2022 QE78\n",
      "  Read 2666 observations from data/cadc/C_2022 QE78_cadc.csv in 6 chunks\n",
      "https://ssp.imcce.fr/webservices/miriade/api/ephemcc.php?-name=c%3AC%2F2022+QE78&-mime=json&-rplane=1&-tcoor=5&-output=--jd&-observer=500&-tscale=UTC&-type=Asteroid\n",
      "https://ssp.imcce.fr/webservices/miriade/api/ephemcc.php?-name=c%3AC%2F2022+QE78&-mime=json&-rplane=1&-tcoor=5&-output=--jd&-observer=500&-tscale=UTC&-type=Asteroid\n",
      "https://ssp.imcce.fr/webservices/miriade/api/ephemcc.php?-name=c%3AC%2F2022+QE78&-mime=json&-rplane=1&-tcoor=5&-output=--jd&-observer=500&-tscale=UTC&-type=Asteroid\n",
      "https://ssp.imcce.fr/webservices/miriade/api/ephemcc.php?-name=c%3AC%2F2022+QE78&-mime=json&-rplane=1&-tcoor=5&-output=--jd&-observer=500&-tscale=UTC&-type=Asteroid\n",
      "https://ssp.imcce.fr/webservices/miriade/api/ephemcc.php?-name=c%3AC%2F2022+QE78&-mime=json&-rplane=1&-tcoor=5&-output=--jd&-observer=500&-tscale=UTC&-type=Asteroid\n",
      "https://ssp.imcce.fr/webservices/miriade/api/ephemcc.php?-name=c%3AC%2F2022+QE78&-mime=json&-rplane=1&-tcoor=5&-output=--jd&-observer=500&-tscale=UTC&-type=Asteroid\n",
      "Got 2666 ephemeris rows from Miriade\n",
      "7: C/2022 E2\n",
      "  Read 1331 observations from data/cadc/C_2022 E2_cadc.csv in 3 chunks\n",
      "https://ssp.imcce.fr/webservices/miriade/api/ephemcc.php?-name=c%3AC%2F2022+E2&-mime=json&-rplane=1&-tcoor=5&-output=--jd&-observer=500&-tscale=UTC&-type=Asteroid\n",
      "https://ssp.imcce.fr/webservices/miriade/api/ephemcc.php?-name=c%3AC%2F2022+E2&-mime=json&-rplane=1&-tcoor=5&-output=--jd&-observer=500&-tscale=UTC&-type=Asteroid\n",
      "https://ssp.imcce.fr/webservices/miriade/api/ephemcc.php?-name=c%3AC%2F2022+E2&-mime=json&-rplane=1&-tcoor=5&-output=--jd&-observer=500&-tscale=UTC&-type=Asteroid\n",
      "Got 1331 ephemeris rows from Miriade\n",
      "8: C/2024 E1\n",
      "  Read 1362 observations from data/cadc/C_2024 E1_cadc.csv in 3 chunks\n",
      "https://ssp.imcce.fr/webservices/miriade/api/ephemcc.php?-name=c%3AC%2F2024+E1&-mime=json&-rplane=1&-tcoor=5&-output=--jd&-observer=500&-tscale=UTC&-type=Asteroid\n",
      "https://ssp.imcce.fr/webservices/miriade/api/ephemcc.php?-name=c%3AC%2F2024+E1&-mime=json&-rplane=1&-tcoor=5&-output=--jd&-observer=500&-tscale=UTC&-type=Asteroid\n",
      "https://ssp.imcce.fr/webservices/miriade/api/ephemcc.php?-name=c%3AC%2F2024+E1&-mime=json&-rplane=1&-tcoor=5&-output=--jd&-observer=500&-tscale=UTC&-type=Asteroid\n",
      "Got 1362 ephemeris rows from Miriade\n",
      "9: C/2021 G2\n",
      "  Read 1582 observations from data/cadc/C_2021 G2_cadc.csv in 4 chunks\n",
      "https://ssp.imcce.fr/webservices/miriade/api/ephemcc.php?-name=c%3AC%2F2021+G2&-mime=json&-rplane=1&-tcoor=5&-output=--jd&-observer=500&-tscale=UTC&-type=Asteroid\n",
      "https://ssp.imcce.fr/webservices/miriade/api/ephemcc.php?-name=c%3AC%2F2021+G2&-mime=json&-rplane=1&-tcoor=5&-output=--jd&-observer=500&-tscale=UTC&-type=Asteroid\n",
      "https://ssp.imcce.fr/webservices/miriade/api/ephemcc.php?-name=c%3AC%2F2021+G2&-mime=json&-rplane=1&-tcoor=5&-output=--jd&-observer=500&-tscale=UTC&-type=Asteroid\n",
      "https://ssp.imcce.fr/webservices/miriade/api/ephemcc.php?-name=c%3AC%2F2021+G2&-mime=json&-rplane=1&-tcoor=5&-output=--jd&-observer=500&-tscale=UTC&-type=Asteroid\n",
      "Got 1582 ephemeris rows from Miriade\n",
      "10: C/2023 Q1\n",
      "  Read 1142 observations from data/cadc/C_2023 Q1_cadc.csv in 3 chunks\n",
      "https://ssp.imcce.fr/webservices/miriade/api/ephemcc.php?-name=c%3AC%2F2023+Q1&-mime=json&-rplane=1&-tcoor=5&-output=--jd&-observer=500&-tscale=UTC&-type=Asteroid\n",
      "  Miriade query failed for C/2023 Q1\n",
      "https://ssp.imcce.fr/webservices/miriade/api/ephemcc.php?-name=c%3AC%2F2023+Q1&-mime=json&-rplane=1&-tcoor=5&-output=--jd&-observer=500&-tscale=UTC&-type=Asteroid\n",
      "  Miriade query failed for C/2023 Q1\n",
      "https://ssp.imcce.fr/webservices/miriade/api/ephemcc.php?-name=c%3AC%2F2023+Q1&-mime=json&-rplane=1&-tcoor=5&-output=--jd&-observer=500&-tscale=UTC&-type=Asteroid\n",
      "  Miriade query failed for C/2023 Q1\n",
      "11: C/2023 H5\n",
      "  Read 921 observations from data/cadc/C_2023 H5_cadc.csv in 2 chunks\n",
      "https://ssp.imcce.fr/webservices/miriade/api/ephemcc.php?-name=c%3AC%2F2023+H5&-mime=json&-rplane=1&-tcoor=5&-output=--jd&-observer=500&-tscale=UTC&-type=Asteroid\n",
      "https://ssp.imcce.fr/webservices/miriade/api/ephemcc.php?-name=c%3AC%2F2023+H5&-mime=json&-rplane=1&-tcoor=5&-output=--jd&-observer=500&-tscale=UTC&-type=Asteroid\n",
      "Got 921 ephemeris rows from Miriade\n",
      "12: C/2010 U3\n",
      "  Read 662 observations from data/cadc/C_2010 U3_cadc.csv in 2 chunks\n",
      "https://ssp.imcce.fr/webservices/miriade/api/ephemcc.php?-name=c%3AC%2F2010+U3&-mime=json&-rplane=1&-tcoor=5&-output=--jd&-observer=500&-tscale=UTC&-type=Asteroid\n",
      "https://ssp.imcce.fr/webservices/miriade/api/ephemcc.php?-name=c%3AC%2F2010+U3&-mime=json&-rplane=1&-tcoor=5&-output=--jd&-observer=500&-tscale=UTC&-type=Asteroid\n",
      "Got 662 ephemeris rows from Miriade\n",
      "13: C/2012 K2\n",
      "  Read 1821 observations from data/cadc/C_2012 K2_cadc.csv in 4 chunks\n",
      "https://ssp.imcce.fr/webservices/miriade/api/ephemcc.php?-name=c%3AC%2F2012+K2&-mime=json&-rplane=1&-tcoor=5&-output=--jd&-observer=500&-tscale=UTC&-type=Asteroid\n",
      "  Miriade query failed for C/2012 K2\n",
      "https://ssp.imcce.fr/webservices/miriade/api/ephemcc.php?-name=c%3AC%2F2012+K2&-mime=json&-rplane=1&-tcoor=5&-output=--jd&-observer=500&-tscale=UTC&-type=Asteroid\n",
      "  Miriade query failed for C/2012 K2\n",
      "https://ssp.imcce.fr/webservices/miriade/api/ephemcc.php?-name=c%3AC%2F2012+K2&-mime=json&-rplane=1&-tcoor=5&-output=--jd&-observer=500&-tscale=UTC&-type=Asteroid\n",
      "  Miriade query failed for C/2012 K2\n",
      "https://ssp.imcce.fr/webservices/miriade/api/ephemcc.php?-name=c%3AC%2F2012+K2&-mime=json&-rplane=1&-tcoor=5&-output=--jd&-observer=500&-tscale=UTC&-type=Asteroid\n",
      "  Miriade query failed for C/2012 K2\n",
      "14: C/2013 V2\n",
      "  Read 607 observations from data/cadc/C_2013 V2_cadc.csv in 2 chunks\n",
      "https://ssp.imcce.fr/webservices/miriade/api/ephemcc.php?-name=c%3AC%2F2013+V2&-mime=json&-rplane=1&-tcoor=5&-output=--jd&-observer=500&-tscale=UTC&-type=Asteroid\n",
      "https://ssp.imcce.fr/webservices/miriade/api/ephemcc.php?-name=c%3AC%2F2013+V2&-mime=json&-rplane=1&-tcoor=5&-output=--jd&-observer=500&-tscale=UTC&-type=Asteroid\n",
      "Got 607 ephemeris rows from Miriade\n",
      "15: C/2014 N3\n",
      "  Read 646 observations from data/cadc/C_2014 N3_cadc.csv in 2 chunks\n",
      "https://ssp.imcce.fr/webservices/miriade/api/ephemcc.php?-name=c%3AC%2F2014+N3&-mime=json&-rplane=1&-tcoor=5&-output=--jd&-observer=500&-tscale=UTC&-type=Asteroid\n",
      "https://ssp.imcce.fr/webservices/miriade/api/ephemcc.php?-name=c%3AC%2F2014+N3&-mime=json&-rplane=1&-tcoor=5&-output=--jd&-observer=500&-tscale=UTC&-type=Asteroid\n",
      "Got 646 ephemeris rows from Miriade\n",
      "16: C/2014 S2\n",
      "  Read 679 observations from data/cadc/C_2014 S2_cadc.csv in 2 chunks\n",
      "https://ssp.imcce.fr/webservices/miriade/api/ephemcc.php?-name=c%3AC%2F2014+S2&-mime=json&-rplane=1&-tcoor=5&-output=--jd&-observer=500&-tscale=UTC&-type=Asteroid\n",
      "https://ssp.imcce.fr/webservices/miriade/api/ephemcc.php?-name=c%3AC%2F2014+S2&-mime=json&-rplane=1&-tcoor=5&-output=--jd&-observer=500&-tscale=UTC&-type=Asteroid\n",
      "Got 679 ephemeris rows from Miriade\n",
      "17: C/2014 W2\n",
      "  Read 726 observations from data/cadc/C_2014 W2_cadc.csv in 2 chunks\n",
      "https://ssp.imcce.fr/webservices/miriade/api/ephemcc.php?-name=c%3AC%2F2014+W2&-mime=json&-rplane=1&-tcoor=5&-output=--jd&-observer=500&-tscale=UTC&-type=Asteroid\n",
      "https://ssp.imcce.fr/webservices/miriade/api/ephemcc.php?-name=c%3AC%2F2014+W2&-mime=json&-rplane=1&-tcoor=5&-output=--jd&-observer=500&-tscale=UTC&-type=Asteroid\n",
      "Got 726 ephemeris rows from Miriade\n",
      "18: C/2015 O1\n",
      "  Read 973 observations from data/cadc/C_2015 O1_cadc.csv in 2 chunks\n",
      "https://ssp.imcce.fr/webservices/miriade/api/ephemcc.php?-name=c%3AC%2F2015+O1&-mime=json&-rplane=1&-tcoor=5&-output=--jd&-observer=500&-tscale=UTC&-type=Asteroid\n",
      "https://ssp.imcce.fr/webservices/miriade/api/ephemcc.php?-name=c%3AC%2F2015+O1&-mime=json&-rplane=1&-tcoor=5&-output=--jd&-observer=500&-tscale=UTC&-type=Asteroid\n",
      "Got 973 ephemeris rows from Miriade\n",
      "19: C/2015 V2\n",
      "  Read 1210 observations from data/cadc/C_2015 V2_cadc.csv in 3 chunks\n",
      "https://ssp.imcce.fr/webservices/miriade/api/ephemcc.php?-name=c%3AC%2F2015+V2&-mime=json&-rplane=1&-tcoor=5&-output=--jd&-observer=500&-tscale=UTC&-type=Asteroid\n",
      "https://ssp.imcce.fr/webservices/miriade/api/ephemcc.php?-name=c%3AC%2F2015+V2&-mime=json&-rplane=1&-tcoor=5&-output=--jd&-observer=500&-tscale=UTC&-type=Asteroid\n",
      "https://ssp.imcce.fr/webservices/miriade/api/ephemcc.php?-name=c%3AC%2F2015+V2&-mime=json&-rplane=1&-tcoor=5&-output=--jd&-observer=500&-tscale=UTC&-type=Asteroid\n",
      "Got 1210 ephemeris rows from Miriade\n",
      "20: C/2015 VL62\n",
      "  Read 706 observations from data/cadc/C_2015 VL62_cadc.csv in 2 chunks\n",
      "https://ssp.imcce.fr/webservices/miriade/api/ephemcc.php?-name=c%3AC%2F2015+VL62&-mime=json&-rplane=1&-tcoor=5&-output=--jd&-observer=500&-tscale=UTC&-type=Asteroid\n",
      "  Miriade query failed for C/2015 VL62\n",
      "https://ssp.imcce.fr/webservices/miriade/api/ephemcc.php?-name=c%3AC%2F2015+VL62&-mime=json&-rplane=1&-tcoor=5&-output=--jd&-observer=500&-tscale=UTC&-type=Asteroid\n",
      "  Miriade query failed for C/2015 VL62\n",
      "21: C/2016 N4\n",
      "  Read 1650 observations from data/cadc/C_2016 N4_cadc.csv in 4 chunks\n",
      "https://ssp.imcce.fr/webservices/miriade/api/ephemcc.php?-name=c%3AC%2F2016+N4&-mime=json&-rplane=1&-tcoor=5&-output=--jd&-observer=500&-tscale=UTC&-type=Asteroid\n",
      "https://ssp.imcce.fr/webservices/miriade/api/ephemcc.php?-name=c%3AC%2F2016+N4&-mime=json&-rplane=1&-tcoor=5&-output=--jd&-observer=500&-tscale=UTC&-type=Asteroid\n",
      "https://ssp.imcce.fr/webservices/miriade/api/ephemcc.php?-name=c%3AC%2F2016+N4&-mime=json&-rplane=1&-tcoor=5&-output=--jd&-observer=500&-tscale=UTC&-type=Asteroid\n",
      "https://ssp.imcce.fr/webservices/miriade/api/ephemcc.php?-name=c%3AC%2F2016+N4&-mime=json&-rplane=1&-tcoor=5&-output=--jd&-observer=500&-tscale=UTC&-type=Asteroid\n",
      "Got 1650 ephemeris rows from Miriade\n",
      "22: C/2017 O1\n",
      "  Read 4258 observations from data/cadc/C_2017 O1_cadc.csv in 9 chunks\n",
      "https://ssp.imcce.fr/webservices/miriade/api/ephemcc.php?-name=c%3AC%2F2017+O1&-mime=json&-rplane=1&-tcoor=5&-output=--jd&-observer=500&-tscale=UTC&-type=Asteroid\n",
      "https://ssp.imcce.fr/webservices/miriade/api/ephemcc.php?-name=c%3AC%2F2017+O1&-mime=json&-rplane=1&-tcoor=5&-output=--jd&-observer=500&-tscale=UTC&-type=Asteroid\n",
      "https://ssp.imcce.fr/webservices/miriade/api/ephemcc.php?-name=c%3AC%2F2017+O1&-mime=json&-rplane=1&-tcoor=5&-output=--jd&-observer=500&-tscale=UTC&-type=Asteroid\n",
      "https://ssp.imcce.fr/webservices/miriade/api/ephemcc.php?-name=c%3AC%2F2017+O1&-mime=json&-rplane=1&-tcoor=5&-output=--jd&-observer=500&-tscale=UTC&-type=Asteroid\n",
      "https://ssp.imcce.fr/webservices/miriade/api/ephemcc.php?-name=c%3AC%2F2017+O1&-mime=json&-rplane=1&-tcoor=5&-output=--jd&-observer=500&-tscale=UTC&-type=Asteroid\n",
      "https://ssp.imcce.fr/webservices/miriade/api/ephemcc.php?-name=c%3AC%2F2017+O1&-mime=json&-rplane=1&-tcoor=5&-output=--jd&-observer=500&-tscale=UTC&-type=Asteroid\n",
      "https://ssp.imcce.fr/webservices/miriade/api/ephemcc.php?-name=c%3AC%2F2017+O1&-mime=json&-rplane=1&-tcoor=5&-output=--jd&-observer=500&-tscale=UTC&-type=Asteroid\n",
      "https://ssp.imcce.fr/webservices/miriade/api/ephemcc.php?-name=c%3AC%2F2017+O1&-mime=json&-rplane=1&-tcoor=5&-output=--jd&-observer=500&-tscale=UTC&-type=Asteroid\n",
      "https://ssp.imcce.fr/webservices/miriade/api/ephemcc.php?-name=c%3AC%2F2017+O1&-mime=json&-rplane=1&-tcoor=5&-output=--jd&-observer=500&-tscale=UTC&-type=Asteroid\n",
      "Got 4258 ephemeris rows from Miriade\n",
      "23: C/2018 N2\n",
      "  Read 1730 observations from data/cadc/C_2018 N2_cadc.csv in 4 chunks\n",
      "https://ssp.imcce.fr/webservices/miriade/api/ephemcc.php?-name=c%3AC%2F2018+N2&-mime=json&-rplane=1&-tcoor=5&-output=--jd&-observer=500&-tscale=UTC&-type=Asteroid\n",
      "https://ssp.imcce.fr/webservices/miriade/api/ephemcc.php?-name=c%3AC%2F2018+N2&-mime=json&-rplane=1&-tcoor=5&-output=--jd&-observer=500&-tscale=UTC&-type=Asteroid\n",
      "https://ssp.imcce.fr/webservices/miriade/api/ephemcc.php?-name=c%3AC%2F2018+N2&-mime=json&-rplane=1&-tcoor=5&-output=--jd&-observer=500&-tscale=UTC&-type=Asteroid\n",
      "https://ssp.imcce.fr/webservices/miriade/api/ephemcc.php?-name=c%3AC%2F2018+N2&-mime=json&-rplane=1&-tcoor=5&-output=--jd&-observer=500&-tscale=UTC&-type=Asteroid\n",
      "Got 1730 ephemeris rows from Miriade\n",
      "24: C/2018 U1\n",
      "  Read 1119 observations from data/cadc/C_2018 U1_cadc.csv in 3 chunks\n",
      "https://ssp.imcce.fr/webservices/miriade/api/ephemcc.php?-name=c%3AC%2F2018+U1&-mime=json&-rplane=1&-tcoor=5&-output=--jd&-observer=500&-tscale=UTC&-type=Asteroid\n",
      "https://ssp.imcce.fr/webservices/miriade/api/ephemcc.php?-name=c%3AC%2F2018+U1&-mime=json&-rplane=1&-tcoor=5&-output=--jd&-observer=500&-tscale=UTC&-type=Asteroid\n",
      "https://ssp.imcce.fr/webservices/miriade/api/ephemcc.php?-name=c%3AC%2F2018+U1&-mime=json&-rplane=1&-tcoor=5&-output=--jd&-observer=500&-tscale=UTC&-type=Asteroid\n",
      "Got 1119 ephemeris rows from Miriade\n",
      "25: C/2020 M3\n",
      "  Read 1306 observations from data/cadc/C_2020 M3_cadc.csv in 3 chunks\n",
      "https://ssp.imcce.fr/webservices/miriade/api/ephemcc.php?-name=c%3AC%2F2020+M3&-mime=json&-rplane=1&-tcoor=5&-output=--jd&-observer=500&-tscale=UTC&-type=Asteroid\n",
      "https://ssp.imcce.fr/webservices/miriade/api/ephemcc.php?-name=c%3AC%2F2020+M3&-mime=json&-rplane=1&-tcoor=5&-output=--jd&-observer=500&-tscale=UTC&-type=Asteroid\n",
      "https://ssp.imcce.fr/webservices/miriade/api/ephemcc.php?-name=c%3AC%2F2020+M3&-mime=json&-rplane=1&-tcoor=5&-output=--jd&-observer=500&-tscale=UTC&-type=Asteroid\n",
      "Got 1306 ephemeris rows from Miriade\n",
      "26: C/2020 T2\n",
      "  Read 1214 observations from data/cadc/C_2020 T2_cadc.csv in 3 chunks\n",
      "https://ssp.imcce.fr/webservices/miriade/api/ephemcc.php?-name=c%3AC%2F2020+T2&-mime=json&-rplane=1&-tcoor=5&-output=--jd&-observer=500&-tscale=UTC&-type=Asteroid\n",
      "https://ssp.imcce.fr/webservices/miriade/api/ephemcc.php?-name=c%3AC%2F2020+T2&-mime=json&-rplane=1&-tcoor=5&-output=--jd&-observer=500&-tscale=UTC&-type=Asteroid\n",
      "https://ssp.imcce.fr/webservices/miriade/api/ephemcc.php?-name=c%3AC%2F2020+T2&-mime=json&-rplane=1&-tcoor=5&-output=--jd&-observer=500&-tscale=UTC&-type=Asteroid\n",
      "Got 1214 ephemeris rows from Miriade\n",
      "27: C/2021 A2\n",
      "  Read 957 observations from data/cadc/C_2021 A2_cadc.csv in 2 chunks\n",
      "https://ssp.imcce.fr/webservices/miriade/api/ephemcc.php?-name=c%3AC%2F2021+A2&-mime=json&-rplane=1&-tcoor=5&-output=--jd&-observer=500&-tscale=UTC&-type=Asteroid\n",
      "https://ssp.imcce.fr/webservices/miriade/api/ephemcc.php?-name=c%3AC%2F2021+A2&-mime=json&-rplane=1&-tcoor=5&-output=--jd&-observer=500&-tscale=UTC&-type=Asteroid\n",
      "Got 957 ephemeris rows from Miriade\n",
      "28: 110P\n",
      "  Read 2528 observations from data/cadc/110P_cadc.csv in 6 chunks\n",
      "https://ssp.imcce.fr/webservices/miriade/api/ephemcc.php?-name=c%3A110P&-mime=json&-rplane=1&-tcoor=5&-output=--jd&-observer=500&-tscale=UTC&-type=Asteroid\n",
      "https://ssp.imcce.fr/webservices/miriade/api/ephemcc.php?-name=c%3A110P&-mime=json&-rplane=1&-tcoor=5&-output=--jd&-observer=500&-tscale=UTC&-type=Asteroid\n",
      "https://ssp.imcce.fr/webservices/miriade/api/ephemcc.php?-name=c%3A110P&-mime=json&-rplane=1&-tcoor=5&-output=--jd&-observer=500&-tscale=UTC&-type=Asteroid\n",
      "https://ssp.imcce.fr/webservices/miriade/api/ephemcc.php?-name=c%3A110P&-mime=json&-rplane=1&-tcoor=5&-output=--jd&-observer=500&-tscale=UTC&-type=Asteroid\n",
      "https://ssp.imcce.fr/webservices/miriade/api/ephemcc.php?-name=c%3A110P&-mime=json&-rplane=1&-tcoor=5&-output=--jd&-observer=500&-tscale=UTC&-type=Asteroid\n",
      "https://ssp.imcce.fr/webservices/miriade/api/ephemcc.php?-name=c%3A110P&-mime=json&-rplane=1&-tcoor=5&-output=--jd&-observer=500&-tscale=UTC&-type=Asteroid\n",
      "Got 2528 ephemeris rows from Miriade\n",
      "29: 114P\n",
      "  Read 1404 observations from data/cadc/114P_cadc.csv in 3 chunks\n",
      "https://ssp.imcce.fr/webservices/miriade/api/ephemcc.php?-name=c%3A114P&-mime=json&-rplane=1&-tcoor=5&-output=--jd&-observer=500&-tscale=UTC&-type=Asteroid\n",
      "https://ssp.imcce.fr/webservices/miriade/api/ephemcc.php?-name=c%3A114P&-mime=json&-rplane=1&-tcoor=5&-output=--jd&-observer=500&-tscale=UTC&-type=Asteroid\n",
      "https://ssp.imcce.fr/webservices/miriade/api/ephemcc.php?-name=c%3A114P&-mime=json&-rplane=1&-tcoor=5&-output=--jd&-observer=500&-tscale=UTC&-type=Asteroid\n",
      "Got 1404 ephemeris rows from Miriade\n",
      "30: 123P\n",
      "  Read 1237 observations from data/cadc/123P_cadc.csv in 3 chunks\n",
      "https://ssp.imcce.fr/webservices/miriade/api/ephemcc.php?-name=c%3A123P&-mime=json&-rplane=1&-tcoor=5&-output=--jd&-observer=500&-tscale=UTC&-type=Asteroid\n",
      "https://ssp.imcce.fr/webservices/miriade/api/ephemcc.php?-name=c%3A123P&-mime=json&-rplane=1&-tcoor=5&-output=--jd&-observer=500&-tscale=UTC&-type=Asteroid\n",
      "https://ssp.imcce.fr/webservices/miriade/api/ephemcc.php?-name=c%3A123P&-mime=json&-rplane=1&-tcoor=5&-output=--jd&-observer=500&-tscale=UTC&-type=Asteroid\n",
      "Got 1237 ephemeris rows from Miriade\n",
      "31: 12P\n",
      "  Read 2387 observations from data/cadc/12P_cadc.csv in 5 chunks\n",
      "https://ssp.imcce.fr/webservices/miriade/api/ephemcc.php?-name=c%3A12P&-mime=json&-rplane=1&-tcoor=5&-output=--jd&-observer=500&-tscale=UTC&-type=Asteroid\n",
      "https://ssp.imcce.fr/webservices/miriade/api/ephemcc.php?-name=c%3A12P&-mime=json&-rplane=1&-tcoor=5&-output=--jd&-observer=500&-tscale=UTC&-type=Asteroid\n",
      "https://ssp.imcce.fr/webservices/miriade/api/ephemcc.php?-name=c%3A12P&-mime=json&-rplane=1&-tcoor=5&-output=--jd&-observer=500&-tscale=UTC&-type=Asteroid\n",
      "https://ssp.imcce.fr/webservices/miriade/api/ephemcc.php?-name=c%3A12P&-mime=json&-rplane=1&-tcoor=5&-output=--jd&-observer=500&-tscale=UTC&-type=Asteroid\n",
      "https://ssp.imcce.fr/webservices/miriade/api/ephemcc.php?-name=c%3A12P&-mime=json&-rplane=1&-tcoor=5&-output=--jd&-observer=500&-tscale=UTC&-type=Asteroid\n",
      "Got 2387 ephemeris rows from Miriade\n",
      "32: 156P\n",
      "  Read 1173 observations from data/cadc/156P_cadc.csv in 3 chunks\n",
      "https://ssp.imcce.fr/webservices/miriade/api/ephemcc.php?-name=c%3A156P&-mime=json&-rplane=1&-tcoor=5&-output=--jd&-observer=500&-tscale=UTC&-type=Asteroid\n",
      "https://ssp.imcce.fr/webservices/miriade/api/ephemcc.php?-name=c%3A156P&-mime=json&-rplane=1&-tcoor=5&-output=--jd&-observer=500&-tscale=UTC&-type=Asteroid\n",
      "https://ssp.imcce.fr/webservices/miriade/api/ephemcc.php?-name=c%3A156P&-mime=json&-rplane=1&-tcoor=5&-output=--jd&-observer=500&-tscale=UTC&-type=Asteroid\n",
      "Got 1173 ephemeris rows from Miriade\n",
      "33: 201P\n",
      "  Read 2542 observations from data/cadc/201P_cadc.csv in 6 chunks\n",
      "https://ssp.imcce.fr/webservices/miriade/api/ephemcc.php?-name=c%3A201P&-mime=json&-rplane=1&-tcoor=5&-output=--jd&-observer=500&-tscale=UTC&-type=Asteroid\n",
      "https://ssp.imcce.fr/webservices/miriade/api/ephemcc.php?-name=c%3A201P&-mime=json&-rplane=1&-tcoor=5&-output=--jd&-observer=500&-tscale=UTC&-type=Asteroid\n",
      "https://ssp.imcce.fr/webservices/miriade/api/ephemcc.php?-name=c%3A201P&-mime=json&-rplane=1&-tcoor=5&-output=--jd&-observer=500&-tscale=UTC&-type=Asteroid\n",
      "https://ssp.imcce.fr/webservices/miriade/api/ephemcc.php?-name=c%3A201P&-mime=json&-rplane=1&-tcoor=5&-output=--jd&-observer=500&-tscale=UTC&-type=Asteroid\n",
      "https://ssp.imcce.fr/webservices/miriade/api/ephemcc.php?-name=c%3A201P&-mime=json&-rplane=1&-tcoor=5&-output=--jd&-observer=500&-tscale=UTC&-type=Asteroid\n",
      "https://ssp.imcce.fr/webservices/miriade/api/ephemcc.php?-name=c%3A201P&-mime=json&-rplane=1&-tcoor=5&-output=--jd&-observer=500&-tscale=UTC&-type=Asteroid\n",
      "Got 2542 ephemeris rows from Miriade\n",
      "34: 21P\n",
      "  Read 1775 observations from data/cadc/21P_cadc.csv in 4 chunks\n",
      "https://ssp.imcce.fr/webservices/miriade/api/ephemcc.php?-name=c%3A21P&-mime=json&-rplane=1&-tcoor=5&-output=--jd&-observer=500&-tscale=UTC&-type=Asteroid\n",
      "https://ssp.imcce.fr/webservices/miriade/api/ephemcc.php?-name=c%3A21P&-mime=json&-rplane=1&-tcoor=5&-output=--jd&-observer=500&-tscale=UTC&-type=Asteroid\n",
      "https://ssp.imcce.fr/webservices/miriade/api/ephemcc.php?-name=c%3A21P&-mime=json&-rplane=1&-tcoor=5&-output=--jd&-observer=500&-tscale=UTC&-type=Asteroid\n",
      "https://ssp.imcce.fr/webservices/miriade/api/ephemcc.php?-name=c%3A21P&-mime=json&-rplane=1&-tcoor=5&-output=--jd&-observer=500&-tscale=UTC&-type=Asteroid\n",
      "Got 1775 ephemeris rows from Miriade\n",
      "35: 230P\n",
      "  Read 689 observations from data/cadc/230P_cadc.csv in 2 chunks\n",
      "https://ssp.imcce.fr/webservices/miriade/api/ephemcc.php?-name=c%3A230P&-mime=json&-rplane=1&-tcoor=5&-output=--jd&-observer=500&-tscale=UTC&-type=Asteroid\n",
      "https://ssp.imcce.fr/webservices/miriade/api/ephemcc.php?-name=c%3A230P&-mime=json&-rplane=1&-tcoor=5&-output=--jd&-observer=500&-tscale=UTC&-type=Asteroid\n",
      "Got 689 ephemeris rows from Miriade\n",
      "36: 260P\n",
      "  Read 1821 observations from data/cadc/260P_cadc.csv in 4 chunks\n",
      "https://ssp.imcce.fr/webservices/miriade/api/ephemcc.php?-name=c%3A260P&-mime=json&-rplane=1&-tcoor=5&-output=--jd&-observer=500&-tscale=UTC&-type=Asteroid\n",
      "https://ssp.imcce.fr/webservices/miriade/api/ephemcc.php?-name=c%3A260P&-mime=json&-rplane=1&-tcoor=5&-output=--jd&-observer=500&-tscale=UTC&-type=Asteroid\n",
      "https://ssp.imcce.fr/webservices/miriade/api/ephemcc.php?-name=c%3A260P&-mime=json&-rplane=1&-tcoor=5&-output=--jd&-observer=500&-tscale=UTC&-type=Asteroid\n",
      "https://ssp.imcce.fr/webservices/miriade/api/ephemcc.php?-name=c%3A260P&-mime=json&-rplane=1&-tcoor=5&-output=--jd&-observer=500&-tscale=UTC&-type=Asteroid\n",
      "Got 1821 ephemeris rows from Miriade\n",
      "37: 32P\n",
      "  Read 1466 observations from data/cadc/32P_cadc.csv in 3 chunks\n",
      "https://ssp.imcce.fr/webservices/miriade/api/ephemcc.php?-name=c%3A32P&-mime=json&-rplane=1&-tcoor=5&-output=--jd&-observer=500&-tscale=UTC&-type=Asteroid\n",
      "https://ssp.imcce.fr/webservices/miriade/api/ephemcc.php?-name=c%3A32P&-mime=json&-rplane=1&-tcoor=5&-output=--jd&-observer=500&-tscale=UTC&-type=Asteroid\n",
      "https://ssp.imcce.fr/webservices/miriade/api/ephemcc.php?-name=c%3A32P&-mime=json&-rplane=1&-tcoor=5&-output=--jd&-observer=500&-tscale=UTC&-type=Asteroid\n",
      "Got 1466 ephemeris rows from Miriade\n",
      "38: 38P\n",
      "  Read 2245 observations from data/cadc/38P_cadc.csv in 5 chunks\n",
      "https://ssp.imcce.fr/webservices/miriade/api/ephemcc.php?-name=c%3A38P&-mime=json&-rplane=1&-tcoor=5&-output=--jd&-observer=500&-tscale=UTC&-type=Asteroid\n",
      "https://ssp.imcce.fr/webservices/miriade/api/ephemcc.php?-name=c%3A38P&-mime=json&-rplane=1&-tcoor=5&-output=--jd&-observer=500&-tscale=UTC&-type=Asteroid\n",
      "https://ssp.imcce.fr/webservices/miriade/api/ephemcc.php?-name=c%3A38P&-mime=json&-rplane=1&-tcoor=5&-output=--jd&-observer=500&-tscale=UTC&-type=Asteroid\n",
      "https://ssp.imcce.fr/webservices/miriade/api/ephemcc.php?-name=c%3A38P&-mime=json&-rplane=1&-tcoor=5&-output=--jd&-observer=500&-tscale=UTC&-type=Asteroid\n",
      "https://ssp.imcce.fr/webservices/miriade/api/ephemcc.php?-name=c%3A38P&-mime=json&-rplane=1&-tcoor=5&-output=--jd&-observer=500&-tscale=UTC&-type=Asteroid\n",
      "Got 2245 ephemeris rows from Miriade\n",
      "39: 398P\n",
      "  Read 1497 observations from data/cadc/398P_cadc.csv in 3 chunks\n",
      "https://ssp.imcce.fr/webservices/miriade/api/ephemcc.php?-name=c%3A398P&-mime=json&-rplane=1&-tcoor=5&-output=--jd&-observer=500&-tscale=UTC&-type=Asteroid\n",
      "https://ssp.imcce.fr/webservices/miriade/api/ephemcc.php?-name=c%3A398P&-mime=json&-rplane=1&-tcoor=5&-output=--jd&-observer=500&-tscale=UTC&-type=Asteroid\n",
      "https://ssp.imcce.fr/webservices/miriade/api/ephemcc.php?-name=c%3A398P&-mime=json&-rplane=1&-tcoor=5&-output=--jd&-observer=500&-tscale=UTC&-type=Asteroid\n",
      "Got 1497 ephemeris rows from Miriade\n",
      "40: 4P\n",
      "  Read 1880 observations from data/cadc/4P_cadc.csv in 4 chunks\n",
      "https://ssp.imcce.fr/webservices/miriade/api/ephemcc.php?-name=c%3A4P&-mime=json&-rplane=1&-tcoor=5&-output=--jd&-observer=500&-tscale=UTC&-type=Asteroid\n",
      "https://ssp.imcce.fr/webservices/miriade/api/ephemcc.php?-name=c%3A4P&-mime=json&-rplane=1&-tcoor=5&-output=--jd&-observer=500&-tscale=UTC&-type=Asteroid\n",
      "https://ssp.imcce.fr/webservices/miriade/api/ephemcc.php?-name=c%3A4P&-mime=json&-rplane=1&-tcoor=5&-output=--jd&-observer=500&-tscale=UTC&-type=Asteroid\n",
      "https://ssp.imcce.fr/webservices/miriade/api/ephemcc.php?-name=c%3A4P&-mime=json&-rplane=1&-tcoor=5&-output=--jd&-observer=500&-tscale=UTC&-type=Asteroid\n",
      "Got 1880 ephemeris rows from Miriade\n",
      "41: 64P\n",
      "  Read 2029 observations from data/cadc/64P_cadc.csv in 5 chunks\n",
      "https://ssp.imcce.fr/webservices/miriade/api/ephemcc.php?-name=c%3A64P&-mime=json&-rplane=1&-tcoor=5&-output=--jd&-observer=500&-tscale=UTC&-type=Asteroid\n",
      "https://ssp.imcce.fr/webservices/miriade/api/ephemcc.php?-name=c%3A64P&-mime=json&-rplane=1&-tcoor=5&-output=--jd&-observer=500&-tscale=UTC&-type=Asteroid\n",
      "https://ssp.imcce.fr/webservices/miriade/api/ephemcc.php?-name=c%3A64P&-mime=json&-rplane=1&-tcoor=5&-output=--jd&-observer=500&-tscale=UTC&-type=Asteroid\n",
      "https://ssp.imcce.fr/webservices/miriade/api/ephemcc.php?-name=c%3A64P&-mime=json&-rplane=1&-tcoor=5&-output=--jd&-observer=500&-tscale=UTC&-type=Asteroid\n",
      "https://ssp.imcce.fr/webservices/miriade/api/ephemcc.php?-name=c%3A64P&-mime=json&-rplane=1&-tcoor=5&-output=--jd&-observer=500&-tscale=UTC&-type=Asteroid\n",
      "Got 2029 ephemeris rows from Miriade\n",
      "42: 68P\n",
      "  Read 1169 observations from data/cadc/68P_cadc.csv in 3 chunks\n",
      "https://ssp.imcce.fr/webservices/miriade/api/ephemcc.php?-name=c%3A68P&-mime=json&-rplane=1&-tcoor=5&-output=--jd&-observer=500&-tscale=UTC&-type=Asteroid\n",
      "https://ssp.imcce.fr/webservices/miriade/api/ephemcc.php?-name=c%3A68P&-mime=json&-rplane=1&-tcoor=5&-output=--jd&-observer=500&-tscale=UTC&-type=Asteroid\n",
      "https://ssp.imcce.fr/webservices/miriade/api/ephemcc.php?-name=c%3A68P&-mime=json&-rplane=1&-tcoor=5&-output=--jd&-observer=500&-tscale=UTC&-type=Asteroid\n",
      "Got 1169 ephemeris rows from Miriade\n"
     ]
    }
   ],
   "source": [
    "rows_limit = 500\n",
    "for i, row in df_init[1:].iterrows():\n",
    "    print(f\"{i}: {row['Comet name']}\")\n",
    "    source = df_init.loc[i, 'Comet name']\n",
    "    name = \" \".join(source.split())\n",
    "    filename = f\"data/cadc/{name.replace('/', '_')}_cadc.csv\"\n",
    "    df_obs = pd.read_csv(filename)\n",
    "    \n",
    "    chunks = len(df_obs) // rows_limit + 1\n",
    "    print(f\"  Read {len(df_obs)} observations from {filename} in {chunks} chunks\")\n",
    "\n",
    "    df_comet = None\n",
    "    for chunk in range(chunks):\n",
    "        start = chunk * rows_limit\n",
    "        end = min((chunk + 1) * rows_limit, len(df_obs))\n",
    "        jds = (df_obs['MJD'].values[start:end] + 2400000.5).tolist()\n",
    "        \n",
    "        ephem = ephemcc(name, jds, observer='500', rplane='1', tcoor=5)\n",
    "        if ephem is False:\n",
    "            print(f\"  Miriade query failed for {name}\")\n",
    "            continue\n",
    "        \n",
    "        if df_comet is None:\n",
    "            df_comet = ephem\n",
    "        else:\n",
    "            df_comet = pd.concat([df_comet, ephem], ignore_index=True)\n",
    "\n",
    "    if df_comet is not None:\n",
    "        print(f\"Got {len(df_comet)} ephemeris rows from Miriade\")\n",
    "        df_comet.to_csv(f\"data/miriade/{name.replace('/', '_')}_miriade.csv\", index=False)\n",
    "\n",
    "    "
   ]
  },
  {
   "cell_type": "markdown",
   "metadata": {},
   "source": [
    "# Analysis of the results"
   ]
  },
  {
   "cell_type": "code",
   "execution_count": 36,
   "metadata": {},
   "outputs": [
    {
     "name": "stdout",
     "output_type": "stream",
     "text": [
      "C/2021 S3: merged 2400 rows\n",
      "C/2019 L3: merged 2724 rows\n",
      "C/2019 U5: merged 1826 rows\n",
      "C/2022 N2: merged 2802 rows\n",
      "C/2019 T4: merged 1769 rows\n",
      "C/2017 K2: merged 7173 rows\n",
      "C/2022 QE78: merged 2666 rows\n",
      "C/2022 E2: merged 1331 rows\n",
      "C/2024 E1: merged 1362 rows\n",
      "C/2021 G2: merged 1582 rows\n",
      "C/2023 Q1: Miriade file not found\n",
      "C/2023 H5: merged 921 rows\n",
      "C/2010 U3: merged 662 rows\n",
      "C/2012 K2: Miriade file not found\n",
      "C/2013 V2: merged 607 rows\n",
      "C/2014 N3: merged 646 rows\n",
      "C/2014 S2: merged 679 rows\n",
      "C/2014 W2: merged 726 rows\n",
      "C/2015 O1: merged 973 rows\n",
      "C/2015 V2: merged 1210 rows\n",
      "C/2015 VL62: Miriade file not found\n",
      "C/2016 N4: merged 1650 rows\n",
      "C/2017 O1: merged 4258 rows\n",
      "C/2018 N2: merged 1730 rows\n",
      "C/2018 U1: merged 1119 rows\n",
      "C/2020 M3: merged 1306 rows\n",
      "C/2020 T2: merged 1214 rows\n",
      "C/2021 A2: merged 957 rows\n",
      "110P: merged 2528 rows\n",
      "114P: merged 1404 rows\n",
      "123P: merged 1237 rows\n",
      "12P: merged 2387 rows\n",
      "156P: merged 1173 rows\n",
      "201P: merged 2542 rows\n",
      "21P: merged 1775 rows\n",
      "230P: merged 689 rows\n",
      "260P: merged 1821 rows\n",
      "32P: merged 1466 rows\n",
      "38P: merged 2245 rows\n",
      "398P: merged 1497 rows\n",
      "4P: merged 1880 rows\n",
      "64P: merged 2029 rows\n",
      "68P: merged 1169 rows\n",
      "Total visible observations: 8232\n"
     ]
    }
   ],
   "source": [
    "counts = 0\n",
    "for i, row in df_init[0:].iterrows():\n",
    "    name = \" \".join(row['Comet name'].split())\n",
    "    cadc_filename = f\"data/cadc/{name.replace('/', '_')}_cadc.csv\"\n",
    "    miriade_filename = f\"data/miriade/{name.replace('/', '_')}_miriade.csv\"\n",
    "    try:\n",
    "        df_cadc = pd.read_csv(cadc_filename)\n",
    "    except FileNotFoundError:\n",
    "        print(f\"{name}: CADC file not found\")\n",
    "        continue\n",
    "    \n",
    "    try:\n",
    "        df_miriade = pd.read_csv(miriade_filename)\n",
    "    except FileNotFoundError:\n",
    "        print(f\"{name}: Miriade file not found\")\n",
    "        continue\n",
    "    \n",
    "    df = pd.merge(df_cadc, df_miriade, left_index=True, right_index=True, suffixes=('_cadc', '_miriade'))\n",
    "    print(f\"{name}: merged {len(df)} rows\")\n",
    "    \n",
    "    cond = (df['VMag'] < 18) & (df[\"Telescope/Instrument\"] == \"NEOSSat\")\n",
    "    df_visible = df[cond]\n",
    "    counts += len(df_visible)\n",
    "    # break\n",
    "print(f\"Total visible observations: {counts}\")"
   ]
  },
  {
   "cell_type": "code",
   "execution_count": 34,
   "metadata": {},
   "outputs": [
    {
     "data": {
      "application/vnd.microsoft.datawrangler.viewer.v0+json": {
       "columns": [
        {
         "name": "Telescope/Instrument",
         "rawType": "object",
         "type": "string"
        },
        {
         "name": "count",
         "rawType": "int64",
         "type": "integer"
        }
       ],
       "ref": "78156b16-8784-437d-a99f-870776346ca8",
       "rows": [
        [
         "NEOSSat",
         "1533"
        ],
        [
         "LCO/lsc_1m0a_fa15",
         "13"
        ],
        [
         "ESA-CAHA",
         "12"
        ],
        [
         "CTIO-4m/DECam",
         "8"
        ],
        [
         "ESA-TBT-LaSilla",
         "8"
        ],
        [
         "LCO/lsc_0m4a_kb29",
         "8"
        ],
        [
         "LCO/coj_2m0a_fs01",
         "6"
        ],
        [
         "LCO/cpt_1m0a_fa16",
         "6"
        ],
        [
         "CFHT/MegaCam",
         "5"
        ],
        [
         "LCO/cpt_1m0a_fa06",
         "4"
        ],
        [
         "LCO/lsc_1m0a_fa04",
         "4"
        ],
        [
         "LCO/tfn_1m0a_fa20",
         "4"
        ],
        [
         "ALMA",
         "1"
        ]
       ],
       "shape": {
        "columns": 1,
        "rows": 13
       }
      },
      "text/plain": [
       "Telescope/Instrument\n",
       "NEOSSat              1533\n",
       "LCO/lsc_1m0a_fa15      13\n",
       "ESA-CAHA               12\n",
       "CTIO-4m/DECam           8\n",
       "ESA-TBT-LaSilla         8\n",
       "LCO/lsc_0m4a_kb29       8\n",
       "LCO/coj_2m0a_fs01       6\n",
       "LCO/cpt_1m0a_fa16       6\n",
       "CFHT/MegaCam            5\n",
       "LCO/cpt_1m0a_fa06       4\n",
       "LCO/lsc_1m0a_fa04       4\n",
       "LCO/tfn_1m0a_fa20       4\n",
       "ALMA                    1\n",
       "Name: count, dtype: int64"
      ]
     },
     "execution_count": 34,
     "metadata": {},
     "output_type": "execute_result"
    }
   ],
   "source": [
    "df_visible.value_counts('Telescope/Instrument')"
   ]
  },
  {
   "cell_type": "code",
   "execution_count": null,
   "metadata": {},
   "outputs": [
    {
     "data": {
      "application/vnd.microsoft.datawrangler.viewer.v0+json": {
       "columns": [
        {
         "name": "Telescope/Instrument",
         "rawType": "object",
         "type": "string"
        },
        {
         "name": "count",
         "rawType": "int64",
         "type": "integer"
        }
       ],
       "ref": "276ef813-c910-4877-99d3-68bc8a712642",
       "rows": [
        [
         "NEOSSat",
         "1443"
        ],
        [
         "ZTF",
         "403"
        ],
        [
         "CFHT/MegaCam",
         "108"
        ],
        [
         "ESA-CAHA",
         "99"
        ],
        [
         "LCO/tfn_0m4a_kb95",
         "88"
        ],
        [
         "LCO/tfn_0m4b_kb56",
         "68"
        ],
        [
         "HST/WFC3",
         "63"
        ],
        [
         "ESA-TBT-LaSilla",
         "60"
        ],
        [
         "LCO/tfn_0m4b_kb98",
         "50"
        ],
        [
         "LCO/elp_1m0a_fa05",
         "43"
        ],
        [
         "LCO/elp_0m4a_kb92",
         "38"
        ],
        [
         "LCO/lsc_0m4a_kb98",
         "30"
        ],
        [
         "ALMA",
         "23"
        ],
        [
         "Gemini/GMOS",
         "21"
        ],
        [
         "LCO/ogg_0m4b_kb27",
         "20"
        ],
        [
         "LCO/tfn_0m4a_kb81",
         "20"
        ],
        [
         "LCO/cpt_1m0a_fa06",
         "18"
        ],
        [
         "LCO/lsc_0m4a_kb26",
         "18"
        ],
        [
         "LCO/elp_0m4a_kb55",
         "16"
        ],
        [
         "LCO/cpt_1m0a_fa16",
         "15"
        ],
        [
         "LCO/lsc_1m0a_fa15",
         "15"
        ],
        [
         "WHT/AUXCAM",
         "10"
        ],
        [
         "HST/ACS",
         "10"
        ],
        [
         "CTIO-4m/DECam",
         "8"
        ],
        [
         "LCO/coj_1m0a_fa12",
         "7"
        ],
        [
         "ESA-TBT-Cebreros",
         "6"
        ],
        [
         "LCO/tfn_1m0a_fa11",
         "4"
        ],
        [
         "LCO/elp_1m0a_fa07",
         "4"
        ],
        [
         "LCO/tfn_0m4b_kb23",
         "4"
        ],
        [
         "LCO/coj_0m4a_kb26",
         "4"
        ],
        [
         "LCO/lsc_1m0a_fa04",
         "3"
        ],
        [
         "LCO/tfn_1m0a_fa20",
         "3"
        ],
        [
         "ESA-Tautenburg",
         "2"
        ],
        [
         "LCO/lsc_0m4a_kb29",
         "2"
        ],
        [
         "LCO/tfn_0m4a_kb25",
         "2"
        ]
       ],
       "shape": {
        "columns": 1,
        "rows": 35
       }
      },
      "text/plain": [
       "Telescope/Instrument\n",
       "NEOSSat              1443\n",
       "ZTF                   403\n",
       "CFHT/MegaCam          108\n",
       "ESA-CAHA               99\n",
       "LCO/tfn_0m4a_kb95      88\n",
       "LCO/tfn_0m4b_kb56      68\n",
       "HST/WFC3               63\n",
       "ESA-TBT-LaSilla        60\n",
       "LCO/tfn_0m4b_kb98      50\n",
       "LCO/elp_1m0a_fa05      43\n",
       "LCO/elp_0m4a_kb92      38\n",
       "LCO/lsc_0m4a_kb98      30\n",
       "ALMA                   23\n",
       "Gemini/GMOS            21\n",
       "LCO/ogg_0m4b_kb27      20\n",
       "LCO/tfn_0m4a_kb81      20\n",
       "LCO/cpt_1m0a_fa06      18\n",
       "LCO/lsc_0m4a_kb26      18\n",
       "LCO/elp_0m4a_kb55      16\n",
       "LCO/cpt_1m0a_fa16      15\n",
       "LCO/lsc_1m0a_fa15      15\n",
       "WHT/AUXCAM             10\n",
       "HST/ACS                10\n",
       "CTIO-4m/DECam           8\n",
       "LCO/coj_1m0a_fa12       7\n",
       "ESA-TBT-Cebreros        6\n",
       "LCO/tfn_1m0a_fa11       4\n",
       "LCO/elp_1m0a_fa07       4\n",
       "LCO/tfn_0m4b_kb23       4\n",
       "LCO/coj_0m4a_kb26       4\n",
       "LCO/lsc_1m0a_fa04       3\n",
       "LCO/tfn_1m0a_fa20       3\n",
       "ESA-Tautenburg          2\n",
       "LCO/lsc_0m4a_kb29       2\n",
       "LCO/tfn_0m4a_kb25       2\n",
       "Name: count, dtype: int64"
      ]
     },
     "execution_count": 31,
     "metadata": {},
     "output_type": "execute_result"
    }
   ],
   "source": [
    "# for i, row in df_init[5:].iterrows():\n",
    "#     name = \" \".join(row['Comet name'].split())\n",
    "#     cadc_filename = f\"data/cadc/{name.replace('/', '_')}_cadc.csv\"\n",
    "#     miriade_filename = f\"data/miriade/{name.replace('/', '_')}_miriade.csv\""
   ]
  },
  {
   "cell_type": "markdown",
   "metadata": {},
   "source": [
    "# New list of the comets"
   ]
  },
  {
   "cell_type": "code",
   "execution_count": 4,
   "metadata": {},
   "outputs": [
    {
     "data": {
      "application/vnd.microsoft.datawrangler.viewer.v0+json": {
       "columns": [
        {
         "name": "index",
         "rawType": "int64",
         "type": "integer"
        },
        {
         "name": "Comet",
         "rawType": "object",
         "type": "string"
        }
       ],
       "ref": "635c50ab-b01f-46cb-be45-bcb2c710f30a",
       "rows": [
        [
         "0",
         "C/2004 D1"
        ],
        [
         "1",
         "C/2005 R4"
        ],
        [
         "2",
         "C/2005 T3"
        ],
        [
         "3",
         "C/2006 L1"
        ],
        [
         "4",
         "C/2006 Q1"
        ],
        [
         "5",
         "C/2007 N3"
        ],
        [
         "6",
         "C/2007 R1"
        ],
        [
         "7",
         "C/2008 FK75"
        ],
        [
         "8",
         "C/2009 F2"
        ],
        [
         "9",
         "C/2009 S3"
        ],
        [
         "10",
         "C/2009 U5"
        ],
        [
         "11",
         "C/2010 G2"
        ],
        [
         "12",
         "C/1212 A1"
        ],
        [
         "13",
         "C/2016 R2"
        ],
        [
         "14",
         "C/2023 H5"
        ]
       ],
       "shape": {
        "columns": 1,
        "rows": 15
       }
      },
      "text/html": [
       "<div>\n",
       "<style scoped>\n",
       "    .dataframe tbody tr th:only-of-type {\n",
       "        vertical-align: middle;\n",
       "    }\n",
       "\n",
       "    .dataframe tbody tr th {\n",
       "        vertical-align: top;\n",
       "    }\n",
       "\n",
       "    .dataframe thead th {\n",
       "        text-align: right;\n",
       "    }\n",
       "</style>\n",
       "<table border=\"1\" class=\"dataframe\">\n",
       "  <thead>\n",
       "    <tr style=\"text-align: right;\">\n",
       "      <th></th>\n",
       "      <th>Comet</th>\n",
       "    </tr>\n",
       "  </thead>\n",
       "  <tbody>\n",
       "    <tr>\n",
       "      <th>0</th>\n",
       "      <td>C/2004 D1</td>\n",
       "    </tr>\n",
       "    <tr>\n",
       "      <th>1</th>\n",
       "      <td>C/2005 R4</td>\n",
       "    </tr>\n",
       "    <tr>\n",
       "      <th>2</th>\n",
       "      <td>C/2005 T3</td>\n",
       "    </tr>\n",
       "    <tr>\n",
       "      <th>3</th>\n",
       "      <td>C/2006 L1</td>\n",
       "    </tr>\n",
       "    <tr>\n",
       "      <th>4</th>\n",
       "      <td>C/2006 Q1</td>\n",
       "    </tr>\n",
       "    <tr>\n",
       "      <th>5</th>\n",
       "      <td>C/2007 N3</td>\n",
       "    </tr>\n",
       "    <tr>\n",
       "      <th>6</th>\n",
       "      <td>C/2007 R1</td>\n",
       "    </tr>\n",
       "    <tr>\n",
       "      <th>7</th>\n",
       "      <td>C/2008 FK75</td>\n",
       "    </tr>\n",
       "    <tr>\n",
       "      <th>8</th>\n",
       "      <td>C/2009 F2</td>\n",
       "    </tr>\n",
       "    <tr>\n",
       "      <th>9</th>\n",
       "      <td>C/2009 S3</td>\n",
       "    </tr>\n",
       "    <tr>\n",
       "      <th>10</th>\n",
       "      <td>C/2009 U5</td>\n",
       "    </tr>\n",
       "    <tr>\n",
       "      <th>11</th>\n",
       "      <td>C/2010 G2</td>\n",
       "    </tr>\n",
       "    <tr>\n",
       "      <th>12</th>\n",
       "      <td>C/1212 A1</td>\n",
       "    </tr>\n",
       "    <tr>\n",
       "      <th>13</th>\n",
       "      <td>C/2016 R2</td>\n",
       "    </tr>\n",
       "    <tr>\n",
       "      <th>14</th>\n",
       "      <td>C/2023 H5</td>\n",
       "    </tr>\n",
       "  </tbody>\n",
       "</table>\n",
       "</div>"
      ],
      "text/plain": [
       "          Comet\n",
       "0     C/2004 D1\n",
       "1     C/2005 R4\n",
       "2     C/2005 T3\n",
       "3     C/2006 L1\n",
       "4     C/2006 Q1\n",
       "5     C/2007 N3\n",
       "6     C/2007 R1\n",
       "7   C/2008 FK75\n",
       "8     C/2009 F2\n",
       "9     C/2009 S3\n",
       "10    C/2009 U5\n",
       "11    C/2010 G2\n",
       "12    C/1212 A1\n",
       "13    C/2016 R2\n",
       "14    C/2023 H5"
      ]
     },
     "execution_count": 4,
     "metadata": {},
     "output_type": "execute_result"
    }
   ],
   "source": [
    "l2 = \"C/2004 D1, C/2005 R4, C/2005 T3, C/2006 L1, C/2006 Q1, C/2007 N3, C/2007 R1, C/2008 FK75, C/2009 F2, C/2009 S3, C/2009 U5, C/2010 G2, C/1212 A1, C/2016 R2, C/2023 H5\"\n",
    "df_init = pd.DataFrame({\"Comet\": l2.split(\", \")})\n",
    "df_init"
   ]
  },
  {
   "cell_type": "code",
   "execution_count": 9,
   "metadata": {},
   "outputs": [
    {
     "name": "stdout",
     "output_type": "stream",
     "text": [
      "0: C/2004 D1\n",
      "Querying CADC SSOS for object 'C/2004 D1' between 1990-01-01 00:00:00.000 and 2025-10-09 07:30:09.554\n",
      "https://www.cadc-ccda.hia-iha.nrc-cnrc.gc.ca/cadcbin/ssos/ssosclf.pl?lang=en&object=C%2F2004+D1&search=bynameall&epoch1=47892.0&epoch2=60957.31261057771&format=tsv\n",
      "Returned table has 957 rows\n",
      "1: C/2005 R4\n",
      "Querying CADC SSOS for object 'C/2005 R4' between 1990-01-01 00:00:00.000 and 2025-10-09 07:30:17.522\n",
      "https://www.cadc-ccda.hia-iha.nrc-cnrc.gc.ca/cadcbin/ssos/ssosclf.pl?lang=en&object=C%2F2004+D1&search=bynameall&epoch1=47892.0&epoch2=60957.31261057771&format=tsv\n",
      "Returned table has 957 rows\n",
      "1: C/2005 R4\n",
      "Querying CADC SSOS for object 'C/2005 R4' between 1990-01-01 00:00:00.000 and 2025-10-09 07:30:17.522\n",
      "https://www.cadc-ccda.hia-iha.nrc-cnrc.gc.ca/cadcbin/ssos/ssosclf.pl?lang=en&object=C%2F2005+R4&search=bynameall&epoch1=47892.0&epoch2=60957.31270280004&format=tsv\n",
      "Returned table has 590 rows\n",
      "2: C/2005 T3\n",
      "Querying CADC SSOS for object 'C/2005 T3' between 1990-01-01 00:00:00.000 and 2025-10-09 07:30:25.307\n",
      "https://www.cadc-ccda.hia-iha.nrc-cnrc.gc.ca/cadcbin/ssos/ssosclf.pl?lang=en&object=C%2F2005+R4&search=bynameall&epoch1=47892.0&epoch2=60957.31270280004&format=tsv\n",
      "Returned table has 590 rows\n",
      "2: C/2005 T3\n",
      "Querying CADC SSOS for object 'C/2005 T3' between 1990-01-01 00:00:00.000 and 2025-10-09 07:30:25.307\n",
      "https://www.cadc-ccda.hia-iha.nrc-cnrc.gc.ca/cadcbin/ssos/ssosclf.pl?lang=en&object=C%2F2005+T3&search=bynameall&epoch1=47892.0&epoch2=60957.31279290713&format=tsv\n",
      "Returned table has 1871 rows\n",
      "3: C/2006 L1\n",
      "Querying CADC SSOS for object 'C/2006 L1' between 1990-01-01 00:00:00.000 and 2025-10-09 07:30:32.757\n",
      "https://www.cadc-ccda.hia-iha.nrc-cnrc.gc.ca/cadcbin/ssos/ssosclf.pl?lang=en&object=C%2F2005+T3&search=bynameall&epoch1=47892.0&epoch2=60957.31279290713&format=tsv\n",
      "Returned table has 1871 rows\n",
      "3: C/2006 L1\n",
      "Querying CADC SSOS for object 'C/2006 L1' between 1990-01-01 00:00:00.000 and 2025-10-09 07:30:32.757\n",
      "https://www.cadc-ccda.hia-iha.nrc-cnrc.gc.ca/cadcbin/ssos/ssosclf.pl?lang=en&object=C%2F2006+L1&search=bynameall&epoch1=47892.0&epoch2=60957.312879129604&format=tsv\n",
      "Returned table has 903 rows\n",
      "4: C/2006 Q1\n",
      "Querying CADC SSOS for object 'C/2006 Q1' between 1990-01-01 00:00:00.000 and 2025-10-09 07:30:41.386\n",
      "https://www.cadc-ccda.hia-iha.nrc-cnrc.gc.ca/cadcbin/ssos/ssosclf.pl?lang=en&object=C%2F2006+L1&search=bynameall&epoch1=47892.0&epoch2=60957.312879129604&format=tsv\n",
      "Returned table has 903 rows\n",
      "4: C/2006 Q1\n",
      "Querying CADC SSOS for object 'C/2006 Q1' between 1990-01-01 00:00:00.000 and 2025-10-09 07:30:41.386\n",
      "https://www.cadc-ccda.hia-iha.nrc-cnrc.gc.ca/cadcbin/ssos/ssosclf.pl?lang=en&object=C%2F2006+Q1&search=bynameall&epoch1=47892.0&epoch2=60957.312979004644&format=tsv\n",
      "Returned table has 788 rows\n",
      "5: C/2007 N3\n",
      "Querying CADC SSOS for object 'C/2007 N3' between 1990-01-01 00:00:00.000 and 2025-10-09 07:30:48.569\n",
      "https://www.cadc-ccda.hia-iha.nrc-cnrc.gc.ca/cadcbin/ssos/ssosclf.pl?lang=en&object=C%2F2006+Q1&search=bynameall&epoch1=47892.0&epoch2=60957.312979004644&format=tsv\n",
      "Returned table has 788 rows\n",
      "5: C/2007 N3\n",
      "Querying CADC SSOS for object 'C/2007 N3' between 1990-01-01 00:00:00.000 and 2025-10-09 07:30:48.569\n",
      "https://www.cadc-ccda.hia-iha.nrc-cnrc.gc.ca/cadcbin/ssos/ssosclf.pl?lang=en&object=C%2F2007+N3&search=bynameall&epoch1=47892.0&epoch2=60957.313062136236&format=tsv\n",
      "Returned table has 895 rows\n",
      "6: C/2007 R1\n",
      "Querying CADC SSOS for object 'C/2007 R1' between 1990-01-01 00:00:00.000 and 2025-10-09 07:30:54.972\n",
      "https://www.cadc-ccda.hia-iha.nrc-cnrc.gc.ca/cadcbin/ssos/ssosclf.pl?lang=en&object=C%2F2007+N3&search=bynameall&epoch1=47892.0&epoch2=60957.313062136236&format=tsv\n",
      "Returned table has 895 rows\n",
      "6: C/2007 R1\n",
      "Querying CADC SSOS for object 'C/2007 R1' between 1990-01-01 00:00:00.000 and 2025-10-09 07:30:54.972\n",
      "https://www.cadc-ccda.hia-iha.nrc-cnrc.gc.ca/cadcbin/ssos/ssosclf.pl?lang=en&object=C%2F2007+R1&search=bynameall&epoch1=47892.0&epoch2=60957.3131362538&format=tsv\n",
      "Returned table has 899 rows\n",
      "7: C/2008 FK75\n",
      "Querying CADC SSOS for object 'C/2008 FK75' between 1990-01-01 00:00:00.000 and 2025-10-09 07:31:01.895\n",
      "https://www.cadc-ccda.hia-iha.nrc-cnrc.gc.ca/cadcbin/ssos/ssosclf.pl?lang=en&object=C%2F2007+R1&search=bynameall&epoch1=47892.0&epoch2=60957.3131362538&format=tsv\n",
      "Returned table has 899 rows\n",
      "7: C/2008 FK75\n",
      "Querying CADC SSOS for object 'C/2008 FK75' between 1990-01-01 00:00:00.000 and 2025-10-09 07:31:01.895\n",
      "https://www.cadc-ccda.hia-iha.nrc-cnrc.gc.ca/cadcbin/ssos/ssosclf.pl?lang=en&object=C%2F2008+FK75&search=bynameall&epoch1=47892.0&epoch2=60957.31321637462&format=tsv\n",
      "Returned table has 1368 rows\n",
      "8: C/2009 F2\n",
      "Querying CADC SSOS for object 'C/2009 F2' between 1990-01-01 00:00:00.000 and 2025-10-09 07:31:08.887\n",
      "https://www.cadc-ccda.hia-iha.nrc-cnrc.gc.ca/cadcbin/ssos/ssosclf.pl?lang=en&object=C%2F2008+FK75&search=bynameall&epoch1=47892.0&epoch2=60957.31321637462&format=tsv\n",
      "Returned table has 1368 rows\n",
      "8: C/2009 F2\n",
      "Querying CADC SSOS for object 'C/2009 F2' between 1990-01-01 00:00:00.000 and 2025-10-09 07:31:08.887\n",
      "https://www.cadc-ccda.hia-iha.nrc-cnrc.gc.ca/cadcbin/ssos/ssosclf.pl?lang=en&object=C%2F2009+F2&search=bynameall&epoch1=47892.0&epoch2=60957.31329730023&format=tsv\n",
      "Returned table has 716 rows\n",
      "9: C/2009 S3\n",
      "Querying CADC SSOS for object 'C/2009 S3' between 1990-01-01 00:00:00.000 and 2025-10-09 07:31:16.396\n",
      "https://www.cadc-ccda.hia-iha.nrc-cnrc.gc.ca/cadcbin/ssos/ssosclf.pl?lang=en&object=C%2F2009+F2&search=bynameall&epoch1=47892.0&epoch2=60957.31329730023&format=tsv\n",
      "Returned table has 716 rows\n",
      "9: C/2009 S3\n",
      "Querying CADC SSOS for object 'C/2009 S3' between 1990-01-01 00:00:00.000 and 2025-10-09 07:31:16.396\n",
      "https://www.cadc-ccda.hia-iha.nrc-cnrc.gc.ca/cadcbin/ssos/ssosclf.pl?lang=en&object=C%2F2009+S3&search=bynameall&epoch1=47892.0&epoch2=60957.31338420778&format=tsv\n",
      "Returned table has 1032 rows\n",
      "10: C/2009 U5\n",
      "Querying CADC SSOS for object 'C/2009 U5' between 1990-01-01 00:00:00.000 and 2025-10-09 07:31:23.197\n",
      "https://www.cadc-ccda.hia-iha.nrc-cnrc.gc.ca/cadcbin/ssos/ssosclf.pl?lang=en&object=C%2F2009+S3&search=bynameall&epoch1=47892.0&epoch2=60957.31338420778&format=tsv\n",
      "Returned table has 1032 rows\n",
      "10: C/2009 U5\n",
      "Querying CADC SSOS for object 'C/2009 U5' between 1990-01-01 00:00:00.000 and 2025-10-09 07:31:23.197\n",
      "https://www.cadc-ccda.hia-iha.nrc-cnrc.gc.ca/cadcbin/ssos/ssosclf.pl?lang=en&object=C%2F2009+U5&search=bynameall&epoch1=47892.0&epoch2=60957.31346293103&format=tsv\n",
      "Returned table has 623 rows\n",
      "11: C/2010 G2\n",
      "Querying CADC SSOS for object 'C/2010 G2' between 1990-01-01 00:00:00.000 and 2025-10-09 07:31:30.242\n",
      "https://www.cadc-ccda.hia-iha.nrc-cnrc.gc.ca/cadcbin/ssos/ssosclf.pl?lang=en&object=C%2F2009+U5&search=bynameall&epoch1=47892.0&epoch2=60957.31346293103&format=tsv\n",
      "Returned table has 623 rows\n",
      "11: C/2010 G2\n",
      "Querying CADC SSOS for object 'C/2010 G2' between 1990-01-01 00:00:00.000 and 2025-10-09 07:31:30.242\n",
      "https://www.cadc-ccda.hia-iha.nrc-cnrc.gc.ca/cadcbin/ssos/ssosclf.pl?lang=en&object=C%2F2010+G2&search=bynameall&epoch1=47892.0&epoch2=60957.31354447105&format=tsv\n",
      "Returned table has 828 rows\n",
      "12: C/1212 A1\n",
      "Querying CADC SSOS for object 'C/1212 A1' between 1990-01-01 00:00:00.000 and 2025-10-09 07:31:37.110\n",
      "https://www.cadc-ccda.hia-iha.nrc-cnrc.gc.ca/cadcbin/ssos/ssosclf.pl?lang=en&object=C%2F2010+G2&search=bynameall&epoch1=47892.0&epoch2=60957.31354447105&format=tsv\n",
      "Returned table has 828 rows\n",
      "12: C/1212 A1\n",
      "Querying CADC SSOS for object 'C/1212 A1' between 1990-01-01 00:00:00.000 and 2025-10-09 07:31:37.110\n",
      "https://www.cadc-ccda.hia-iha.nrc-cnrc.gc.ca/cadcbin/ssos/ssosclf.pl?lang=en&object=C%2F1212+A1&search=bynameall&epoch1=47892.0&epoch2=60957.313623955626&format=tsv\n",
      "CADC/SSOS returned an error: There was an error from the JPL Horizons server\n",
      "Retrying with search='bynameCADC'...\n",
      "Querying CADC SSOS for object 'C/1212 A1' between 1990-01-01 00:00:00.000 and 2025-10-09 07:31:38.608\n",
      "https://www.cadc-ccda.hia-iha.nrc-cnrc.gc.ca/cadcbin/ssos/ssosclf.pl?lang=en&object=C%2F1212+A1&search=bynameall&epoch1=47892.0&epoch2=60957.313623955626&format=tsv\n",
      "CADC/SSOS returned an error: There was an error from the JPL Horizons server\n",
      "Retrying with search='bynameCADC'...\n",
      "Querying CADC SSOS for object 'C/1212 A1' between 1990-01-01 00:00:00.000 and 2025-10-09 07:31:38.608\n",
      "https://www.cadc-ccda.hia-iha.nrc-cnrc.gc.ca/cadcbin/ssos/ssosclf.pl?lang=en&object=C%2F1212+A1&search=bynameCADC&epoch1=47892.0&epoch2=60957.313641300614&format=tsv\n",
      "Returned table has 12 rows\n",
      "13: C/2016 R2\n",
      "Querying CADC SSOS for object 'C/2016 R2' between 1990-01-01 00:00:00.000 and 2025-10-09 07:31:39.732\n",
      "https://www.cadc-ccda.hia-iha.nrc-cnrc.gc.ca/cadcbin/ssos/ssosclf.pl?lang=en&object=C%2F1212+A1&search=bynameCADC&epoch1=47892.0&epoch2=60957.313641300614&format=tsv\n",
      "Returned table has 12 rows\n",
      "13: C/2016 R2\n",
      "Querying CADC SSOS for object 'C/2016 R2' between 1990-01-01 00:00:00.000 and 2025-10-09 07:31:39.732\n",
      "https://www.cadc-ccda.hia-iha.nrc-cnrc.gc.ca/cadcbin/ssos/ssosclf.pl?lang=en&object=C%2F2016+R2&search=bynameall&epoch1=47892.0&epoch2=60957.31365430731&format=tsv\n",
      "Returned table has 1823 rows\n",
      "14: C/2023 H5\n",
      "Querying CADC SSOS for object 'C/2023 H5' between 1990-01-01 00:00:00.000 and 2025-10-09 07:31:46.602\n",
      "https://www.cadc-ccda.hia-iha.nrc-cnrc.gc.ca/cadcbin/ssos/ssosclf.pl?lang=en&object=C%2F2016+R2&search=bynameall&epoch1=47892.0&epoch2=60957.31365430731&format=tsv\n",
      "Returned table has 1823 rows\n",
      "14: C/2023 H5\n",
      "Querying CADC SSOS for object 'C/2023 H5' between 1990-01-01 00:00:00.000 and 2025-10-09 07:31:46.602\n",
      "https://www.cadc-ccda.hia-iha.nrc-cnrc.gc.ca/cadcbin/ssos/ssosclf.pl?lang=en&object=C%2F2023+H5&search=bynameall&epoch1=47892.0&epoch2=60957.31373382467&format=tsv\n",
      "Returned table has 921 rows\n",
      "CPU times: user 409 ms, sys: 17.2 ms, total: 426 ms\n",
      "Wall time: 1min 43s\n",
      "https://www.cadc-ccda.hia-iha.nrc-cnrc.gc.ca/cadcbin/ssos/ssosclf.pl?lang=en&object=C%2F2023+H5&search=bynameall&epoch1=47892.0&epoch2=60957.31373382467&format=tsv\n",
      "Returned table has 921 rows\n",
      "CPU times: user 409 ms, sys: 17.2 ms, total: 426 ms\n",
      "Wall time: 1min 43s\n"
     ]
    }
   ],
   "source": [
    "%%time \n",
    "for i, row in df_init.iterrows():\n",
    "    print(f\"{i}: {row['Comet']}\")\n",
    "    source = df_init.loc[i, 'Comet']\n",
    "    name = \" \".join(source.split())\n",
    "\n",
    "    cadc_tab = cadc_ssos_query(name)\n",
    "    print(f\"Returned table has {len(cadc_tab)} rows\")\n",
    "    df_comet = cadc_tab.to_pandas()\n",
    "    df_comet.to_csv(f\"data/cadc2/{name.replace('/', '_')}_cadc.csv\", index=False)\n",
    "    # break\n"
   ]
  },
  {
   "cell_type": "code",
   "execution_count": 16,
   "metadata": {},
   "outputs": [
    {
     "name": "stdout",
     "output_type": "stream",
     "text": [
      "1: C/2005 R4\n",
      "  Read 590 observations from data/cadc2/C_2005 R4_cadc.csv in 1 chunks\n",
      "https://ssp.imcce.fr/webservices/miriade/api/ephemcc.php?-name=c%3AC%2F2005+R4&-mime=json&-rplane=1&-tcoor=5&-output=--jd&-observer=500&-tscale=UTC&-type=Asteroid\n",
      "Got 590 ephemeris rows from Miriade\n",
      "2: C/2005 T3\n",
      "  Read 1871 observations from data/cadc2/C_2005 T3_cadc.csv in 1 chunks\n",
      "https://ssp.imcce.fr/webservices/miriade/api/ephemcc.php?-name=c%3AC%2F2005+R4&-mime=json&-rplane=1&-tcoor=5&-output=--jd&-observer=500&-tscale=UTC&-type=Asteroid\n",
      "Got 590 ephemeris rows from Miriade\n",
      "2: C/2005 T3\n",
      "  Read 1871 observations from data/cadc2/C_2005 T3_cadc.csv in 1 chunks\n",
      "https://ssp.imcce.fr/webservices/miriade/api/ephemcc.php?-name=c%3AC%2F2005+T3&-mime=json&-rplane=1&-tcoor=5&-output=--jd&-observer=500&-tscale=UTC&-type=Asteroid\n",
      "Miriade query failed for C/2005 T3\n",
      "https://ssp.imcce.fr/webservices/miriade/api/ephemcc.php?-name=c%3AC%2F2005+T3&-mime=json&-rplane=1&-tcoor=5&-output=--jd&-observer=500&-tscale=UTC&-type=Asteroid\n",
      "Miriade query failed for C/2005 T3\n",
      "3: C/2006 L1\n",
      "  Read 903 observations from data/cadc2/C_2006 L1_cadc.csv in 1 chunks\n",
      "3: C/2006 L1\n",
      "  Read 903 observations from data/cadc2/C_2006 L1_cadc.csv in 1 chunks\n",
      "https://ssp.imcce.fr/webservices/miriade/api/ephemcc.php?-name=c%3AC%2F2006+L1&-mime=json&-rplane=1&-tcoor=5&-output=--jd&-observer=500&-tscale=UTC&-type=Asteroid\n",
      "Got 903 ephemeris rows from Miriade\n",
      "4: C/2006 Q1\n",
      "  Read 788 observations from data/cadc2/C_2006 Q1_cadc.csv in 1 chunks\n",
      "https://ssp.imcce.fr/webservices/miriade/api/ephemcc.php?-name=c%3AC%2F2006+L1&-mime=json&-rplane=1&-tcoor=5&-output=--jd&-observer=500&-tscale=UTC&-type=Asteroid\n",
      "Got 903 ephemeris rows from Miriade\n",
      "4: C/2006 Q1\n",
      "  Read 788 observations from data/cadc2/C_2006 Q1_cadc.csv in 1 chunks\n",
      "https://ssp.imcce.fr/webservices/miriade/api/ephemcc.php?-name=c%3AC%2F2006+Q1&-mime=json&-rplane=1&-tcoor=5&-output=--jd&-observer=500&-tscale=UTC&-type=Asteroid\n",
      "Got 788 ephemeris rows from Miriade\n",
      "5: C/2007 N3\n",
      "  Read 895 observations from data/cadc2/C_2007 N3_cadc.csv in 1 chunks\n",
      "https://ssp.imcce.fr/webservices/miriade/api/ephemcc.php?-name=c%3AC%2F2006+Q1&-mime=json&-rplane=1&-tcoor=5&-output=--jd&-observer=500&-tscale=UTC&-type=Asteroid\n",
      "Got 788 ephemeris rows from Miriade\n",
      "5: C/2007 N3\n",
      "  Read 895 observations from data/cadc2/C_2007 N3_cadc.csv in 1 chunks\n",
      "https://ssp.imcce.fr/webservices/miriade/api/ephemcc.php?-name=c%3AC%2F2007+N3&-mime=json&-rplane=1&-tcoor=5&-output=--jd&-observer=500&-tscale=UTC&-type=Asteroid\n",
      "Got 895 ephemeris rows from Miriade\n",
      "6: C/2007 R1\n",
      "  Read 899 observations from data/cadc2/C_2007 R1_cadc.csv in 1 chunks\n",
      "https://ssp.imcce.fr/webservices/miriade/api/ephemcc.php?-name=c%3AC%2F2007+N3&-mime=json&-rplane=1&-tcoor=5&-output=--jd&-observer=500&-tscale=UTC&-type=Asteroid\n",
      "Got 895 ephemeris rows from Miriade\n",
      "6: C/2007 R1\n",
      "  Read 899 observations from data/cadc2/C_2007 R1_cadc.csv in 1 chunks\n",
      "https://ssp.imcce.fr/webservices/miriade/api/ephemcc.php?-name=c%3AC%2F2007+R1&-mime=json&-rplane=1&-tcoor=5&-output=--jd&-observer=500&-tscale=UTC&-type=Asteroid\n",
      "Miriade query failed for C/2007 R1\n",
      "https://ssp.imcce.fr/webservices/miriade/api/ephemcc.php?-name=c%3AC%2F2007+R1&-mime=json&-rplane=1&-tcoor=5&-output=--jd&-observer=500&-tscale=UTC&-type=Asteroid\n",
      "Miriade query failed for C/2007 R1\n",
      "7: C/2008 FK75\n",
      "  Read 1368 observations from data/cadc2/C_2008 FK75_cadc.csv in 1 chunks\n",
      "7: C/2008 FK75\n",
      "  Read 1368 observations from data/cadc2/C_2008 FK75_cadc.csv in 1 chunks\n",
      "https://ssp.imcce.fr/webservices/miriade/api/ephemcc.php?-name=c%3AC%2F2008+FK75&-mime=json&-rplane=1&-tcoor=5&-output=--jd&-observer=500&-tscale=UTC&-type=Asteroid\n",
      "Got 1368 ephemeris rows from Miriade\n",
      "8: C/2009 F2\n",
      "  Read 716 observations from data/cadc2/C_2009 F2_cadc.csv in 1 chunks\n",
      "https://ssp.imcce.fr/webservices/miriade/api/ephemcc.php?-name=c%3AC%2F2008+FK75&-mime=json&-rplane=1&-tcoor=5&-output=--jd&-observer=500&-tscale=UTC&-type=Asteroid\n",
      "Got 1368 ephemeris rows from Miriade\n",
      "8: C/2009 F2\n",
      "  Read 716 observations from data/cadc2/C_2009 F2_cadc.csv in 1 chunks\n",
      "https://ssp.imcce.fr/webservices/miriade/api/ephemcc.php?-name=c%3AC%2F2009+F2&-mime=json&-rplane=1&-tcoor=5&-output=--jd&-observer=500&-tscale=UTC&-type=Asteroid\n",
      "Got 716 ephemeris rows from Miriade\n",
      "9: C/2009 S3\n",
      "  Read 1032 observations from data/cadc2/C_2009 S3_cadc.csv in 1 chunks\n",
      "https://ssp.imcce.fr/webservices/miriade/api/ephemcc.php?-name=c%3AC%2F2009+F2&-mime=json&-rplane=1&-tcoor=5&-output=--jd&-observer=500&-tscale=UTC&-type=Asteroid\n",
      "Got 716 ephemeris rows from Miriade\n",
      "9: C/2009 S3\n",
      "  Read 1032 observations from data/cadc2/C_2009 S3_cadc.csv in 1 chunks\n",
      "https://ssp.imcce.fr/webservices/miriade/api/ephemcc.php?-name=c%3AC%2F2009+S3&-mime=json&-rplane=1&-tcoor=5&-output=--jd&-observer=500&-tscale=UTC&-type=Asteroid\n",
      "Got 1032 ephemeris rows from Miriade\n",
      "10: C/2009 U5\n",
      "  Read 623 observations from data/cadc2/C_2009 U5_cadc.csv in 1 chunks\n",
      "https://ssp.imcce.fr/webservices/miriade/api/ephemcc.php?-name=c%3AC%2F2009+S3&-mime=json&-rplane=1&-tcoor=5&-output=--jd&-observer=500&-tscale=UTC&-type=Asteroid\n",
      "Got 1032 ephemeris rows from Miriade\n",
      "10: C/2009 U5\n",
      "  Read 623 observations from data/cadc2/C_2009 U5_cadc.csv in 1 chunks\n",
      "https://ssp.imcce.fr/webservices/miriade/api/ephemcc.php?-name=c%3AC%2F2009+U5&-mime=json&-rplane=1&-tcoor=5&-output=--jd&-observer=500&-tscale=UTC&-type=Asteroid\n",
      "Got 623 ephemeris rows from Miriade\n",
      "11: C/2010 G2\n",
      "  Read 828 observations from data/cadc2/C_2010 G2_cadc.csv in 1 chunks\n",
      "https://ssp.imcce.fr/webservices/miriade/api/ephemcc.php?-name=c%3AC%2F2009+U5&-mime=json&-rplane=1&-tcoor=5&-output=--jd&-observer=500&-tscale=UTC&-type=Asteroid\n",
      "Got 623 ephemeris rows from Miriade\n",
      "11: C/2010 G2\n",
      "  Read 828 observations from data/cadc2/C_2010 G2_cadc.csv in 1 chunks\n",
      "https://ssp.imcce.fr/webservices/miriade/api/ephemcc.php?-name=c%3AC%2F2010+G2&-mime=json&-rplane=1&-tcoor=5&-output=--jd&-observer=500&-tscale=UTC&-type=Asteroid\n",
      "Got 828 ephemeris rows from Miriade\n",
      "12: C/1212 A1\n",
      "  Read 12 observations from data/cadc2/C_1212 A1_cadc.csv in 1 chunks\n",
      "https://ssp.imcce.fr/webservices/miriade/api/ephemcc.php?-name=c%3AC%2F2010+G2&-mime=json&-rplane=1&-tcoor=5&-output=--jd&-observer=500&-tscale=UTC&-type=Asteroid\n",
      "Got 828 ephemeris rows from Miriade\n",
      "12: C/1212 A1\n",
      "  Read 12 observations from data/cadc2/C_1212 A1_cadc.csv in 1 chunks\n",
      "https://ssp.imcce.fr/webservices/miriade/api/ephemcc.php?-name=c%3AC%2F1212+A1&-mime=json&-rplane=1&-tcoor=5&-output=--jd&-observer=500&-tscale=UTC&-type=Asteroid\n",
      "Miriade query failed for C/1212 A1\n",
      "https://ssp.imcce.fr/webservices/miriade/api/ephemcc.php?-name=c%3AC%2F1212+A1&-mime=json&-rplane=1&-tcoor=5&-output=--jd&-observer=500&-tscale=UTC&-type=Asteroid\n",
      "Miriade query failed for C/1212 A1\n",
      "13: C/2016 R2\n",
      "  Read 1823 observations from data/cadc2/C_2016 R2_cadc.csv in 1 chunks\n",
      "13: C/2016 R2\n",
      "  Read 1823 observations from data/cadc2/C_2016 R2_cadc.csv in 1 chunks\n",
      "https://ssp.imcce.fr/webservices/miriade/api/ephemcc.php?-name=c%3AC%2F2016+R2&-mime=json&-rplane=1&-tcoor=5&-output=--jd&-observer=500&-tscale=UTC&-type=Asteroid\n",
      "Got 1823 ephemeris rows from Miriade\n",
      "14: C/2023 H5\n",
      "  Read 921 observations from data/cadc2/C_2023 H5_cadc.csv in 1 chunks\n",
      "https://ssp.imcce.fr/webservices/miriade/api/ephemcc.php?-name=c%3AC%2F2016+R2&-mime=json&-rplane=1&-tcoor=5&-output=--jd&-observer=500&-tscale=UTC&-type=Asteroid\n",
      "Got 1823 ephemeris rows from Miriade\n",
      "14: C/2023 H5\n",
      "  Read 921 observations from data/cadc2/C_2023 H5_cadc.csv in 1 chunks\n",
      "https://ssp.imcce.fr/webservices/miriade/api/ephemcc.php?-name=c%3AC%2F2023+H5&-mime=json&-rplane=1&-tcoor=5&-output=--jd&-observer=500&-tscale=UTC&-type=Asteroid\n",
      "Got 921 ephemeris rows from Miriade\n",
      "https://ssp.imcce.fr/webservices/miriade/api/ephemcc.php?-name=c%3AC%2F2023+H5&-mime=json&-rplane=1&-tcoor=5&-output=--jd&-observer=500&-tscale=UTC&-type=Asteroid\n",
      "Got 921 ephemeris rows from Miriade\n"
     ]
    }
   ],
   "source": [
    "rows_limit = 2000\n",
    "for i, row in df_init[1:].iterrows():\n",
    "    print(f\"{i}: {row['Comet']}\")\n",
    "    source = df_init.loc[i, 'Comet']\n",
    "    name = \" \".join(source.split())\n",
    "    filename = f\"data/cadc2/{name.replace('/', '_')}_cadc.csv\"\n",
    "    df_obs = pd.read_csv(filename)\n",
    "    \n",
    "    chunks = len(df_obs) // rows_limit + 1\n",
    "    print(f\"  Read {len(df_obs)} observations from {filename} in {chunks} chunks\")\n",
    "\n",
    "    df_comet = None\n",
    "    for chunk in range(chunks):\n",
    "        start = chunk * rows_limit\n",
    "        end = min((chunk + 1) * rows_limit, len(df_obs))\n",
    "        jds = (df_obs['MJD'].values[start:end] + 2400000.5).tolist()\n",
    "        \n",
    "        ephem = ephemcc(name, jds, observer='500', rplane='1', tcoor=5)\n",
    "        if ephem is False:\n",
    "            print(f\"Miriade query failed for {name}\")\n",
    "            time.sleep(1)\n",
    "            continue\n",
    "        \n",
    "        if df_comet is None:\n",
    "            df_comet = ephem\n",
    "        else:\n",
    "            df_comet = pd.concat([df_comet, ephem], ignore_index=True)\n",
    "\n",
    "    if df_comet is not None:\n",
    "        print(f\"Got {len(df_comet)} ephemeris rows from Miriade\")\n",
    "        df_comet.to_csv(f\"data/miriade2/{name.replace('/', '_')}_miriade.csv\", index=False)"
   ]
  },
  {
   "cell_type": "code",
   "execution_count": 19,
   "metadata": {},
   "outputs": [
    {
     "name": "stdout",
     "output_type": "stream",
     "text": [
      "C/2004 D1: Miriade file not found\n",
      "C/2005 R4: merged 590 rows\n"
     ]
    },
    {
     "data": {
      "application/vnd.microsoft.datawrangler.viewer.v0+json": {
       "columns": [
        {
         "name": "Telescope/Instrument",
         "rawType": "object",
         "type": "string"
        },
        {
         "name": "count",
         "rawType": "int64",
         "type": "integer"
        }
       ],
       "ref": "c40f619e-f28f-4409-b2b4-62dadcc41d59",
       "rows": [
        [
         "WISE",
         "168"
        ],
        [
         "Pan-STARRS1",
         "119"
        ],
        [
         "ZTF",
         "105"
        ],
        [
         "Skymapper",
         "60"
        ],
        [
         "NEOSSat",
         "32"
        ],
        [
         "ESO-VISTA/VIRCAM",
         "24"
        ],
        [
         "INT/WFC",
         "20"
        ],
        [
         "CTIO-4m/DECam",
         "12"
        ],
        [
         "CFHT/MegaCam",
         "9"
        ],
        [
         "ESA-LSSS-Centurion2",
         "9"
        ],
        [
         "LCO/cpt_1m0a_fa06",
         "7"
        ],
        [
         "LCO/cpt_1m0a_fa16",
         "7"
        ],
        [
         "LCO/coj_1m0a_fa12",
         "6"
        ],
        [
         "NEAT-GEODSS-Maui",
         "6"
        ],
        [
         "ALMA",
         "5"
        ],
        [
         "LCO/elp_1m0a_fa07",
         "1"
        ]
       ],
       "shape": {
        "columns": 1,
        "rows": 16
       }
      },
      "text/plain": [
       "Telescope/Instrument\n",
       "WISE                   168\n",
       "Pan-STARRS1            119\n",
       "ZTF                    105\n",
       "Skymapper               60\n",
       "NEOSSat                 32\n",
       "ESO-VISTA/VIRCAM        24\n",
       "INT/WFC                 20\n",
       "CTIO-4m/DECam           12\n",
       "CFHT/MegaCam             9\n",
       "ESA-LSSS-Centurion2      9\n",
       "LCO/cpt_1m0a_fa06        7\n",
       "LCO/cpt_1m0a_fa16        7\n",
       "LCO/coj_1m0a_fa12        6\n",
       "NEAT-GEODSS-Maui         6\n",
       "ALMA                     5\n",
       "LCO/elp_1m0a_fa07        1\n",
       "Name: count, dtype: int64"
      ]
     },
     "metadata": {},
     "output_type": "display_data"
    },
    {
     "name": "stdout",
     "output_type": "stream",
     "text": [
      "C/2005 T3: Miriade file not found\n",
      "C/2006 L1: merged 903 rows\n"
     ]
    },
    {
     "data": {
      "application/vnd.microsoft.datawrangler.viewer.v0+json": {
       "columns": [
        {
         "name": "Telescope/Instrument",
         "rawType": "object",
         "type": "string"
        },
        {
         "name": "count",
         "rawType": "int64",
         "type": "integer"
        }
       ],
       "ref": "6e9e986c-a136-46ee-9124-9b4b81d21e96",
       "rows": [
        [
         "WISE",
         "295"
        ],
        [
         "ZTF",
         "235"
        ],
        [
         "CTIO-4m/DECam",
         "147"
        ],
        [
         "Pan-STARRS1",
         "113"
        ],
        [
         "ESA-CAHA",
         "53"
        ],
        [
         "ESA-LSSS-Centurion3",
         "15"
        ],
        [
         "SDSS",
         "15"
        ],
        [
         "ESA-LSSS-Centurion2",
         "12"
        ],
        [
         "ALMA",
         "6"
        ],
        [
         "ESO-VST/OMEGACAM",
         "6"
        ],
        [
         "ESA-LSSS-Centurion1",
         "3"
        ],
        [
         "ESO-LaSilla_2.2m/WFI",
         "2"
        ],
        [
         "Subaru/HSC",
         "1"
        ]
       ],
       "shape": {
        "columns": 1,
        "rows": 13
       }
      },
      "text/plain": [
       "Telescope/Instrument\n",
       "WISE                    295\n",
       "ZTF                     235\n",
       "CTIO-4m/DECam           147\n",
       "Pan-STARRS1             113\n",
       "ESA-CAHA                 53\n",
       "ESA-LSSS-Centurion3      15\n",
       "SDSS                     15\n",
       "ESA-LSSS-Centurion2      12\n",
       "ALMA                      6\n",
       "ESO-VST/OMEGACAM          6\n",
       "ESA-LSSS-Centurion1       3\n",
       "ESO-LaSilla_2.2m/WFI      2\n",
       "Subaru/HSC                1\n",
       "Name: count, dtype: int64"
      ]
     },
     "metadata": {},
     "output_type": "display_data"
    },
    {
     "name": "stdout",
     "output_type": "stream",
     "text": [
      "C/2006 Q1: merged 788 rows\n"
     ]
    },
    {
     "data": {
      "application/vnd.microsoft.datawrangler.viewer.v0+json": {
       "columns": [
        {
         "name": "Telescope/Instrument",
         "rawType": "object",
         "type": "string"
        },
        {
         "name": "count",
         "rawType": "int64",
         "type": "integer"
        }
       ],
       "ref": "cec49138-0872-4f95-9a61-0260e2f84394",
       "rows": [
        [
         "WISE",
         "354"
        ],
        [
         "ZTF",
         "275"
        ],
        [
         "Pan-STARRS1",
         "108"
        ],
        [
         "ESO-NTT/EMMI",
         "18"
        ],
        [
         "INT/WFC",
         "14"
        ],
        [
         "SDSS",
         "10"
        ],
        [
         "KPNO-0.9m/Mosaic1.1",
         "3"
        ],
        [
         "ALMA",
         "2"
        ],
        [
         "LCO/ogg_0m4b_kb27",
         "2"
        ],
        [
         "CFHT/MegaCam",
         "1"
        ],
        [
         "KPNO-4m/Mosaic1.1",
         "1"
        ]
       ],
       "shape": {
        "columns": 1,
        "rows": 11
       }
      },
      "text/plain": [
       "Telescope/Instrument\n",
       "WISE                   354\n",
       "ZTF                    275\n",
       "Pan-STARRS1            108\n",
       "ESO-NTT/EMMI            18\n",
       "INT/WFC                 14\n",
       "SDSS                    10\n",
       "KPNO-0.9m/Mosaic1.1      3\n",
       "ALMA                     2\n",
       "LCO/ogg_0m4b_kb27        2\n",
       "CFHT/MegaCam             1\n",
       "KPNO-4m/Mosaic1.1        1\n",
       "Name: count, dtype: int64"
      ]
     },
     "metadata": {},
     "output_type": "display_data"
    },
    {
     "name": "stdout",
     "output_type": "stream",
     "text": [
      "C/2007 N3: merged 895 rows\n"
     ]
    },
    {
     "data": {
      "application/vnd.microsoft.datawrangler.viewer.v0+json": {
       "columns": [
        {
         "name": "Telescope/Instrument",
         "rawType": "object",
         "type": "string"
        },
        {
         "name": "count",
         "rawType": "int64",
         "type": "integer"
        }
       ],
       "ref": "c853fbfc-89b3-4c88-a6fd-5e0c58b43b09",
       "rows": [
        [
         "WISE",
         "269"
        ],
        [
         "ZTF",
         "224"
        ],
        [
         "Pan-STARRS1",
         "131"
        ],
        [
         "CTIO-4m/DECam",
         "53"
        ],
        [
         "ESA-CAHA",
         "40"
        ],
        [
         "CFHT/MegaCam",
         "39"
        ],
        [
         "Subaru/HSC",
         "30"
        ],
        [
         "ESO-NTT/EFOSC",
         "18"
        ],
        [
         "Subaru/SuprimeCam",
         "16"
        ],
        [
         "ALMA",
         "16"
        ],
        [
         "ESA-OGS-ESACCD2",
         "13"
        ],
        [
         "NEAT-GEODSS-Maui",
         "12"
        ],
        [
         "ESA-LSSS-Centurion2",
         "12"
        ],
        [
         "ESA-LSSS-Centurion1",
         "9"
        ],
        [
         "ESO-VST/OMEGACAM",
         "5"
        ],
        [
         "ESO-LaSilla_2.2m/WFI",
         "4"
        ],
        [
         "ESA-LSSS-Centurion3",
         "3"
        ],
        [
         "NEOSSat",
         "1"
        ]
       ],
       "shape": {
        "columns": 1,
        "rows": 18
       }
      },
      "text/plain": [
       "Telescope/Instrument\n",
       "WISE                    269\n",
       "ZTF                     224\n",
       "Pan-STARRS1             131\n",
       "CTIO-4m/DECam            53\n",
       "ESA-CAHA                 40\n",
       "CFHT/MegaCam             39\n",
       "Subaru/HSC               30\n",
       "ESO-NTT/EFOSC            18\n",
       "Subaru/SuprimeCam        16\n",
       "ALMA                     16\n",
       "ESA-OGS-ESACCD2          13\n",
       "NEAT-GEODSS-Maui         12\n",
       "ESA-LSSS-Centurion2      12\n",
       "ESA-LSSS-Centurion1       9\n",
       "ESO-VST/OMEGACAM          5\n",
       "ESO-LaSilla_2.2m/WFI      4\n",
       "ESA-LSSS-Centurion3       3\n",
       "NEOSSat                   1\n",
       "Name: count, dtype: int64"
      ]
     },
     "metadata": {},
     "output_type": "display_data"
    },
    {
     "name": "stdout",
     "output_type": "stream",
     "text": [
      "C/2007 R1: Miriade file not found\n",
      "C/2008 FK75: merged 1368 rows\n"
     ]
    },
    {
     "data": {
      "application/vnd.microsoft.datawrangler.viewer.v0+json": {
       "columns": [
        {
         "name": "Telescope/Instrument",
         "rawType": "object",
         "type": "string"
        },
        {
         "name": "count",
         "rawType": "int64",
         "type": "integer"
        }
       ],
       "ref": "d6a5f1cf-ae0f-4f0a-ae90-a6d4f1c97250",
       "rows": [
        [
         "CTIO-4m/DECam",
         "541"
        ],
        [
         "WISE",
         "284"
        ],
        [
         "ZTF",
         "221"
        ],
        [
         "Pan-STARRS1",
         "120"
        ],
        [
         "Gemini/GMOS",
         "85"
        ],
        [
         "ESO-VISTA/VIRCAM",
         "54"
        ],
        [
         "ESA-LSSS-Centurion2",
         "20"
        ],
        [
         "Subaru/HSC",
         "12"
        ],
        [
         "LCO/lsc_1m0a_fl15",
         "10"
        ],
        [
         "ESA-LSSS-Centurion1",
         "9"
        ],
        [
         "ESA-LSSS-Centurion3",
         "6"
        ],
        [
         "ALMA",
         "3"
        ],
        [
         "Skymapper",
         "2"
        ],
        [
         "LCO/tfn_0m4a_kb29",
         "1"
        ]
       ],
       "shape": {
        "columns": 1,
        "rows": 14
       }
      },
      "text/plain": [
       "Telescope/Instrument\n",
       "CTIO-4m/DECam          541\n",
       "WISE                   284\n",
       "ZTF                    221\n",
       "Pan-STARRS1            120\n",
       "Gemini/GMOS             85\n",
       "ESO-VISTA/VIRCAM        54\n",
       "ESA-LSSS-Centurion2     20\n",
       "Subaru/HSC              12\n",
       "LCO/lsc_1m0a_fl15       10\n",
       "ESA-LSSS-Centurion1      9\n",
       "ESA-LSSS-Centurion3      6\n",
       "ALMA                     3\n",
       "Skymapper                2\n",
       "LCO/tfn_0m4a_kb29        1\n",
       "Name: count, dtype: int64"
      ]
     },
     "metadata": {},
     "output_type": "display_data"
    },
    {
     "name": "stdout",
     "output_type": "stream",
     "text": [
      "C/2009 F2: merged 716 rows\n"
     ]
    },
    {
     "data": {
      "application/vnd.microsoft.datawrangler.viewer.v0+json": {
       "columns": [
        {
         "name": "Telescope/Instrument",
         "rawType": "object",
         "type": "string"
        },
        {
         "name": "count",
         "rawType": "int64",
         "type": "integer"
        }
       ],
       "ref": "0aa2d130-2dcd-41a9-bdcb-06ceed8e8f8f",
       "rows": [
        [
         "WISE",
         "265"
        ],
        [
         "ZTF",
         "260"
        ],
        [
         "Pan-STARRS1",
         "124"
        ],
        [
         "KPNO-2.3m/90prime",
         "12"
        ],
        [
         "CFHT/MegaCam",
         "10"
        ],
        [
         "ESA-LSSS-Centurion1",
         "9"
        ],
        [
         "ESA-CAHA",
         "8"
        ],
        [
         "ESA-LSSS-Centurion2",
         "6"
        ],
        [
         "SOAR/SOI",
         "6"
        ],
        [
         "ALMA",
         "5"
        ],
        [
         "LCO/elp_1m0a_fa05",
         "4"
        ],
        [
         "ESA-LSSS-Centurion3",
         "3"
        ],
        [
         "LCO/tfn_0m4a_kb29",
         "2"
        ],
        [
         "NEOSSat",
         "2"
        ]
       ],
       "shape": {
        "columns": 1,
        "rows": 14
       }
      },
      "text/plain": [
       "Telescope/Instrument\n",
       "WISE                   265\n",
       "ZTF                    260\n",
       "Pan-STARRS1            124\n",
       "KPNO-2.3m/90prime       12\n",
       "CFHT/MegaCam            10\n",
       "ESA-LSSS-Centurion1      9\n",
       "ESA-CAHA                 8\n",
       "ESA-LSSS-Centurion2      6\n",
       "SOAR/SOI                 6\n",
       "ALMA                     5\n",
       "LCO/elp_1m0a_fa05        4\n",
       "ESA-LSSS-Centurion3      3\n",
       "LCO/tfn_0m4a_kb29        2\n",
       "NEOSSat                  2\n",
       "Name: count, dtype: int64"
      ]
     },
     "metadata": {},
     "output_type": "display_data"
    },
    {
     "name": "stdout",
     "output_type": "stream",
     "text": [
      "C/2009 S3: merged 1032 rows\n"
     ]
    },
    {
     "data": {
      "application/vnd.microsoft.datawrangler.viewer.v0+json": {
       "columns": [
        {
         "name": "Telescope/Instrument",
         "rawType": "object",
         "type": "string"
        },
        {
         "name": "count",
         "rawType": "int64",
         "type": "integer"
        }
       ],
       "ref": "30fb9dbb-f583-4188-b803-b2b9e768c2a0",
       "rows": [
        [
         "WISE",
         "379"
        ],
        [
         "LCO/lsc_1m0a_kb11",
         "127"
        ],
        [
         "CTIO-4m/DECam",
         "126"
        ],
        [
         "Pan-STARRS1",
         "121"
        ],
        [
         "ZTF",
         "80"
        ],
        [
         "ESO-LaSilla_2.2m/WFI",
         "57"
        ],
        [
         "ESO-VISTA/VIRCAM",
         "54"
        ],
        [
         "Skymapper",
         "29"
        ],
        [
         "ESA-LSSS-Centurion2",
         "24"
        ],
        [
         "NEAT-GEODSS-Maui",
         "15"
        ],
        [
         "ALMA",
         "3"
        ],
        [
         "CFHT/MegaCam",
         "3"
        ],
        [
         "ESA-LSSS-Centurion3",
         "3"
        ],
        [
         "ESA-LSSS-Centurion1",
         "3"
        ],
        [
         "LCO/tfn_0m4a_kb25",
         "2"
        ],
        [
         "Subaru/SuprimeCam",
         "2"
        ],
        [
         "LCO/coj_0m4a_kb24",
         "2"
        ],
        [
         "LCO/ogg_0m4c_kb82",
         "1"
        ],
        [
         "ESA-TBT-LaSilla",
         "1"
        ]
       ],
       "shape": {
        "columns": 1,
        "rows": 19
       }
      },
      "text/plain": [
       "Telescope/Instrument\n",
       "WISE                    379\n",
       "LCO/lsc_1m0a_kb11       127\n",
       "CTIO-4m/DECam           126\n",
       "Pan-STARRS1             121\n",
       "ZTF                      80\n",
       "ESO-LaSilla_2.2m/WFI     57\n",
       "ESO-VISTA/VIRCAM         54\n",
       "Skymapper                29\n",
       "ESA-LSSS-Centurion2      24\n",
       "NEAT-GEODSS-Maui         15\n",
       "ALMA                      3\n",
       "CFHT/MegaCam              3\n",
       "ESA-LSSS-Centurion3       3\n",
       "ESA-LSSS-Centurion1       3\n",
       "LCO/tfn_0m4a_kb25         2\n",
       "Subaru/SuprimeCam         2\n",
       "LCO/coj_0m4a_kb24         2\n",
       "LCO/ogg_0m4c_kb82         1\n",
       "ESA-TBT-LaSilla           1\n",
       "Name: count, dtype: int64"
      ]
     },
     "metadata": {},
     "output_type": "display_data"
    },
    {
     "name": "stdout",
     "output_type": "stream",
     "text": [
      "C/2009 U5: merged 623 rows\n"
     ]
    },
    {
     "data": {
      "application/vnd.microsoft.datawrangler.viewer.v0+json": {
       "columns": [
        {
         "name": "Telescope/Instrument",
         "rawType": "object",
         "type": "string"
        },
        {
         "name": "count",
         "rawType": "int64",
         "type": "integer"
        }
       ],
       "ref": "b9028b99-6558-4d54-bf9d-3bccc5195c94",
       "rows": [
        [
         "WISE",
         "184"
        ],
        [
         "CTIO-4m/DECam",
         "172"
        ],
        [
         "Pan-STARRS1",
         "128"
        ],
        [
         "ZTF",
         "111"
        ],
        [
         "Skymapper",
         "10"
        ],
        [
         "ALMA",
         "8"
        ],
        [
         "ESA-LSSS-Centurion1",
         "6"
        ],
        [
         "ESA-LSSS-Centurion2",
         "3"
        ],
        [
         "NEOSSat",
         "1"
        ]
       ],
       "shape": {
        "columns": 1,
        "rows": 9
       }
      },
      "text/plain": [
       "Telescope/Instrument\n",
       "WISE                   184\n",
       "CTIO-4m/DECam          172\n",
       "Pan-STARRS1            128\n",
       "ZTF                    111\n",
       "Skymapper               10\n",
       "ALMA                     8\n",
       "ESA-LSSS-Centurion1      6\n",
       "ESA-LSSS-Centurion2      3\n",
       "NEOSSat                  1\n",
       "Name: count, dtype: int64"
      ]
     },
     "metadata": {},
     "output_type": "display_data"
    },
    {
     "name": "stdout",
     "output_type": "stream",
     "text": [
      "C/2010 G2: merged 828 rows\n"
     ]
    },
    {
     "data": {
      "application/vnd.microsoft.datawrangler.viewer.v0+json": {
       "columns": [
        {
         "name": "Telescope/Instrument",
         "rawType": "object",
         "type": "string"
        },
        {
         "name": "count",
         "rawType": "int64",
         "type": "integer"
        }
       ],
       "ref": "0e3b30a8-dd53-447f-9359-3c02a01afe2a",
       "rows": [
        [
         "WISE",
         "496"
        ],
        [
         "CTIO-4m/DECam",
         "122"
        ],
        [
         "ESO-VISTA/VIRCAM",
         "94"
        ],
        [
         "Pan-STARRS1",
         "54"
        ],
        [
         "ESO-VLT/FORS2",
         "36"
        ],
        [
         "CFHT/MegaCam",
         "8"
        ],
        [
         "Skymapper",
         "8"
        ],
        [
         "ESA-TBT-LaSilla",
         "6"
        ],
        [
         "ESO-LaSilla_2.2m/WFI",
         "2"
        ],
        [
         "NEOSSat",
         "2"
        ]
       ],
       "shape": {
        "columns": 1,
        "rows": 10
       }
      },
      "text/plain": [
       "Telescope/Instrument\n",
       "WISE                    496\n",
       "CTIO-4m/DECam           122\n",
       "ESO-VISTA/VIRCAM         94\n",
       "Pan-STARRS1              54\n",
       "ESO-VLT/FORS2            36\n",
       "CFHT/MegaCam              8\n",
       "Skymapper                 8\n",
       "ESA-TBT-LaSilla           6\n",
       "ESO-LaSilla_2.2m/WFI      2\n",
       "NEOSSat                   2\n",
       "Name: count, dtype: int64"
      ]
     },
     "metadata": {},
     "output_type": "display_data"
    },
    {
     "name": "stdout",
     "output_type": "stream",
     "text": [
      "C/1212 A1: Miriade file not found\n",
      "C/2016 R2: merged 1823 rows\n"
     ]
    },
    {
     "data": {
      "application/vnd.microsoft.datawrangler.viewer.v0+json": {
       "columns": [
        {
         "name": "Telescope/Instrument",
         "rawType": "object",
         "type": "string"
        },
        {
         "name": "count",
         "rawType": "int64",
         "type": "integer"
        }
       ],
       "ref": "b558a4bf-b5dd-49c4-bd28-5746bd57d075",
       "rows": [
        [
         "CTIO-4m/DECam",
         "487"
        ],
        [
         "WISE",
         "405"
        ],
        [
         "NEOSSat",
         "147"
        ],
        [
         "ESA-TBT-LaSilla",
         "123"
        ],
        [
         "ESO-VISTA/VIRCAM",
         "100"
        ],
        [
         "ZTF",
         "98"
        ],
        [
         "LCO/cpt_0m4a_kb96",
         "98"
        ],
        [
         "LCO/tfn_0m4b_kb88",
         "50"
        ],
        [
         "ESO-VST/OMEGACAM",
         "40"
        ],
        [
         "LCO/elp_0m4a_kb94",
         "36"
        ],
        [
         "INT/WFC",
         "32"
        ],
        [
         "LCO/ogg_0m4c_kb82",
         "26"
        ],
        [
         "LCO/ogg_0m4b_kb27",
         "24"
        ],
        [
         "LCO/ogg_2m0a_fs02",
         "24"
        ],
        [
         "Skymapper",
         "22"
        ],
        [
         "CFHT/MegaCam",
         "21"
        ],
        [
         "Gemini/GMOS",
         "21"
        ],
        [
         "WHT/AUXCAM",
         "12"
        ],
        [
         "LCO/elp_1m0a_fl05",
         "12"
        ],
        [
         "LCO/tfn_0m4a_kb99",
         "12"
        ],
        [
         "LCO/coj_2m0a_fs01",
         "12"
        ],
        [
         "LCO/lsc_1m0a_fl03",
         "10"
        ],
        [
         "LCO/lsc_1m0a_kb69",
         "8"
        ],
        [
         "LCO/coj_0m4b_kb97",
         "2"
        ],
        [
         "ALMA",
         "1"
        ]
       ],
       "shape": {
        "columns": 1,
        "rows": 25
       }
      },
      "text/plain": [
       "Telescope/Instrument\n",
       "CTIO-4m/DECam        487\n",
       "WISE                 405\n",
       "NEOSSat              147\n",
       "ESA-TBT-LaSilla      123\n",
       "ESO-VISTA/VIRCAM     100\n",
       "ZTF                   98\n",
       "LCO/cpt_0m4a_kb96     98\n",
       "LCO/tfn_0m4b_kb88     50\n",
       "ESO-VST/OMEGACAM      40\n",
       "LCO/elp_0m4a_kb94     36\n",
       "INT/WFC               32\n",
       "LCO/ogg_0m4c_kb82     26\n",
       "LCO/ogg_0m4b_kb27     24\n",
       "LCO/ogg_2m0a_fs02     24\n",
       "Skymapper             22\n",
       "CFHT/MegaCam          21\n",
       "Gemini/GMOS           21\n",
       "WHT/AUXCAM            12\n",
       "LCO/elp_1m0a_fl05     12\n",
       "LCO/tfn_0m4a_kb99     12\n",
       "LCO/coj_2m0a_fs01     12\n",
       "LCO/lsc_1m0a_fl03     10\n",
       "LCO/lsc_1m0a_kb69      8\n",
       "LCO/coj_0m4b_kb97      2\n",
       "ALMA                   1\n",
       "Name: count, dtype: int64"
      ]
     },
     "metadata": {},
     "output_type": "display_data"
    },
    {
     "name": "stdout",
     "output_type": "stream",
     "text": [
      "C/2023 H5: merged 921 rows\n"
     ]
    },
    {
     "data": {
      "application/vnd.microsoft.datawrangler.viewer.v0+json": {
       "columns": [
        {
         "name": "Telescope/Instrument",
         "rawType": "object",
         "type": "string"
        },
        {
         "name": "count",
         "rawType": "int64",
         "type": "integer"
        }
       ],
       "ref": "dc643f10-d746-4b85-ac33-1022819e4ce1",
       "rows": [
        [
         "WISE",
         "508"
        ],
        [
         "ESO-VISTA/VIRCAM",
         "161"
        ],
        [
         "ESA-Schiaparelli",
         "98"
        ],
        [
         "CTIO-4m/DECam",
         "75"
        ],
        [
         "LCO/lsc_0m4a_kb29",
         "21"
        ],
        [
         "Skymapper",
         "20"
        ],
        [
         "ESA-OGS-ESACCD2",
         "12"
        ],
        [
         "ESA-Klet",
         "10"
        ],
        [
         "LCO/cpt_0m4a_kb84",
         "6"
        ],
        [
         "ESA-TBT-LaSilla",
         "5"
        ],
        [
         "CFHT/MegaCam",
         "3"
        ],
        [
         "ALMA",
         "1"
        ],
        [
         "NEOSSat",
         "1"
        ]
       ],
       "shape": {
        "columns": 1,
        "rows": 13
       }
      },
      "text/plain": [
       "Telescope/Instrument\n",
       "WISE                 508\n",
       "ESO-VISTA/VIRCAM     161\n",
       "ESA-Schiaparelli      98\n",
       "CTIO-4m/DECam         75\n",
       "LCO/lsc_0m4a_kb29     21\n",
       "Skymapper             20\n",
       "ESA-OGS-ESACCD2       12\n",
       "ESA-Klet              10\n",
       "LCO/cpt_0m4a_kb84      6\n",
       "ESA-TBT-LaSilla        5\n",
       "CFHT/MegaCam           3\n",
       "ALMA                   1\n",
       "NEOSSat                1\n",
       "Name: count, dtype: int64"
      ]
     },
     "metadata": {},
     "output_type": "display_data"
    },
    {
     "name": "stdout",
     "output_type": "stream",
     "text": [
      "Total visible observations: 1637\n"
     ]
    }
   ],
   "source": [
    "counts = 0\n",
    "for i, row in df_init[0:].iterrows():\n",
    "    name = \" \".join(row['Comet'].split())\n",
    "    cadc_filename = f\"data/cadc2/{name.replace('/', '_')}_cadc.csv\"\n",
    "    miriade_filename = f\"data/miriade2/{name.replace('/', '_')}_miriade.csv\"\n",
    "    try:\n",
    "        df_cadc = pd.read_csv(cadc_filename)\n",
    "    except FileNotFoundError:\n",
    "        print(f\"{name}: CADC file not found\")\n",
    "        continue\n",
    "    \n",
    "    try:\n",
    "        df_miriade = pd.read_csv(miriade_filename)\n",
    "    except FileNotFoundError:\n",
    "        print(f\"{name}: Miriade file not found\")\n",
    "        continue\n",
    "    \n",
    "    df = pd.merge(df_cadc, df_miriade, left_index=True, right_index=True, suffixes=('_cadc', '_miriade'))\n",
    "    print(f\"{name}: merged {len(df)} rows\")\n",
    "    display(df.value_counts('Telescope/Instrument'))\n",
    "    \n",
    "    cond = (df['VMag'] < 18) # & (df[\"Telescope/Instrument\"] == \"NEOSSat\")\n",
    "    df_visible = df[cond]\n",
    "    counts += len(df_visible)\n",
    "    # break\n",
    "print(f\"Total visible observations: {counts}\")"
   ]
  },
  {
   "cell_type": "markdown",
   "metadata": {},
   "source": [
    "# Plots"
   ]
  },
  {
   "cell_type": "code",
   "execution_count": 5,
   "metadata": {},
   "outputs": [
    {
     "name": "stdout",
     "output_type": "stream",
     "text": [
      "C/2006 L1: merged 903 rows\n"
     ]
    },
    {
     "data": {
      "application/vnd.microsoft.datawrangler.viewer.v0+json": {
       "columns": [
        {
         "name": "index",
         "rawType": "int64",
         "type": "integer"
        },
        {
         "name": "Image",
         "rawType": "object",
         "type": "string"
        },
        {
         "name": "MJD",
         "rawType": "float64",
         "type": "float"
        },
        {
         "name": "Filter",
         "rawType": "object",
         "type": "string"
        },
        {
         "name": "Exptime",
         "rawType": "int64",
         "type": "integer"
        },
        {
         "name": "Object_RA",
         "rawType": "float64",
         "type": "float"
        },
        {
         "name": "Object_Dec",
         "rawType": "float64",
         "type": "float"
        },
        {
         "name": "Image_target",
         "rawType": "object",
         "type": "string"
        },
        {
         "name": "Telescope/Instrument",
         "rawType": "object",
         "type": "string"
        },
        {
         "name": "MetaData",
         "rawType": "object",
         "type": "unknown"
        },
        {
         "name": "Datalink",
         "rawType": "float64",
         "type": "float"
        },
        {
         "name": "Date",
         "rawType": "float64",
         "type": "float"
        },
        {
         "name": "RA",
         "rawType": "object",
         "type": "string"
        },
        {
         "name": "DEC",
         "rawType": "object",
         "type": "string"
        },
        {
         "name": "Dobs",
         "rawType": "float64",
         "type": "float"
        },
        {
         "name": "Dhelio",
         "rawType": "float64",
         "type": "float"
        },
        {
         "name": "VMag",
         "rawType": "float64",
         "type": "float"
        },
        {
         "name": "Phase",
         "rawType": "float64",
         "type": "float"
        },
        {
         "name": "Elong.",
         "rawType": "float64",
         "type": "float"
        },
        {
         "name": "dRAcosDEC",
         "rawType": "float64",
         "type": "float"
        },
        {
         "name": "dDEC",
         "rawType": "float64",
         "type": "float"
        },
        {
         "name": "RV",
         "rawType": "float64",
         "type": "float"
        }
       ],
       "ref": "e77cc826-ebfe-4b92-a2d3-fa291e49b3ee",
       "rows": [
        [
         "0",
         "frame-r-007791-4-0058",
         "54774.2464619",
         "r",
         "54",
         "328.952852071863",
         "27.536789250397",
         "frame-r-007791-4-0058",
         "SDSS",
         "http://data.sdss3.org/sas/dr9/boss/photoObj/frames/301/7791/4/frame-r-007791-4-0058.fits.bz2",
         null,
         "2454774.746462",
         "+21:55:48.6417",
         "+27:32:12.009",
         "7.393672488672673",
         "7.848812133144712",
         "25.892621761151176",
         "6.630344277386288",
         "113.95548612716397",
         "-0.1111848668014385",
         "-0.2785193121443644",
         "34.73241834165026"
        ],
        [
         "1",
         "frame-r-007791-4-0059",
         "54774.2468766",
         "r",
         "54",
         "328.952831561492",
         "27.5367431380609",
         "frame-r-007791-4-0059",
         "SDSS",
         "http://data.sdss3.org/sas/dr9/boss/photoObj/frames/301/7791/4/frame-r-007791-4-0059.fits.bz2",
         null,
         "2454774.746877",
         "+21:55:48.6367",
         "+27:32:11.842",
         "7.393680813054012",
         "7.848815368385232",
         "25.89262754584896",
         "6.630358072916725",
         "113.95515195582152",
         "-0.11118236719328",
         "-0.2785184806280747",
         "34.732525475986264"
        ],
        [
         "2",
         "frame-i-007791-4-0058",
         "54774.2472912",
         "i",
         "54",
         "328.952811056067",
         "27.5366970368443",
         "frame-i-007791-4-0058",
         "SDSS",
         "http://data.sdss3.org/sas/dr9/boss/photoObj/frames/301/7791/4/frame-i-007791-4-0058.fits.bz2",
         null,
         "2454774.747291",
         "+21:55:48.6317",
         "+27:32:11.676",
         "7.393689117397373",
         "7.848818595827602",
         "25.89263331661339",
         "6.63037183499585",
         "113.95481858919808",
         "-0.1111798736144067",
         "-0.2785176511025438",
         "34.73263235067626"
        ],
        [
         "3",
         "frame-i-007791-4-0059",
         "54774.2477058",
         "i",
         "54",
         "328.952790550642",
         "27.5366509356277",
         "frame-i-007791-4-0059",
         "SDSS",
         "http://data.sdss3.org/sas/dr9/boss/photoObj/frames/301/7791/4/frame-i-007791-4-0059.fits.bz2",
         null,
         "2454774.747706",
         "+21:55:48.6267",
         "+27:32:11.510",
         "7.393697441830066",
         "7.848821831067137",
         "25.89263910132933",
         "6.630385630122843",
         "113.95448441643909",
         "-0.1111773740156433",
         "-0.2785168195594344",
         "34.732739482147394"
        ],
        [
         "4",
         "frame-u-007791-4-0058",
         "54774.2481204",
         "u",
         "54",
         "328.952770045217",
         "27.5366048344111",
         "frame-u-007791-4-0058",
         "SDSS",
         "http://data.sdss3.org/sas/dr9/boss/photoObj/frames/301/7791/4/frame-u-007791-4-0058.fits.bz2",
         null,
         "2454774.74812",
         "+21:55:48.6217",
         "+27:32:11.344",
         "7.393705746224595",
         "7.848825058508465",
         "25.892644872111823",
         "6.630399391799546",
         "113.95415104840264",
         "-0.1111748804461448",
         "-0.2785159900071519",
         "34.73284635397941"
        ],
        [
         "5",
         "frame-u-007791-4-0059",
         "54774.2485351",
         "u",
         "54",
         "328.952749534846",
         "27.536558722075",
         "frame-u-007791-4-0059",
         "SDSS",
         "http://data.sdss3.org/sas/dr9/boss/photoObj/frames/301/7791/4/frame-u-007791-4-0059.fits.bz2",
         null,
         "2454774.748535",
         "+21:55:48.6167",
         "+27:32:11.177",
         "7.393714070699177",
         "7.848828293743269",
         "25.89265065683932",
         "6.630413186507896",
         "113.95381687460238",
         "-0.1111723808595856",
         "-0.2785151584381631",
         "34.73295348246542"
        ],
        [
         "6",
         "frame-z-007791-4-0058",
         "54774.2489497",
         "z",
         "54",
         "328.952729029421",
         "27.5365126208584",
         "frame-z-007791-4-0058",
         "SDSS",
         "http://data.sdss3.org/sas/dr9/boss/photoObj/frames/301/7791/4/frame-z-007791-4-0058.fits.bz2",
         null,
         "2454774.74895",
         "+21:55:48.6117",
         "+27:32:11.011",
         "7.393722395208779",
         "7.848831528981184",
         "25.892656441582385",
         "6.630426981029783",
         "113.95348269971814",
         "-0.1111698812749264",
         "-0.2785143268548174",
         "34.73306060963748"
        ],
        [
         "7",
         "frame-z-007791-4-0059",
         "54774.2493643",
         "z",
         "54",
         "328.952708523996",
         "27.5364665196419",
         "frame-z-007791-4-0059",
         "SDSS",
         "http://data.sdss3.org/sas/dr9/boss/photoObj/frames/301/7791/4/frame-z-007791-4-0059.fits.bz2",
         null,
         "2454774.749364",
         "+21:55:48.6068",
         "+27:32:10.845",
         "7.393730699680092",
         "7.848834756420955",
         "25.89266221239198",
         "6.63044074210269",
         "113.95314932956148",
         "-0.1111673877194969",
         "-0.2785134972623929",
         "34.73316747718078"
        ],
        [
         "8",
         "frame-g-007791-4-0058",
         "54774.249779",
         "g",
         "54",
         "328.952688013625",
         "27.5364204073058",
         "frame-g-007791-4-0058",
         "SDSS",
         "http://data.sdss3.org/sas/dr9/boss/photoObj/frames/301/7791/4/frame-g-007791-4-0058.fits.bz2",
         null,
         "2454774.749779",
         "+21:55:48.6018",
         "+27:32:10.678",
         "7.393739024240981",
         "7.848837991657824",
         "25.892667997153136",
         "6.630454536221145",
         "113.952815153261",
         "-0.1111648881442364",
         "-0.2785126656522327",
         "34.73327460148791"
        ],
        [
         "9",
         "frame-g-007791-4-0059",
         "54774.2501936",
         "g",
         "54",
         "328.9526675082",
         "27.5363743060892",
         "frame-g-007791-4-0059",
         "SDSS",
         "http://data.sdss3.org/sas/dr9/boss/photoObj/frames/301/7791/4/frame-g-007791-4-0059.fits.bz2",
         null,
         "2454774.750194",
         "+21:55:48.5968",
         "+27:32:10.512",
         "7.393747348827551",
         "7.848841226894177",
         "25.89267378192336",
         "6.63046833013777",
         "113.95248097625158",
         "-0.1111623885736821",
         "-0.2785118340286489",
         "34.73338172436087"
        ],
        [
         "10",
         "rings.v3.skycell.1923.074.wrp.i.55078_48458",
         "55078.4853353222",
         "i",
         "60",
         "329.478085092929",
         "26.9664787712143",
         "1923.074",
         "Pan-STARRS1",
         null,
         null,
         "2455078.985335",
         "+21:57:54.7373",
         "+26:57:59.619",
         "9.270186965435554",
         "10.097592633739438",
         "27.421974162906736",
         "3.413732054260914",
         "143.39597166152146",
         "-0.2693536198145168",
         "-0.1478744003908628",
         "11.974721307829848"
        ],
        [
         "11",
         "frame-r-008116-3-0021",
         "55122.1581668",
         "r",
         "54",
         "325.415245548",
         "23.7798310729111",
         "frame-r-008116-3-0021",
         "SDSS",
         "http://data.sdss3.org/sas/dr9/boss/photoObj/frames/301/8116/3/frame-r-008116-3-0021.fits.bz2",
         null,
         "2455122.658167",
         "+21:41:39.6510",
         "+23:46:47.209",
         "9.820005335596951",
         "10.402840056365347",
         "27.736876843877628",
         "4.582246183986212",
         "123.4761165116138",
         "-0.1311285920287304",
         "-0.1955583148285723",
         "30.542624465580523"
        ],
        [
         "12",
         "frame-i-008116-3-0021",
         "55122.1589961",
         "i",
         "54",
         "325.415198554333",
         "23.7797662492945",
         "frame-i-008116-3-0021",
         "SDSS",
         "http://data.sdss3.org/sas/dr9/boss/photoObj/frames/301/8116/3/frame-i-008116-3-0021.fits.bz2",
         null,
         "2455122.658996",
         "+21:41:39.6396",
         "+23:46:46.976",
         "9.820019958493614",
         "10.402845813981695",
         "27.736884512754944",
         "4.582276150303571",
         "123.47548293469542",
         "-0.1311251238494241",
         "-0.1955579957138391",
         "30.542896111177715"
        ],
        [
         "13",
         "frame-u-008116-3-0021",
         "55122.1598254",
         "u",
         "54",
         "325.415151560667",
         "23.7797014256779",
         "frame-u-008116-3-0021",
         "SDSS",
         "http://data.sdss3.org/sas/dr9/boss/photoObj/frames/301/8116/3/frame-u-008116-3-0021.fits.bz2",
         null,
         "2455122.659825",
         "+21:41:39.6282",
         "+23:46:46.742",
         "9.82003458152038",
         "10.402851571596734",
         "27.736892181679234",
         "4.582306116253556",
         "123.47484935320468",
         "-0.1311216556562896",
         "-0.1955576765529172",
         "30.543167751974472"
        ],
        [
         "14",
         "frame-z-008116-3-0021",
         "55122.1606546",
         "z",
         "54",
         "325.415104572667",
         "23.779636609878",
         "frame-z-008116-3-0021",
         "SDSS",
         "http://data.sdss3.org/sas/dr9/boss/photoObj/frames/301/8116/3/frame-z-008116-3-0021.fits.bz2",
         null,
         "2455122.660655",
         "+21:41:39.6168",
         "+23:46:46.509",
         "9.820049222312772",
         "10.402857336154046",
         "27.73689985989925",
         "4.58233611797433",
         "123.47421500303362",
         "-0.1311181832666611",
         "-0.1955573569608176",
         "30.543439715561043"
        ],
        [
         "15",
         "frame-g-008116-3-0021",
         "55122.1614839",
         "g",
         "54",
         "325.415057579",
         "23.7795717862608",
         "frame-g-008116-3-0021",
         "SDSS",
         "http://data.sdss3.org/sas/dr9/boss/photoObj/frames/301/8116/3/frame-g-008116-3-0021.fits.bz2",
         null,
         "2455122.661484",
         "+21:41:39.6054",
         "+23:46:46.275",
         "9.82006384559981",
         "10.40286309376636",
         "27.736907528917467",
         "4.582366083188558",
         "123.4735814123932",
         "-0.1311147150458607",
         "-0.1955570377074662",
         "30.543711346750825"
        ],
        [
         "16",
         "rings.v3.skycell.1842.078.wrp.y.55344_56933",
         "55344.5698996111",
         "y",
         "30",
         "332.846679962091",
         "23.1345065198516",
         "1842.078",
         "Pan-STARRS1",
         null,
         null,
         "2455345.0699",
         "+22:11:23.2600",
         "+23:08:04.298",
         "11.970245114909616",
         "11.902135531195116",
         "28.88915489215725",
         "4.854840678647815",
         "83.72224895374328",
         "-0.0471038659193715",
         "0.086590245268754",
         "-13.753554500261275"
        ],
        [
         "17",
         "rings.v3.skycell.1842.078.wrp.y.55344_57187",
         "55344.5724427111",
         "y",
         "30",
         "332.846628146428",
         "23.1345946806514",
         "1842.078",
         "Pan-STARRS1",
         null,
         null,
         "2455345.072443",
         "+22:11:23.2475",
         "+23:08:04.615",
         "11.970224915638068",
         "11.902152192274226",
         "28.88915060332996",
         "4.85485537938281",
         "83.72433017197945",
         "-0.0471121597879316",
         "0.0865874636292184",
         "-13.75367730602091"
        ],
        [
         "18",
         "rings.v3.skycell.1842.078.wrp.y.55344_58219",
         "55344.5827568111",
         "y",
         "30",
         "332.846417996641",
         "23.1349522361181",
         "1842.078",
         "Pan-STARRS1",
         null,
         null,
         "2455345.082757",
         "+22:11:23.1967",
         "+23:08:05.901",
         "11.97014298878776",
         "11.902219766830568",
         "28.889133207674877",
         "4.854914936920206",
         "83.73277131913476",
         "-0.0471457984977814",
         "0.0865761796661621",
         "-13.75417494576214"
        ],
        [
         "19",
         "rings.v3.skycell.1842.078.wrp.y.55344_58477",
         "55344.5853436111",
         "y",
         "30",
         "332.846365290591",
         "23.1350419118515",
         "1842.078",
         "Pan-STARRS1",
         null,
         null,
         "2455345.085344",
         "+22:11:23.1840",
         "+23:08:06.224",
         "11.970122439092986",
         "11.902236716132515",
         "28.889128844208656",
         "4.854929858704027",
         "83.73488857755905",
         "-0.0471542359253444",
         "0.0865733488526092",
         "-13.754299654888662"
        ],
        [
         "20",
         "rings.v3.skycell.1842.088.wrp.z.55349_59589",
         "55349.5964650111",
         "z",
         "30",
         "332.725655692819",
         "23.3028134798033",
         "1842.088",
         "Pan-STARRS1",
         null,
         null,
         "2455350.096465",
         "+22:10:54.2180",
         "+23:18:10.180",
         "11.930049006571837",
         "11.93504825599988",
         "28.88054317327159",
         "4.87118098207541",
         "87.84658525196546",
         "-0.0635120476217014",
         "0.0806856642227974",
         "-13.910503711611602"
        ],
        [
         "21",
         "rings.v3.skycell.1842.088.wrp.z.55349_60772",
         "55349.6082973111",
         "z",
         "30",
         "332.725329811557",
         "23.3031960575032",
         "1842.088",
         "Pan-STARRS1",
         null,
         null,
         "2455350.108297",
         "+22:10:54.1394",
         "+23:18:11.555",
         "11.92995395133852",
         "11.935125681839612",
         "28.88052265666081",
         "4.871189216343528",
         "87.8563160919221",
         "-0.0635506771224966",
         "0.0806707849300519",
         "-13.910665576074091"
        ],
        [
         "22",
         "05161b102-w1-int-1b",
         "55350.2891431363",
         "w1",
         "8",
         "332.706180610975",
         "23.3250574691963",
         "05161b102",
         "WISE",
         "http://irsa.ipac.caltech.edu/ibe/data/wise/merge/merge_p1bm_frm/1b/05161b/102/05161b102-w1-int-1b.fits",
         null,
         "2455350.789143",
         "+22:10:49.5372",
         "+23:19:30.222",
         "11.924482570598506",
         "11.939580605707707",
         "28.87934079066042",
         "4.871422248567958",
         "88.41641214693723",
         "-0.0657732354410847",
         "0.0798066777411616",
         "-13.918290200985872"
        ],
        [
         "23",
         "05161b102-w2-int-1b",
         "55350.2891431363",
         "w2",
         "8",
         "332.706180610975",
         "23.3250574691963",
         "05161b102",
         "WISE",
         "http://irsa.ipac.caltech.edu/ibe/data/wise/merge/merge_p1bm_frm/1b/05161b/102/05161b102-w2-int-1b.fits",
         null,
         "2455350.789143",
         "+22:10:49.5372",
         "+23:19:30.222",
         "11.924482570598506",
         "11.939580605707707",
         "28.87934079066042",
         "4.871422248567958",
         "88.41641214693723",
         "-0.0657732354410847",
         "0.0798066777411616",
         "-13.918290200985872"
        ],
        [
         "24",
         "05161b102-w3-int-1b",
         "55350.2891489233",
         "w3",
         "9",
         "332.706180443635",
         "23.325057653255",
         "05161b102",
         "WISE",
         "http://irsa.ipac.caltech.edu/ibe/data/wise/merge/merge_p1bm_frm/1b/05161b/102/05161b102-w3-int-1b.fits",
         null,
         "2455350.789149",
         "+22:10:49.5371",
         "+23:19:30.223",
         "11.924482522368972",
         "11.939580644964067",
         "28.879340780234653",
         "4.871422248534399",
         "88.41641708418987",
         "-0.0657732550247309",
         "0.0798066700574467",
         "-13.918290253495025"
        ],
        [
         "25",
         "05161b102-w4-int-1b",
         "55350.2891489233",
         "w4",
         "9",
         "332.706180443635",
         "23.325057653255",
         "05161b102",
         "WISE",
         "http://irsa.ipac.caltech.edu/ibe/data/wise/merge/merge_p1bm_frm/1b/05161b/102/05161b102-w4-int-1b.fits",
         null,
         "2455350.789149",
         "+22:10:49.5371",
         "+23:19:30.223",
         "11.924482522368972",
         "11.939580644964067",
         "28.879340780234653",
         "4.871422248534399",
         "88.41641708418987",
         "-0.0657732550247309",
         "0.0798066700574467",
         "-13.918290253495025"
        ],
        [
         "26",
         "05165b102-w1-int-1b",
         "55350.4214469563",
         "w1",
         "8",
         "332.702354825514",
         "23.3292654656935",
         "05165b102",
         "WISE",
         "http://irsa.ipac.caltech.edu/ibe/data/wise/merge/merge_p1bm_frm/5b/05165b/102/05165b102-w1-int-1b.fits",
         null,
         "2455350.921447",
         "+22:10:48.6244",
         "+23:19:45.411",
         "11.923419043032814",
         "11.940446214572066",
         "28.879110856433726",
         "4.871412557328029",
         "88.52528661258037",
         "-0.0662050497840697",
         "0.079636953218211",
         "-13.919384892066889"
        ],
        [
         "27",
         "05165b102-w2-int-1b",
         "55350.4214469563",
         "w2",
         "8",
         "332.702354825514",
         "23.3292654656935",
         "05165b102",
         "WISE",
         "http://irsa.ipac.caltech.edu/ibe/data/wise/merge/merge_p1bm_frm/5b/05165b/102/05165b102-w2-int-1b.fits",
         null,
         "2455350.921447",
         "+22:10:48.6244",
         "+23:19:45.411",
         "11.923419043032814",
         "11.940446214572066",
         "28.879110856433726",
         "4.871412557328029",
         "88.52528661258037",
         "-0.0662050497840697",
         "0.079636953218211",
         "-13.919384892066889"
        ],
        [
         "28",
         "05165b102-w3-int-1b",
         "55350.4214527433",
         "w3",
         "9",
         "332.702354658173",
         "23.3292656497522",
         "05165b102",
         "WISE",
         "http://irsa.ipac.caltech.edu/ibe/data/wise/merge/merge_p1bm_frm/5b/05165b/102/05165b102-w3-int-1b.fits",
         null,
         "2455350.921453",
         "+22:10:48.6244",
         "+23:19:45.411",
         "11.923418994799484",
         "11.94044625382717",
         "28.879110846004263",
         "4.871412556482701",
         "88.52529155033832",
         "-0.0662050693663547",
         "0.0796369455077543",
         "-13.919384938845129"
        ],
        [
         "29",
         "05165b102-w4-int-1b",
         "55350.4214527433",
         "w4",
         "9",
         "332.702354658173",
         "23.3292656497522",
         "05165b102",
         "WISE",
         "http://irsa.ipac.caltech.edu/ibe/data/wise/merge/merge_p1bm_frm/5b/05165b/102/05165b102-w4-int-1b.fits",
         null,
         "2455350.921453",
         "+22:10:48.6244",
         "+23:19:45.411",
         "11.923418994799484",
         "11.94044625382717",
         "28.879110846004263",
         "4.871412556482701",
         "88.52529155033832",
         "-0.0662050693663547",
         "0.0796369455077543",
         "-13.919384938845129"
        ],
        [
         "30",
         "05168a078-w2-int-1b",
         "55350.4876625263",
         "w2",
         "8",
         "332.700440091948",
         "23.3313714886837",
         "05168a078",
         "WISE",
         "http://irsa.ipac.caltech.edu/ibe/data/wise/merge/merge_p1bm_frm/8a/05168a/078/05168a078-w2-int-1b.fits",
         null,
         "2455350.987663",
         "+22:10:48.1653",
         "+23:19:53.000",
         "11.922886734588552",
         "11.940879427336371",
         "28.878995747945567",
         "4.871400984087282",
         "88.57978067950216",
         "-0.066421154291185",
         "0.0795517873726359",
         "-13.919885287529068"
        ],
        [
         "31",
         "05168a078-w3-int-1b",
         "55350.4876683133",
         "w3",
         "9",
         "332.700439924607",
         "23.3313716727424",
         "05168a078",
         "WISE",
         "http://irsa.ipac.caltech.edu/ibe/data/wise/merge/merge_p1bm_frm/8a/05168a/078/05168a078-w3-int-1b.fits",
         null,
         "2455350.987668",
         "+22:10:48.1653",
         "+23:19:53.000",
         "11.922886694390812",
         "11.940879460049976",
         "28.87899573925246",
         "4.871400983044047",
         "88.57978479470107",
         "-0.0664211706099166",
         "0.0795517809357942",
         "-13.919885324119075"
        ],
        [
         "32",
         "05168a078-w4-int-1b",
         "55350.4876683133",
         "w4",
         "9",
         "332.700439924607",
         "23.3313716727424",
         "05168a078",
         "WISE",
         "http://irsa.ipac.caltech.edu/ibe/data/wise/merge/merge_p1bm_frm/8a/05168a/078/05168a078-w4-int-1b.fits",
         null,
         "2455350.987668",
         "+22:10:48.1653",
         "+23:19:53.000",
         "11.922886694390812",
         "11.940879460049976",
         "28.87899573925246",
         "4.871400983044047",
         "88.57978479470107",
         "-0.0664211706099166",
         "0.0795517809357942",
         "-13.919885324119075"
        ],
        [
         "33",
         "05169b102-w1-int-1b",
         "55350.5537486563",
         "w1",
         "8",
         "332.698529101356",
         "23.3334733947628",
         "05169b102",
         "WISE",
         "http://irsa.ipac.caltech.edu/ibe/data/wise/merge/merge_p1bm_frm/9b/05169b/102/05169b102-w1-int-1b.fits",
         null,
         "2455351.053749",
         "+22:10:47.7056",
         "+23:20:00.566",
         "11.922355452730908",
         "11.941311782677916",
         "28.878880845978003",
         "4.87138496081068",
         "88.634170511582",
         "-0.0666368264793353",
         "0.0794666413206845",
         "-13.920353080468828"
        ],
        [
         "34",
         "05169b102-w2-int-1b",
         "55350.5537486563",
         "w2",
         "8",
         "332.698529101356",
         "23.3334733947628",
         "05169b102",
         "WISE",
         "http://irsa.ipac.caltech.edu/ibe/data/wise/merge/merge_p1bm_frm/9b/05169b/102/05169b102-w2-int-1b.fits",
         null,
         "2455351.053749",
         "+22:10:47.7056",
         "+23:20:00.566",
         "11.922355452730908",
         "11.941311782677916",
         "28.878880845978003",
         "4.87138496081068",
         "88.634170511582",
         "-0.0666368264793353",
         "0.0794666413206845",
         "-13.920353080468828"
        ],
        [
         "35",
         "05169b102-w3-int-1b",
         "55350.5537544433",
         "w3",
         "9",
         "332.698528934015",
         "23.3334735788217",
         "05169b102",
         "WISE",
         "http://irsa.ipac.caltech.edu/ibe/data/wise/merge/merge_p1bm_frm/9b/05169b/102/05169b102-w3-int-1b.fits",
         null,
         "2455351.053754",
         "+22:10:47.7056",
         "+23:20:00.567",
         "11.922355412535564",
         "11.941311815387952",
         "28.878880837284253",
         "4.871384959429381",
         "88.63417462660506",
         "-0.0666368427959284",
         "0.0794666348732983",
         "-13.920353114664405"
        ],
        [
         "36",
         "05169b102-w4-int-1b",
         "55350.5537544433",
         "w4",
         "9",
         "332.698528934015",
         "23.3334735788217",
         "05169b102",
         "WISE",
         "http://irsa.ipac.caltech.edu/ibe/data/wise/merge/merge_p1bm_frm/9b/05169b/102/05169b102-w4-int-1b.fits",
         null,
         "2455351.053754",
         "+22:10:47.7056",
         "+23:20:00.567",
         "11.922355412535564",
         "11.941311815387952",
         "28.878880837284253",
         "4.871384959429381",
         "88.63417462660506",
         "-0.0666368427959284",
         "0.0794666348732983",
         "-13.920353114664405"
        ],
        [
         "37",
         "05172a078-w1-int-1b",
         "55350.6199642563",
         "w1",
         "8",
         "332.696614366922",
         "23.3355794187074",
         "05172a078",
         "WISE",
         "http://irsa.ipac.caltech.edu/ibe/data/wise/merge/merge_p1bm_frm/2a/05172a/078/05172a078-w1-int-1b.fits",
         null,
         "2455351.119964",
         "+22:10:47.2436",
         "+23:20:08.139",
         "11.921823116514336",
         "11.941744975049453",
         "28.878765700656867",
         "4.871364423979021",
         "88.68866925337377",
         "-0.0668529113154289",
         "0.0793811812983718",
         "-13.920790075016535"
        ],
        [
         "38",
         "05172a078-w2-int-1b",
         "55350.6199642563",
         "w2",
         "8",
         "332.696614366922",
         "23.3355794187074",
         "05172a078",
         "WISE",
         "http://irsa.ipac.caltech.edu/ibe/data/wise/merge/merge_p1bm_frm/2a/05172a/078/05172a078-w2-int-1b.fits",
         null,
         "2455351.119964",
         "+22:10:47.2436",
         "+23:20:08.139",
         "11.921823116514336",
         "11.941744975049453",
         "28.878765700656867",
         "4.871364423979021",
         "88.68866925337377",
         "-0.0668529113154289",
         "0.0793811812983718",
         "-13.920790075016535"
        ],
        [
         "39",
         "05172a078-w3-int-1b",
         "55350.6199700433",
         "w3",
         "9",
         "332.696614199581",
         "23.3355796027661",
         "05172a078",
         "WISE",
         "http://irsa.ipac.caltech.edu/ibe/data/wise/merge/merge_p1bm_frm/2a/05172a/078/05172a078-w3-int-1b.fits",
         null,
         "2455351.11997",
         "+22:10:47.2435",
         "+23:20:08.140",
         "11.921823068276195",
         "11.941745014302734",
         "28.878765690222192",
         "4.871364421914705",
         "88.68867419187939",
         "-0.066852930895483",
         "0.0793811735477416",
         "-13.920790113175508"
        ],
        [
         "40",
         "05172a078-w4-int-1b",
         "55350.6199700433",
         "w4",
         "9",
         "332.696614199581",
         "23.3355796027661",
         "05172a078",
         "WISE",
         "http://irsa.ipac.caltech.edu/ibe/data/wise/merge/merge_p1bm_frm/2a/05172a/078/05172a078-w4-int-1b.fits",
         null,
         "2455351.11997",
         "+22:10:47.2435",
         "+23:20:08.140",
         "11.921823068276195",
         "11.941745014302734",
         "28.878765690222192",
         "4.871364421914705",
         "88.68867419187939",
         "-0.066852930895483",
         "0.0793811735477416",
         "-13.920790113175508"
        ],
        [
         "41",
         "05173b102-w1-int-1b",
         "55350.6860524563",
         "w1",
         "8",
         "332.694703316472",
         "23.3376813906241",
         "05173b102",
         "WISE",
         "http://irsa.ipac.caltech.edu/ibe/data/wise/merge/merge_p1bm_frm/3b/05173b/102/05173b102-w1-int-1b.fits",
         null,
         "2455351.186052",
         "+22:10:46.7809",
         "+23:20:15.689",
         "11.9212917852518",
         "11.94217732965418",
         "28.87865075759253",
         "4.871339451974701",
         "88.74306618772188",
         "-0.0670685730985143",
         "0.0792957376333919",
         "-13.921194550407083"
        ],
        [
         "42",
         "05173b102-w2-int-1b",
         "55350.6860524563",
         "w2",
         "8",
         "332.694703316472",
         "23.3376813906241",
         "05173b102",
         "WISE",
         "http://irsa.ipac.caltech.edu/ibe/data/wise/merge/merge_p1bm_frm/3b/05173b/102/05173b102-w2-int-1b.fits",
         null,
         "2455351.186052",
         "+22:10:46.7809",
         "+23:20:15.689",
         "11.9212917852518",
         "11.94217732965418",
         "28.87865075759253",
         "4.871339451974701",
         "88.74306618772188",
         "-0.0670685730985143",
         "0.0792957376333919",
         "-13.921194550407083"
        ],
        [
         "43",
         "05173b102-w3-int-1b",
         "55350.6860582433",
         "w3",
         "9",
         "332.694703149131",
         "23.3376815746828",
         "05173b102",
         "WISE",
         "http://irsa.ipac.caltech.edu/ibe/data/wise/merge/merge_p1bm_frm/3b/05173b/102/05173b102-w3-int-1b.fits",
         null,
         "2455351.186058",
         "+22:10:46.7808",
         "+23:20:15.690",
         "11.921291737012224",
         "11.942177368906798",
         "28.87865074715617",
         "4.871339449504672",
         "88.74307112647341",
         "-0.0670685926777751",
         "0.0792957298693755",
         "-13.921194585691095"
        ],
        [
         "44",
         "05173b102-w4-int-1b",
         "55350.6860582433",
         "w4",
         "9",
         "332.694703149131",
         "23.3376815746828",
         "05173b102",
         "WISE",
         "http://irsa.ipac.caltech.edu/ibe/data/wise/merge/merge_p1bm_frm/3b/05173b/102/05173b102-w4-int-1b.fits",
         null,
         "2455351.186058",
         "+22:10:46.7808",
         "+23:20:15.690",
         "11.921291737012224",
         "11.942177368906798",
         "28.87865074715617",
         "4.871339449504672",
         "88.74307112647341",
         "-0.0670685926777751",
         "0.0792957298693755",
         "-13.921194585691095"
        ],
        [
         "45",
         "05176a078-w1-int-1b",
         "55350.7522680563",
         "w1",
         "8",
         "332.692788582039",
         "23.3397874145684",
         "05176a078",
         "WISE",
         "http://irsa.ipac.caltech.edu/ibe/data/wise/merge/merge_p1bm_frm/6a/05176a/078/05176a078-w1-int-1b.fits",
         null,
         "2455351.252268",
         "+22:10:46.3158",
         "+23:20:23.246",
         "11.920759410028069",
         "11.94261051472185",
         "28.878535573720622",
         "4.871309947536208",
         "88.79757118816396",
         "-0.06728464367289",
         "0.0792099805717124",
         "-13.921568036682354"
        ],
        [
         "46",
         "05176a078-w2-int-1b",
         "55350.7522680563",
         "w2",
         "8",
         "332.692788582039",
         "23.3397874145684",
         "05176a078",
         "WISE",
         "http://irsa.ipac.caltech.edu/ibe/data/wise/merge/merge_p1bm_frm/6a/05176a/078/05176a078-w2-int-1b.fits",
         null,
         "2455351.252268",
         "+22:10:46.3158",
         "+23:20:23.246",
         "11.920759410028069",
         "11.94261051472185",
         "28.878535573720622",
         "4.871309947536208",
         "88.79757118816396",
         "-0.06728464367289",
         "0.0792099805717124",
         "-13.921568036682354"
        ],
        [
         "47",
         "05176a078-w3-int-1b",
         "55350.7522738433",
         "w3",
         "9",
         "332.692788414698",
         "23.3397875986273",
         "05176a078",
         "WISE",
         "http://irsa.ipac.caltech.edu/ibe/data/wise/merge/merge_p1bm_frm/6a/05176a/078/05176a078-w3-int-1b.fits",
         null,
         "2455351.252274",
         "+22:10:46.3158",
         "+23:20:23.247",
         "11.920759361787171",
         "11.942610553973816",
         "28.878535563282615",
         "4.871309944659259",
         "88.79757612716054",
         "-0.0672846632513305",
         "0.0792099727942777",
         "-13.921568069083207"
        ],
        [
         "48",
         "05176a078-w4-int-1b",
         "55350.7522738433",
         "w4",
         "9",
         "332.692788414698",
         "23.3397875986273",
         "05176a078",
         "WISE",
         "http://irsa.ipac.caltech.edu/ibe/data/wise/merge/merge_p1bm_frm/6a/05176a/078/05176a078-w4-int-1b.fits",
         null,
         "2455351.252274",
         "+22:10:46.3158",
         "+23:20:23.247",
         "11.920759361787171",
         "11.942610553973816",
         "28.878535563282615",
         "4.871309944659259",
         "88.79757612716054",
         "-0.0672846632513305",
         "0.0792099727942777",
         "-13.921568069083207"
        ],
        [
         "49",
         "05177b102-w1-int-1b",
         "55350.8183562963",
         "w1",
         "8",
         "332.690877530432",
         "23.3418893877574",
         "05177b102",
         "WISE",
         "http://irsa.ipac.caltech.edu/ibe/data/wise/merge/merge_p1bm_frm/7b/05177b/102/05177b102-w1-int-1b.fits",
         null,
         "2455351.318356",
         "+22:10:45.8501",
         "+23:20:30.780",
         "11.92022805028622",
         "11.943042855503242",
         "28.878420594797205",
         "4.871276023935952",
         "88.85197351555883",
         "-0.0675002873999686",
         "0.0791242415936428",
         "-13.921909060086394"
        ]
       ],
       "shape": {
        "columns": 21,
        "rows": 903
       }
      },
      "text/html": [
       "<div>\n",
       "<style scoped>\n",
       "    .dataframe tbody tr th:only-of-type {\n",
       "        vertical-align: middle;\n",
       "    }\n",
       "\n",
       "    .dataframe tbody tr th {\n",
       "        vertical-align: top;\n",
       "    }\n",
       "\n",
       "    .dataframe thead th {\n",
       "        text-align: right;\n",
       "    }\n",
       "</style>\n",
       "<table border=\"1\" class=\"dataframe\">\n",
       "  <thead>\n",
       "    <tr style=\"text-align: right;\">\n",
       "      <th></th>\n",
       "      <th>Image</th>\n",
       "      <th>MJD</th>\n",
       "      <th>Filter</th>\n",
       "      <th>Exptime</th>\n",
       "      <th>Object_RA</th>\n",
       "      <th>Object_Dec</th>\n",
       "      <th>Image_target</th>\n",
       "      <th>Telescope/Instrument</th>\n",
       "      <th>MetaData</th>\n",
       "      <th>Datalink</th>\n",
       "      <th>...</th>\n",
       "      <th>RA</th>\n",
       "      <th>DEC</th>\n",
       "      <th>Dobs</th>\n",
       "      <th>Dhelio</th>\n",
       "      <th>VMag</th>\n",
       "      <th>Phase</th>\n",
       "      <th>Elong.</th>\n",
       "      <th>dRAcosDEC</th>\n",
       "      <th>dDEC</th>\n",
       "      <th>RV</th>\n",
       "    </tr>\n",
       "  </thead>\n",
       "  <tbody>\n",
       "    <tr>\n",
       "      <th>0</th>\n",
       "      <td>frame-r-007791-4-0058</td>\n",
       "      <td>54774.246462</td>\n",
       "      <td>r</td>\n",
       "      <td>54</td>\n",
       "      <td>328.952852</td>\n",
       "      <td>27.536789</td>\n",
       "      <td>frame-r-007791-4-0058</td>\n",
       "      <td>SDSS</td>\n",
       "      <td>http://data.sdss3.org/sas/dr9/boss/photoObj/fr...</td>\n",
       "      <td>NaN</td>\n",
       "      <td>...</td>\n",
       "      <td>+21:55:48.6417</td>\n",
       "      <td>+27:32:12.009</td>\n",
       "      <td>7.393672</td>\n",
       "      <td>7.848812</td>\n",
       "      <td>25.892622</td>\n",
       "      <td>6.630344</td>\n",
       "      <td>113.955486</td>\n",
       "      <td>-0.111185</td>\n",
       "      <td>-0.278519</td>\n",
       "      <td>34.732418</td>\n",
       "    </tr>\n",
       "    <tr>\n",
       "      <th>1</th>\n",
       "      <td>frame-r-007791-4-0059</td>\n",
       "      <td>54774.246877</td>\n",
       "      <td>r</td>\n",
       "      <td>54</td>\n",
       "      <td>328.952832</td>\n",
       "      <td>27.536743</td>\n",
       "      <td>frame-r-007791-4-0059</td>\n",
       "      <td>SDSS</td>\n",
       "      <td>http://data.sdss3.org/sas/dr9/boss/photoObj/fr...</td>\n",
       "      <td>NaN</td>\n",
       "      <td>...</td>\n",
       "      <td>+21:55:48.6367</td>\n",
       "      <td>+27:32:11.842</td>\n",
       "      <td>7.393681</td>\n",
       "      <td>7.848815</td>\n",
       "      <td>25.892628</td>\n",
       "      <td>6.630358</td>\n",
       "      <td>113.955152</td>\n",
       "      <td>-0.111182</td>\n",
       "      <td>-0.278518</td>\n",
       "      <td>34.732525</td>\n",
       "    </tr>\n",
       "    <tr>\n",
       "      <th>2</th>\n",
       "      <td>frame-i-007791-4-0058</td>\n",
       "      <td>54774.247291</td>\n",
       "      <td>i</td>\n",
       "      <td>54</td>\n",
       "      <td>328.952811</td>\n",
       "      <td>27.536697</td>\n",
       "      <td>frame-i-007791-4-0058</td>\n",
       "      <td>SDSS</td>\n",
       "      <td>http://data.sdss3.org/sas/dr9/boss/photoObj/fr...</td>\n",
       "      <td>NaN</td>\n",
       "      <td>...</td>\n",
       "      <td>+21:55:48.6317</td>\n",
       "      <td>+27:32:11.676</td>\n",
       "      <td>7.393689</td>\n",
       "      <td>7.848819</td>\n",
       "      <td>25.892633</td>\n",
       "      <td>6.630372</td>\n",
       "      <td>113.954819</td>\n",
       "      <td>-0.111180</td>\n",
       "      <td>-0.278518</td>\n",
       "      <td>34.732632</td>\n",
       "    </tr>\n",
       "    <tr>\n",
       "      <th>3</th>\n",
       "      <td>frame-i-007791-4-0059</td>\n",
       "      <td>54774.247706</td>\n",
       "      <td>i</td>\n",
       "      <td>54</td>\n",
       "      <td>328.952791</td>\n",
       "      <td>27.536651</td>\n",
       "      <td>frame-i-007791-4-0059</td>\n",
       "      <td>SDSS</td>\n",
       "      <td>http://data.sdss3.org/sas/dr9/boss/photoObj/fr...</td>\n",
       "      <td>NaN</td>\n",
       "      <td>...</td>\n",
       "      <td>+21:55:48.6267</td>\n",
       "      <td>+27:32:11.510</td>\n",
       "      <td>7.393697</td>\n",
       "      <td>7.848822</td>\n",
       "      <td>25.892639</td>\n",
       "      <td>6.630386</td>\n",
       "      <td>113.954484</td>\n",
       "      <td>-0.111177</td>\n",
       "      <td>-0.278517</td>\n",
       "      <td>34.732739</td>\n",
       "    </tr>\n",
       "    <tr>\n",
       "      <th>4</th>\n",
       "      <td>frame-u-007791-4-0058</td>\n",
       "      <td>54774.248120</td>\n",
       "      <td>u</td>\n",
       "      <td>54</td>\n",
       "      <td>328.952770</td>\n",
       "      <td>27.536605</td>\n",
       "      <td>frame-u-007791-4-0058</td>\n",
       "      <td>SDSS</td>\n",
       "      <td>http://data.sdss3.org/sas/dr9/boss/photoObj/fr...</td>\n",
       "      <td>NaN</td>\n",
       "      <td>...</td>\n",
       "      <td>+21:55:48.6217</td>\n",
       "      <td>+27:32:11.344</td>\n",
       "      <td>7.393706</td>\n",
       "      <td>7.848825</td>\n",
       "      <td>25.892645</td>\n",
       "      <td>6.630399</td>\n",
       "      <td>113.954151</td>\n",
       "      <td>-0.111175</td>\n",
       "      <td>-0.278516</td>\n",
       "      <td>34.732846</td>\n",
       "    </tr>\n",
       "    <tr>\n",
       "      <th>...</th>\n",
       "      <td>...</td>\n",
       "      <td>...</td>\n",
       "      <td>...</td>\n",
       "      <td>...</td>\n",
       "      <td>...</td>\n",
       "      <td>...</td>\n",
       "      <td>...</td>\n",
       "      <td>...</td>\n",
       "      <td>...</td>\n",
       "      <td>...</td>\n",
       "      <td>...</td>\n",
       "      <td>...</td>\n",
       "      <td>...</td>\n",
       "      <td>...</td>\n",
       "      <td>...</td>\n",
       "      <td>...</td>\n",
       "      <td>...</td>\n",
       "      <td>...</td>\n",
       "      <td>...</td>\n",
       "      <td>...</td>\n",
       "      <td>...</td>\n",
       "    </tr>\n",
       "    <tr>\n",
       "      <th>898</th>\n",
       "      <td>c4d_240901_012003_opi_i_v1.fits.fz a7a1a05dc59...</td>\n",
       "      <td>60554.056116</td>\n",
       "      <td>i</td>\n",
       "      <td>90</td>\n",
       "      <td>313.761021</td>\n",
       "      <td>8.998121</td>\n",
       "      <td>DELVE field: 5073-03-i</td>\n",
       "      <td>CTIO-4m/DECam</td>\n",
       "      <td>https://astroarchive.noirlab.edu/api/retrieve/...</td>\n",
       "      <td>NaN</td>\n",
       "      <td>...</td>\n",
       "      <td>+20:55:02.6762</td>\n",
       "      <td>+08:59:53.277</td>\n",
       "      <td>35.796438</td>\n",
       "      <td>36.659378</td>\n",
       "      <td>36.089324</td>\n",
       "      <td>0.827781</td>\n",
       "      <td>148.347422</td>\n",
       "      <td>-0.059827</td>\n",
       "      <td>-0.031586</td>\n",
       "      <td>15.985617</td>\n",
       "    </tr>\n",
       "    <tr>\n",
       "      <th>899</th>\n",
       "      <td>c4d_240908_003800_ori.fits.fz 8b3fef950ee0f644...</td>\n",
       "      <td>60561.026911</td>\n",
       "      <td>i</td>\n",
       "      <td>90</td>\n",
       "      <td>313.597981</td>\n",
       "      <td>8.907193</td>\n",
       "      <td>DELVE field: 5065-04-i</td>\n",
       "      <td>CTIO-4m/DECam</td>\n",
       "      <td>https://astroarchive.noirlab.edu/api/retrieve/...</td>\n",
       "      <td>NaN</td>\n",
       "      <td>...</td>\n",
       "      <td>+20:54:23.5446</td>\n",
       "      <td>+08:54:25.944</td>\n",
       "      <td>35.866927</td>\n",
       "      <td>36.686107</td>\n",
       "      <td>36.099450</td>\n",
       "      <td>0.926462</td>\n",
       "      <td>143.931149</td>\n",
       "      <td>-0.055554</td>\n",
       "      <td>-0.033551</td>\n",
       "      <td>19.005339</td>\n",
       "    </tr>\n",
       "    <tr>\n",
       "      <th>900</th>\n",
       "      <td>c4d_240908_003800_oki_i_v1.fits.fz 980b37b41e5...</td>\n",
       "      <td>60561.026911</td>\n",
       "      <td>i</td>\n",
       "      <td>90</td>\n",
       "      <td>313.597981</td>\n",
       "      <td>8.907193</td>\n",
       "      <td>DELVE field: 5065-04-i</td>\n",
       "      <td>CTIO-4m/DECam</td>\n",
       "      <td>https://astroarchive.noirlab.edu/api/retrieve/...</td>\n",
       "      <td>NaN</td>\n",
       "      <td>...</td>\n",
       "      <td>+20:54:23.5446</td>\n",
       "      <td>+08:54:25.944</td>\n",
       "      <td>35.866927</td>\n",
       "      <td>36.686107</td>\n",
       "      <td>36.099450</td>\n",
       "      <td>0.926462</td>\n",
       "      <td>143.931149</td>\n",
       "      <td>-0.055554</td>\n",
       "      <td>-0.033551</td>\n",
       "      <td>19.005339</td>\n",
       "    </tr>\n",
       "    <tr>\n",
       "      <th>901</th>\n",
       "      <td>c4d_240908_003800_ooi_i_v1.fits.fz a797f4b6d63...</td>\n",
       "      <td>60561.026911</td>\n",
       "      <td>i</td>\n",
       "      <td>90</td>\n",
       "      <td>313.597981</td>\n",
       "      <td>8.907193</td>\n",
       "      <td>DELVE field: 5065-04-i</td>\n",
       "      <td>CTIO-4m/DECam</td>\n",
       "      <td>https://astroarchive.noirlab.edu/api/retrieve/...</td>\n",
       "      <td>NaN</td>\n",
       "      <td>...</td>\n",
       "      <td>+20:54:23.5446</td>\n",
       "      <td>+08:54:25.944</td>\n",
       "      <td>35.866927</td>\n",
       "      <td>36.686107</td>\n",
       "      <td>36.099450</td>\n",
       "      <td>0.926462</td>\n",
       "      <td>143.931149</td>\n",
       "      <td>-0.055554</td>\n",
       "      <td>-0.033551</td>\n",
       "      <td>19.005339</td>\n",
       "    </tr>\n",
       "    <tr>\n",
       "      <th>902</th>\n",
       "      <td>c4d_240908_003800_opi_i_v1.fits.fz c3a9cc6d208...</td>\n",
       "      <td>60561.026911</td>\n",
       "      <td>i</td>\n",
       "      <td>90</td>\n",
       "      <td>313.597981</td>\n",
       "      <td>8.907193</td>\n",
       "      <td>DELVE field: 5065-04-i</td>\n",
       "      <td>CTIO-4m/DECam</td>\n",
       "      <td>https://astroarchive.noirlab.edu/api/retrieve/...</td>\n",
       "      <td>NaN</td>\n",
       "      <td>...</td>\n",
       "      <td>+20:54:23.5446</td>\n",
       "      <td>+08:54:25.944</td>\n",
       "      <td>35.866927</td>\n",
       "      <td>36.686107</td>\n",
       "      <td>36.099450</td>\n",
       "      <td>0.926462</td>\n",
       "      <td>143.931149</td>\n",
       "      <td>-0.055554</td>\n",
       "      <td>-0.033551</td>\n",
       "      <td>19.005339</td>\n",
       "    </tr>\n",
       "  </tbody>\n",
       "</table>\n",
       "<p>903 rows × 21 columns</p>\n",
       "</div>"
      ],
      "text/plain": [
       "                                                 Image           MJD Filter  \\\n",
       "0                                frame-r-007791-4-0058  54774.246462      r   \n",
       "1                                frame-r-007791-4-0059  54774.246877      r   \n",
       "2                                frame-i-007791-4-0058  54774.247291      i   \n",
       "3                                frame-i-007791-4-0059  54774.247706      i   \n",
       "4                                frame-u-007791-4-0058  54774.248120      u   \n",
       "..                                                 ...           ...    ...   \n",
       "898  c4d_240901_012003_opi_i_v1.fits.fz a7a1a05dc59...  60554.056116      i   \n",
       "899  c4d_240908_003800_ori.fits.fz 8b3fef950ee0f644...  60561.026911      i   \n",
       "900  c4d_240908_003800_oki_i_v1.fits.fz 980b37b41e5...  60561.026911      i   \n",
       "901  c4d_240908_003800_ooi_i_v1.fits.fz a797f4b6d63...  60561.026911      i   \n",
       "902  c4d_240908_003800_opi_i_v1.fits.fz c3a9cc6d208...  60561.026911      i   \n",
       "\n",
       "     Exptime   Object_RA  Object_Dec            Image_target  \\\n",
       "0         54  328.952852   27.536789   frame-r-007791-4-0058   \n",
       "1         54  328.952832   27.536743   frame-r-007791-4-0059   \n",
       "2         54  328.952811   27.536697   frame-i-007791-4-0058   \n",
       "3         54  328.952791   27.536651   frame-i-007791-4-0059   \n",
       "4         54  328.952770   27.536605   frame-u-007791-4-0058   \n",
       "..       ...         ...         ...                     ...   \n",
       "898       90  313.761021    8.998121  DELVE field: 5073-03-i   \n",
       "899       90  313.597981    8.907193  DELVE field: 5065-04-i   \n",
       "900       90  313.597981    8.907193  DELVE field: 5065-04-i   \n",
       "901       90  313.597981    8.907193  DELVE field: 5065-04-i   \n",
       "902       90  313.597981    8.907193  DELVE field: 5065-04-i   \n",
       "\n",
       "    Telescope/Instrument                                           MetaData  \\\n",
       "0                   SDSS  http://data.sdss3.org/sas/dr9/boss/photoObj/fr...   \n",
       "1                   SDSS  http://data.sdss3.org/sas/dr9/boss/photoObj/fr...   \n",
       "2                   SDSS  http://data.sdss3.org/sas/dr9/boss/photoObj/fr...   \n",
       "3                   SDSS  http://data.sdss3.org/sas/dr9/boss/photoObj/fr...   \n",
       "4                   SDSS  http://data.sdss3.org/sas/dr9/boss/photoObj/fr...   \n",
       "..                   ...                                                ...   \n",
       "898        CTIO-4m/DECam  https://astroarchive.noirlab.edu/api/retrieve/...   \n",
       "899        CTIO-4m/DECam  https://astroarchive.noirlab.edu/api/retrieve/...   \n",
       "900        CTIO-4m/DECam  https://astroarchive.noirlab.edu/api/retrieve/...   \n",
       "901        CTIO-4m/DECam  https://astroarchive.noirlab.edu/api/retrieve/...   \n",
       "902        CTIO-4m/DECam  https://astroarchive.noirlab.edu/api/retrieve/...   \n",
       "\n",
       "     Datalink  ...              RA            DEC       Dobs     Dhelio  \\\n",
       "0         NaN  ...  +21:55:48.6417  +27:32:12.009   7.393672   7.848812   \n",
       "1         NaN  ...  +21:55:48.6367  +27:32:11.842   7.393681   7.848815   \n",
       "2         NaN  ...  +21:55:48.6317  +27:32:11.676   7.393689   7.848819   \n",
       "3         NaN  ...  +21:55:48.6267  +27:32:11.510   7.393697   7.848822   \n",
       "4         NaN  ...  +21:55:48.6217  +27:32:11.344   7.393706   7.848825   \n",
       "..        ...  ...             ...            ...        ...        ...   \n",
       "898       NaN  ...  +20:55:02.6762  +08:59:53.277  35.796438  36.659378   \n",
       "899       NaN  ...  +20:54:23.5446  +08:54:25.944  35.866927  36.686107   \n",
       "900       NaN  ...  +20:54:23.5446  +08:54:25.944  35.866927  36.686107   \n",
       "901       NaN  ...  +20:54:23.5446  +08:54:25.944  35.866927  36.686107   \n",
       "902       NaN  ...  +20:54:23.5446  +08:54:25.944  35.866927  36.686107   \n",
       "\n",
       "          VMag     Phase      Elong.  dRAcosDEC      dDEC         RV  \n",
       "0    25.892622  6.630344  113.955486  -0.111185 -0.278519  34.732418  \n",
       "1    25.892628  6.630358  113.955152  -0.111182 -0.278518  34.732525  \n",
       "2    25.892633  6.630372  113.954819  -0.111180 -0.278518  34.732632  \n",
       "3    25.892639  6.630386  113.954484  -0.111177 -0.278517  34.732739  \n",
       "4    25.892645  6.630399  113.954151  -0.111175 -0.278516  34.732846  \n",
       "..         ...       ...         ...        ...       ...        ...  \n",
       "898  36.089324  0.827781  148.347422  -0.059827 -0.031586  15.985617  \n",
       "899  36.099450  0.926462  143.931149  -0.055554 -0.033551  19.005339  \n",
       "900  36.099450  0.926462  143.931149  -0.055554 -0.033551  19.005339  \n",
       "901  36.099450  0.926462  143.931149  -0.055554 -0.033551  19.005339  \n",
       "902  36.099450  0.926462  143.931149  -0.055554 -0.033551  19.005339  \n",
       "\n",
       "[903 rows x 21 columns]"
      ]
     },
     "execution_count": 5,
     "metadata": {},
     "output_type": "execute_result"
    }
   ],
   "source": [
    "# name= \"C/2023 H5\"\n",
    "name = \"C/2006 L1\"\n",
    "cadc_filename = f\"data/cadc2/{name.replace('/', '_')}_cadc.csv\"\n",
    "miriade_filename = f\"data/miriade2/{name.replace('/', '_')}_miriade.csv\"\n",
    "try:\n",
    "    df_cadc = pd.read_csv(cadc_filename)\n",
    "except FileNotFoundError:\n",
    "    print(f\"{name}: CADC file not found\")\n",
    "    df_cadc = pd.DataFrame()\n",
    "try:    df_miriade = pd.read_csv(miriade_filename)\n",
    "except FileNotFoundError:\n",
    "    print(f\"{name}: Miriade file not found\")\n",
    "    df_miriade = pd.DataFrame()\n",
    "df = pd.merge(df_cadc, df_miriade, left_index=True, right_index=True, suffixes=('_cadc', '_miriade'))\n",
    "print(f\"{name}: merged {len(df)} rows\")\n",
    "df"
   ]
  },
  {
   "cell_type": "code",
   "execution_count": null,
   "metadata": {},
   "outputs": [
    {
     "name": "stdout",
     "output_type": "stream",
     "text": [
      "Have C/2006 L1 from 2008-11-04T05:54:54.308 to 2024-09-08T00:38:45.090 (5787 days)\n",
      "Got positions from Horizons with 5438 rows for Lemmon (C/2023 H5)\n"
     ]
    },
    {
     "data": {
      "image/png": "[encoded data removed]",
      "text/plain": [
       "<Figure size 1200x600 with 1 Axes>"
      ]
     },
     "metadata": {},
     "output_type": "display_data"
    }
   ],
   "source": []
  },
  {
   "cell_type": "code",
   "execution_count": 6,
   "metadata": {},
   "outputs": [
    {
     "name": "stdout",
     "output_type": "stream",
     "text": [
      "Have C/2006 L1 from 2008-11-04T05:54:54.308 to 2024-09-08T00:38:45.090 (5787 days)\n",
      "Got positions from Horizons with 5787 rows for Garradd (C/2006 L1)\n"
     ]
    }
   ],
   "source": [
    "# %%time \n",
    "\n",
    "# PS1 epoch range with epoch edges set to round days\n",
    "emin = Time(df['MJD'].min(), format='mjd')\n",
    "emax = Time(df['MJD'].max(), format='mjd')\n",
    "\n",
    "print(f\"Have {name} from {emin.isot} to {emax.isot} ({emax.mjd-emin.mjd:.0f} days)\")\n",
    "\n",
    "# query using 1-day time steps\n",
    "obj = Horizons(id=name, location='500', \n",
    "               epochs=dict(start=emin.isot, stop=emax.isot, step='1d'))#, \n",
    "\n",
    "jpltab = obj.ephemerides(extra_precision=True)\n",
    "fullname = jpltab['targetname'][0]\n",
    "print(f\"Got positions from Horizons with {len(jpltab)} rows for {fullname}\")\n"
   ]
  },
  {
   "cell_type": "code",
   "execution_count": 7,
   "metadata": {},
   "outputs": [
    {
     "data": {
      "image/png": "[encoded data removed]",
      "text/plain": [
       "<Figure size 1200x600 with 1 Axes>"
      ]
     },
     "metadata": {},
     "output_type": "display_data"
    }
   ],
   "source": [
    "\n",
    "# undo RA-wrapping from 0-360 degrees\n",
    "# add or subtract multiples of 360 to create a smooth path\n",
    "# jpltab = Table.from_pandas(df)\n",
    "njumps = 0\n",
    "ratab = jpltab['RA'].data.copy()\n",
    "w = np.where(ratab[1:] > ratab[:-1]+180)[0]\n",
    "for k in w:\n",
    "    njumps += 1\n",
    "    ratab[k+1:] -= 360\n",
    "    \n",
    "w = np.where(ratab[1:] < ratab[:-1]-180)[0]\n",
    "for k in w:\n",
    "    njumps += 1\n",
    "    ratab[k+1:] += 360\n",
    "while ratab.min() < 0:\n",
    "    ratab += 360\n",
    "\n",
    "# plt.rcParams.update({\"font.size\":14})\n",
    "plt.figure(1,(12,6))\n",
    "plt.plot(ratab, jpltab['DEC'])\n",
    "\n",
    "# plot every 30 days as a dot to see movement\n",
    "mstep = int(30/(jpltab['datetime_jd'][1]-jpltab['datetime_jd'][0]) + 0.5)\n",
    "plt.plot(ratab[::mstep], jpltab['DEC'][::mstep], '.', color=\"tab:blue\", label=\"Monthly positions\")\n",
    "\n",
    "# show positions at the times of observations\n",
    "jpl_mjd = Time(jpltab['datetime_jd'],format='jd').mjd\n",
    "ra_interp = np.interp(df['MJD'], jpl_mjd, ratab)\n",
    "dec_interp = np.interp(df['MJD'], jpl_mjd, jpltab['DEC'])\n",
    "\n",
    "df_instr = df[['Telescope/Instrument', 'Filter']].value_counts()\n",
    "df_instr = df_instr[df_instr > 10]\n",
    "for (instr, filt), count in df_instr.items():\n",
    "    cond = (df['Telescope/Instrument'] == instr) & (df['Filter'] == filt)\n",
    "    plt.plot(ra_interp[cond], dec_interp[cond], '*', markersize=10,\n",
    "             label=f\"{instr} {filt} ({count})\")\n",
    "# plt.plot(ra_interp, dec_interp, 'o', color=\"tab:orange\", label=f\"{len(df)} observations\")\n",
    "\n",
    "plt.xlabel(\"Unwrapped RA [deg]\")\n",
    "plt.ylabel(\"Dec [deg]\")\n",
    "plt.legend(bbox_to_anchor=(1.05, 1), loc='upper left')\n",
    "plt.title(f\"{fullname} from {emin.isot[:10]} to {emax.isot[:10]}\")\n",
    "plt.tight_layout()\n",
    "plt.grid(linestyle='--', alpha=0.5)\n",
    "# if saveplots:\n",
    "#     plt.savefig(\"sky_path.png\", facecolor=\"white\")\n",
    "plt.show()"
   ]
  },
  {
   "cell_type": "code",
   "execution_count": 8,
   "metadata": {},
   "outputs": [
    {
     "data": {
      "image/png": "[encoded data removed]",
      "text/plain": [
       "<Figure size 1200x600 with 1 Axes>"
      ]
     },
     "metadata": {},
     "output_type": "display_data"
    }
   ],
   "source": [
    "phase_interp = np.interp(df['MJD'], jpl_mjd, jpltab['alpha_true']) \n",
    "# Nmag\n",
    "nmag_interp = np.interp(df['MJD'], jpl_mjd, jpltab['Nmag'])\n",
    "# distance from the Sun\n",
    "r_interp = np.interp(df['MJD'], jpl_mjd, jpltab['r'])\n",
    "\n",
    "# plt.rcParams.update({\"font.size\":14})\n",
    "plt.figure(1,(12,6))\n",
    "# plt.plot(ratab, jpltab['DEC'])\n",
    "\n",
    "df_instr = df[['Telescope/Instrument', 'Filter']].value_counts()\n",
    "df_instr = df_instr[df_instr > 1]\n",
    "for (instr, filt), count in df_instr.items():\n",
    "    cond = (df['Telescope/Instrument'] == instr) & (df['Filter'] == filt)\n",
    "    plt.plot(\n",
    "        # phase_interp[cond], \n",
    "        r_interp[cond],\n",
    "         nmag_interp[cond], \n",
    "        '*', markersize=10,\n",
    "        label=f\"{instr} {filt} ({count})\")\n",
    "# plt.plot(ra_interp, dec_interp, 'o', color=\"tab:orange\", label=f\"{len(df)} observations\")\n",
    "\n",
    "plt.xlabel(\"The distance from the Sun [au]\")\n",
    "plt.ylabel(\"Nmag [mag]\")\n",
    "plt.xlim(left=0)\n",
    "plt.legend(bbox_to_anchor=(1.05, 1), loc='upper left', fontsize=8)\n",
    "plt.title(f\"{fullname} from {emin.isot[:10]} to {emax.isot[:10]}\")\n",
    "plt.tight_layout()\n",
    "plt.grid(linestyle='--', alpha=0.5)\n",
    "# if saveplots:\n",
    "#     plt.savefig(\"sky_path.png\", facecolor=\"white\")\n",
    "plt.show()\n"
   ]
  },
  {
   "cell_type": "code",
   "execution_count": null,
   "metadata": {},
   "outputs": [
    {
     "data": {
      "application/vnd.microsoft.datawrangler.viewer.v0+json": {
       "columns": [
        {
         "name": "('Telescope/Instrument', 'Filter')",
         "rawType": "object",
         "type": "unknown"
        },
        {
         "name": "count",
         "rawType": "int64",
         "type": "integer"
        }
       ],
       "ref": "7d7d3c67-e401-42f7-9562-d8d548b41745",
       "rows": [
        [
         "('WISE', 'w1')",
         "183"
        ],
        [
         "('WISE', 'w2')",
         "183"
        ],
        [
         "('ESO-VISTA/VIRCAM', 'KS')",
         "155"
        ],
        [
         "('ESA-Schiaparelli', 'Clear')",
         "98"
        ],
        [
         "('WISE', 'w4')",
         "72"
        ],
        [
         "('WISE', 'w3')",
         "70"
        ],
        [
         "('CTIO-4m/DECam', 'g')",
         "40"
        ],
        [
         "('CTIO-4m/DECam', 'r')",
         "20"
        ],
        [
         "('ESA-OGS-ESACCD2', 'IRBlock')",
         "12"
        ],
        [
         "('CTIO-4m/DECam', 'i')",
         "11"
        ],
        [
         "('ESA-Klet', 'none')",
         "10"
        ],
        [
         "('LCO/lsc_0m4a_kb29', 'rp')",
         "7"
        ],
        [
         "('LCO/lsc_0m4a_kb29', 'ip')",
         "7"
        ],
        [
         "('LCO/lsc_0m4a_kb29', 'gp')",
         "7"
        ],
        [
         "('ESO-VISTA/VIRCAM', 'J')",
         "6"
        ],
        [
         "('ESA-TBT-LaSilla', 'R')",
         "4"
        ],
        [
         "('CTIO-4m/DECam', 'z')",
         "4"
        ],
        [
         "('Skymapper', 'z')",
         "4"
        ],
        [
         "('Skymapper', 'g')",
         "4"
        ],
        [
         "('Skymapper', 'i')",
         "4"
        ],
        [
         "('Skymapper', 'r')",
         "4"
        ],
        [
         "('CFHT/MegaCam', 'GRI.MP9605')",
         "3"
        ],
        [
         "('Skymapper', 'u')",
         "3"
        ],
        [
         "('LCO/cpt_0m4a_kb84', 'rp')",
         "2"
        ],
        [
         "('LCO/cpt_0m4a_kb84', 'ip')",
         "2"
        ],
        [
         "('LCO/cpt_0m4a_kb84', 'gp')",
         "2"
        ],
        [
         "('Skymapper', 'v')",
         "1"
        ],
        [
         "('NEOSSat', 'CLEAR')",
         "1"
        ],
        [
         "('ESA-TBT-LaSilla', 'clr')",
         "1"
        ],
        [
         "('ALMA', 'Band-6')",
         "1"
        ]
       ],
       "shape": {
        "columns": 1,
        "rows": 30
       }
      },
      "text/plain": [
       "Telescope/Instrument  Filter    \n",
       "WISE                  w1            183\n",
       "                      w2            183\n",
       "ESO-VISTA/VIRCAM      KS            155\n",
       "ESA-Schiaparelli      Clear          98\n",
       "WISE                  w4             72\n",
       "                      w3             70\n",
       "CTIO-4m/DECam         g              40\n",
       "                      r              20\n",
       "ESA-OGS-ESACCD2       IRBlock        12\n",
       "CTIO-4m/DECam         i              11\n",
       "ESA-Klet              none           10\n",
       "LCO/lsc_0m4a_kb29     rp              7\n",
       "                      ip              7\n",
       "                      gp              7\n",
       "ESO-VISTA/VIRCAM      J               6\n",
       "ESA-TBT-LaSilla       R               4\n",
       "CTIO-4m/DECam         z               4\n",
       "Skymapper             z               4\n",
       "                      g               4\n",
       "                      i               4\n",
       "                      r               4\n",
       "CFHT/MegaCam          GRI.MP9605      3\n",
       "Skymapper             u               3\n",
       "LCO/cpt_0m4a_kb84     rp              2\n",
       "                      ip              2\n",
       "                      gp              2\n",
       "Skymapper             v               1\n",
       "NEOSSat               CLEAR           1\n",
       "ESA-TBT-LaSilla       clr             1\n",
       "ALMA                  Band-6          1\n",
       "Name: count, dtype: int64"
      ]
     },
     "execution_count": 21,
     "metadata": {},
     "output_type": "execute_result"
    }
   ],
   "source": []
  },
  {
   "cell_type": "code",
   "execution_count": 37,
   "metadata": {},
   "outputs": [
    {
     "data": {
      "text/html": [
       "<div><i>Table masked=True length=5787</i>\n",
       "<table id=\"table138639130324688\" class=\"table-striped table-bordered table-condensed\">\n",
       "<thead><tr><th>targetname</th><th>datetime_str</th><th>datetime_jd</th><th>M1</th><th>M2</th><th>k1</th><th>k2</th><th>phasecoeff</th><th>solar_presence</th><th>lunar_presence</th><th>RA</th><th>DEC</th><th>RA_app</th><th>DEC_app</th><th>RA_rate</th><th>DEC_rate</th><th>AZ</th><th>EL</th><th>AZ_rate</th><th>EL_rate</th><th>sat_X</th><th>sat_Y</th><th>sat_PANG</th><th>siderealtime</th><th>airmass</th><th>magextinct</th><th>Tmag</th><th>Nmag</th><th>illumination</th><th>illum_defect</th><th>sat_sep</th><th>sat_vis</th><th>ang_width</th><th>PDObsLon</th><th>PDObsLat</th><th>PDSunLon</th><th>PDSunLat</th><th>SubSol_ang</th><th>SubSol_dist</th><th>NPole_ang</th><th>NPole_dist</th><th>EclLon</th><th>EclLat</th><th>r</th><th>r_rate</th><th>delta</th><th>delta_rate</th><th>lighttime</th><th>vel_sun</th><th>vel_obs</th><th>elong</th><th>elongFlag</th><th>alpha</th><th>lunar_elong</th><th>lunar_illum</th><th>sat_alpha</th><th>sunTargetPA</th><th>velocityPA</th><th>OrbPlaneAng</th><th>constellation</th><th>TDB-UT</th><th>ObsEclLon</th><th>ObsEclLat</th><th>NPole_RA</th><th>NPole_DEC</th><th>GlxLon</th><th>GlxLat</th><th>solartime</th><th>earth_lighttime</th><th>RA_3sigma</th><th>DEC_3sigma</th><th>SMAA_3sigma</th><th>SMIA_3sigma</th><th>Theta_3sigma</th><th>Area_3sigma</th><th>RSS_3sigma</th><th>r_3sigma</th><th>r_rate_3sigma</th><th>SBand_3sigma</th><th>XBand_3sigma</th><th>DoppDelay_3sigma</th><th>true_anom</th><th>hour_angle</th><th>alpha_true</th><th>PABLon</th><th>PABLat</th></tr></thead>\n",
       "<thead><tr><th>---</th><th>---</th><th>d</th><th>mag</th><th>mag</th><th>---</th><th>---</th><th>mag / deg</th><th>---</th><th>---</th><th>deg</th><th>deg</th><th>deg</th><th>deg</th><th>arcsec / h</th><th>arcsec / h</th><th>deg</th><th>deg</th><th>arcsec / min</th><th>arcsec / min</th><th>arcsec</th><th>arcsec</th><th>deg</th><th>h</th><th>---</th><th>mag</th><th>mag</th><th>mag</th><th>%</th><th>arcsec</th><th>arcsec</th><th>---</th><th>arcsec</th><th>deg</th><th>deg</th><th>deg</th><th>deg</th><th>deg</th><th>arcsec</th><th>deg</th><th>arcsec</th><th>deg</th><th>deg</th><th>AU</th><th>km / s</th><th>AU</th><th>km / s</th><th>min</th><th>km / s</th><th>km / s</th><th>deg</th><th>---</th><th>deg</th><th>deg</th><th>%</th><th>deg</th><th>deg</th><th>deg</th><th>deg</th><th>---</th><th>s</th><th>deg</th><th>deg</th><th>deg</th><th>deg</th><th>deg</th><th>deg</th><th>h</th><th>min</th><th>arcsec</th><th>arcsec</th><th>arcsec</th><th>arcsec</th><th>deg</th><th>arcsec2</th><th>arcsec</th><th>km</th><th>km / s</th><th>Hz</th><th>Hz</th><th>s</th><th>deg</th><th>h</th><th>deg</th><th>deg</th><th>deg</th></tr></thead>\n",
       "<thead><tr><th>str19</th><th>str24</th><th>float64</th><th>float64</th><th>float64</th><th>float64</th><th>float64</th><th>float64</th><th>str1</th><th>str1</th><th>float64</th><th>float64</th><th>float64</th><th>float64</th><th>float64</th><th>float64</th><th>int64</th><th>int64</th><th>int64</th><th>int64</th><th>float64</th><th>float64</th><th>float64</th><th>int64</th><th>int64</th><th>int64</th><th>float64</th><th>float64</th><th>float64</th><th>int64</th><th>float64</th><th>str1</th><th>int64</th><th>int64</th><th>int64</th><th>int64</th><th>int64</th><th>float64</th><th>float64</th><th>int64</th><th>int64</th><th>float64</th><th>float64</th><th>float64</th><th>float64</th><th>float64</th><th>float64</th><th>float64</th><th>float64</th><th>float64</th><th>float64</th><th>str2</th><th>float64</th><th>float64</th><th>float64</th><th>float64</th><th>float64</th><th>float64</th><th>float64</th><th>str3</th><th>float64</th><th>float64</th><th>float64</th><th>int64</th><th>int64</th><th>float64</th><th>float64</th><th>int64</th><th>float64</th><th>float64</th><th>float64</th><th>float64</th><th>float64</th><th>float64</th><th>float64</th><th>float64</th><th>float64</th><th>float64</th><th>float64</th><th>float64</th><th>float64</th><th>float64</th><th>int64</th><th>float64</th><th>float64</th><th>float64</th></tr></thead>\n",
       "<tr><td>Garradd (C/2006 L1)</td><td>2008-Nov-04 05:54:54.308</td><td>2454774.746461898</td><td>8.7</td><td>14.1</td><td>21.75</td><td>5.0</td><td>0.03</td><td></td><td></td><td>328.95260071</td><td>27.536715517</td><td>329.05574842</td><td>27.582975843</td><td>-6.66275</td><td>-16.7163</td><td>--</td><td>--</td><td>--</td><td>--</td><td>379208.958</td><td>155079.483</td><td>66.259</td><td>--</td><td>999</td><td>--</td><td>32.506</td><td>23.117</td><td>99.66549</td><td>--</td><td>410261.0</td><td>*</td><td>--</td><td>--</td><td>--</td><td>--</td><td>--</td><td>264.42</td><td>0.0</td><td>--</td><td>--</td><td>350.368441</td><td>34.815241</td><td>7.848804737804</td><td>13.4995583</td><td>7.39366632885955</td><td>34.7323844</td><td>61.4912478</td><td>14.9745057</td><td>43.8714943</td><td>113.9614</td><td>/T</td><td>6.6297</td><td>62.0</td><td>32.0685</td><td>59.5038</td><td>84.42</td><td>37.128</td><td>-3.96561</td><td>Peg</td><td>65.182543</td><td>342.8933006</td><td>37.3093117</td><td>--</td><td>--</td><td>81.749363</td><td>-20.960541</td><td>--</td><td>0.0</td><td>1.863</td><td>1.269</td><td>2.226</td><td>0.354</td><td>33.672</td><td>2.4779649</td><td>2.254</td><td>16221.8836</td><td>0.0003927</td><td>2.64</td><td>9.59</td><td>0.108221</td><td>129.0733</td><td>--</td><td>6.6313</td><td>346.6273</td><td>36.1211</td></tr>\n",
       "<tr><td>Garradd (C/2006 L1)</td><td>2008-Nov-05 05:54:54.308</td><td>2454775.746461898</td><td>8.7</td><td>14.1</td><td>21.75</td><td>5.0</td><td>0.03</td><td></td><td></td><td>328.903827668</td><td>27.425715662</td><td>329.006954878</td><td>27.471950885</td><td>-6.30221</td><td>-16.5936</td><td>--</td><td>--</td><td>--</td><td>--</td><td>375040.033</td><td>155775.509</td><td>66.396</td><td>--</td><td>999</td><td>--</td><td>32.522</td><td>23.126</td><td>99.66219</td><td>--</td><td>407354.9</td><td>*</td><td>--</td><td>--</td><td>--</td><td>--</td><td>--</td><td>263.62</td><td>0.0</td><td>--</td><td>--</td><td>350.336003</td><td>34.809277</td><td>7.856598964939</td><td>13.494318</td><td>7.41379876565315</td><td>34.9863725</td><td>61.65868417</td><td>14.9669954</td><td>43.8952097</td><td>113.1541</td><td>/T</td><td>6.6624</td><td>53.0</td><td>41.2361</td><td>60.279</td><td>83.629</td><td>37.2</td><td>-3.91251</td><td>Peg</td><td>65.182558</td><td>342.7843835</td><td>37.2275476</td><td>--</td><td>--</td><td>81.635888</td><td>-21.015136</td><td>--</td><td>0.0</td><td>1.863</td><td>1.274</td><td>2.229</td><td>0.354</td><td>33.786</td><td>2.4764657</td><td>2.257</td><td>16235.8233</td><td>0.0003926</td><td>2.7</td><td>9.83</td><td>0.108314</td><td>129.1008</td><td>--</td><td>6.664</td><td>346.5553</td><td>36.0784</td></tr>\n",
       "<tr><td>Garradd (C/2006 L1)</td><td>2008-Nov-06 05:54:54.308</td><td>2454776.746461898</td><td>8.7</td><td>14.1</td><td>21.75</td><td>5.0</td><td>0.03</td><td></td><td></td><td>328.857803377</td><td>27.315547748</td><td>328.960901955</td><td>27.361753414</td><td>-5.94349</td><td>-16.4664</td><td>--</td><td>--</td><td>--</td><td>--</td><td>370877.342</td><td>156458.717</td><td>66.511</td><td>--</td><td>999</td><td>--</td><td>32.537</td><td>23.135</td><td>99.659</td><td>--</td><td>404434.8</td><td>*</td><td>--</td><td>--</td><td>--</td><td>--</td><td>--</td><td>262.85</td><td>0.0</td><td>--</td><td>--</td><td>350.303634</td><td>34.803317</td><td>7.864390161493</td><td>13.4890849</td><td>7.43407547579093</td><td>35.2320119</td><td>61.82732043</td><td>14.9594992</td><td>43.915861</td><td>112.343</td><td>/T</td><td>6.6939</td><td>45.0</td><td>50.893</td><td>61.0592</td><td>82.851</td><td>37.277</td><td>-3.85844</td><td>Peg</td><td>65.182573</td><td>342.6788182</td><td>37.1454445</td><td>--</td><td>--</td><td>81.524822</td><td>-21.070582</td><td>--</td><td>0.0</td><td>1.862</td><td>1.278</td><td>2.231</td><td>0.353</td><td>33.899</td><td>2.4747502</td><td>2.259</td><td>16250.154</td><td>0.0003925</td><td>2.77</td><td>10.07</td><td>0.108409</td><td>129.1281</td><td>--</td><td>6.6955</td><td>346.485</td><td>36.0355</td></tr>\n",
       "<tr><td>Garradd (C/2006 L1)</td><td>2008-Nov-07 05:54:54.308</td><td>2454777.746461898</td><td>8.7</td><td>14.1</td><td>21.75</td><td>5.0</td><td>0.03</td><td></td><td></td><td>328.814507647</td><td>27.206241158</td><td>328.917569356</td><td>27.252413499</td><td>-5.58675</td><td>-16.3349</td><td>--</td><td>--</td><td>--</td><td>--</td><td>366721.503</td><td>157128.811</td><td>66.606</td><td>--</td><td>999</td><td>--</td><td>32.552</td><td>23.144</td><td>99.65591</td><td>--</td><td>401501.8</td><td>*</td><td>--</td><td>--</td><td>--</td><td>--</td><td>--</td><td>262.08</td><td>0.0</td><td>--</td><td>--</td><td>350.271334</td><td>34.79736</td><td>7.872178331858</td><td>13.4838591</td><td>7.45449163533815</td><td>35.4692977</td><td>61.99711645</td><td>14.9520168</td><td>43.9335224</td><td>111.5283</td><td>/T</td><td>6.7241</td><td>38.5</td><td>60.7528</td><td>61.8442</td><td>82.087</td><td>37.361</td><td>-3.80343</td><td>Peg</td><td>65.182589</td><td>342.5765969</td><td>37.0630393</td><td>--</td><td>--</td><td>81.416177</td><td>-21.126855</td><td>--</td><td>0.0</td><td>1.862</td><td>1.283</td><td>2.233</td><td>0.352</td><td>34.011</td><td>2.4728236</td><td>2.261</td><td>16264.8819</td><td>0.0003924</td><td>2.84</td><td>10.31</td><td>0.108508</td><td>129.1554</td><td>--</td><td>6.7257</td><td>346.4163</td><td>35.9924</td></tr>\n",
       "<tr><td>Garradd (C/2006 L1)</td><td>2008-Nov-08 05:54:54.308</td><td>2454778.746461898</td><td>8.7</td><td>14.1</td><td>21.75</td><td>5.0</td><td>0.03</td><td></td><td></td><td>328.773919235</td><td>27.097824042</td><td>328.876937398</td><td>27.143960795</td><td>-5.23214</td><td>-16.1992</td><td>--</td><td>--</td><td>--</td><td>--</td><td>362573.11</td><td>157785.499</td><td>66.68</td><td>--</td><td>999</td><td>--</td><td>32.567</td><td>23.153</td><td>99.65295</td><td>--</td><td>398556.7</td><td>*</td><td>--</td><td>--</td><td>--</td><td>--</td><td>--</td><td>261.33</td><td>0.0</td><td>--</td><td>--</td><td>350.239102</td><td>34.791406</td><td>7.879963480422</td><td>13.4786404</td><td>7.47504242378375</td><td>35.6982475</td><td>62.16803215</td><td>14.9445483</td><td>43.948285</td><td>110.7102</td><td>/T</td><td>6.7531</td><td>34.8</td><td>70.4689</td><td>62.6339</td><td>81.334</td><td>37.45</td><td>-3.74751</td><td>Peg</td><td>65.182604</td><td>342.4777117</td><td>36.9803682</td><td>--</td><td>--</td><td>81.309964</td><td>-21.183936</td><td>--</td><td>0.0</td><td>1.861</td><td>1.287</td><td>2.235</td><td>0.352</td><td>34.122</td><td>2.4706911</td><td>2.263</td><td>16280.013</td><td>0.0003924</td><td>2.91</td><td>10.57</td><td>0.108609</td><td>129.1827</td><td>--</td><td>6.7546</td><td>346.3492</td><td>35.9492</td></tr>\n",
       "<tr><td>Garradd (C/2006 L1)</td><td>2008-Nov-09 05:54:54.308</td><td>2454779.746461898</td><td>8.7</td><td>14.1</td><td>21.75</td><td>5.0</td><td>0.03</td><td></td><td></td><td>328.736015931</td><td>26.990323275</td><td>328.838987393</td><td>27.036424508</td><td>-4.87981</td><td>-16.0596</td><td>--</td><td>--</td><td>--</td><td>--</td><td>358432.73</td><td>158428.493</td><td>66.735</td><td>--</td><td>999</td><td>--</td><td>32.583</td><td>23.162</td><td>99.65011</td><td>--</td><td>395600.2</td><td>*</td><td>--</td><td>--</td><td>--</td><td>--</td><td>--</td><td>260.59</td><td>0.0</td><td>--</td><td>--</td><td>350.206938</td><td>34.785456</td><td>7.887745611558</td><td>13.473429</td><td>7.49572303885348</td><td>35.9189078</td><td>62.34002758</td><td>14.9370937</td><td>43.9602616</td><td>109.8889</td><td>/T</td><td>6.7808</td><td>35.2</td><td>79.6161</td><td>63.4279</td><td>80.594</td><td>37.545</td><td>-3.69069</td><td>Peg</td><td>65.182621</td><td>342.3821552</td><td>36.8974666</td><td>--</td><td>--</td><td>81.206191</td><td>-21.241802</td><td>--</td><td>0.0</td><td>1.86</td><td>1.291</td><td>2.237</td><td>0.351</td><td>34.232</td><td>2.468358</td><td>2.264</td><td>16295.5528</td><td>0.0003923</td><td>2.98</td><td>10.82</td><td>0.108712</td><td>129.2099</td><td>--</td><td>6.7823</td><td>346.2838</td><td>35.9057</td></tr>\n",
       "<tr><td>Garradd (C/2006 L1)</td><td>2008-Nov-10 05:54:54.308</td><td>2454780.746461898</td><td>8.7</td><td>14.1</td><td>21.75</td><td>5.0</td><td>0.03</td><td></td><td></td><td>328.700774701</td><td>26.883764433</td><td>328.803701769</td><td>26.929833165</td><td>-4.52987</td><td>-15.9163</td><td>--</td><td>--</td><td>--</td><td>--</td><td>354300.902</td><td>159057.511</td><td>66.77</td><td>--</td><td>999</td><td>--</td><td>32.598</td><td>23.171</td><td>99.64739</td><td>--</td><td>392633.2</td><td>*</td><td>--</td><td>--</td><td>--</td><td>--</td><td>--</td><td>259.86</td><td>0.0</td><td>--</td><td>--</td><td>350.174843</td><td>34.779509</td><td>7.895524729634</td><td>13.4682247</td><td>7.51652871443548</td><td>36.1313579</td><td>62.51306311</td><td>14.9296529</td><td>43.9695867</td><td>109.0648</td><td>/T</td><td>6.8072</td><td>40.0</td><td>87.6845</td><td>64.2262</td><td>79.865</td><td>37.645</td><td>-3.63302</td><td>Peg</td><td>65.182637</td><td>342.2899209</td><td>36.814369</td><td>--</td><td>--</td><td>81.104867</td><td>-21.300432</td><td>--</td><td>0.0</td><td>1.859</td><td>1.296</td><td>2.239</td><td>0.351</td><td>34.34</td><td>2.4658294</td><td>2.266</td><td>16311.5065</td><td>0.0003922</td><td>3.05</td><td>11.08</td><td>0.108819</td><td>129.2371</td><td>--</td><td>6.8086</td><td>346.2201</td><td>35.8622</td></tr>\n",
       "<tr><td>Garradd (C/2006 L1)</td><td>2008-Nov-11 05:54:54.308</td><td>2454781.746461898</td><td>8.7</td><td>14.1</td><td>21.75</td><td>5.0</td><td>0.03</td><td></td><td></td><td>328.66817189</td><td>26.778171798</td><td>328.771063527</td><td>26.824214048</td><td>-4.18242</td><td>-15.7694</td><td>--</td><td>--</td><td>--</td><td>--</td><td>350178.13</td><td>159672.277</td><td>66.785</td><td>--</td><td>999</td><td>--</td><td>32.613</td><td>23.18</td><td>99.6448</td><td>--</td><td>389656.4</td><td>*</td><td>--</td><td>--</td><td>--</td><td>--</td><td>--</td><td>259.14</td><td>0.0</td><td>--</td><td>--</td><td>350.142815</td><td>34.773565</td><td>7.903300839004</td><td>13.4630275</td><td>7.53745473978087</td><td>36.3357093</td><td>62.68709955</td><td>14.9222258</td><td>43.9764108</td><td>108.2379</td><td>/T</td><td>6.8323</td><td>48.1</td><td>94.1029</td><td>65.0285</td><td>79.147</td><td>37.751</td><td>-3.57451</td><td>Peg</td><td>65.182654</td><td>342.2010029</td><td>36.7311089</td><td>--</td><td>--</td><td>81.005996</td><td>-21.359804</td><td>--</td><td>0.0</td><td>1.858</td><td>1.3</td><td>2.24</td><td>0.35</td><td>34.448</td><td>2.4631107</td><td>2.267</td><td>16327.879</td><td>0.0003922</td><td>3.12</td><td>11.35</td><td>0.108928</td><td>129.2641</td><td>--</td><td>6.8336</td><td>346.158</td><td>35.8185</td></tr>\n",
       "<tr><td>Garradd (C/2006 L1)</td><td>2008-Nov-12 05:54:54.308</td><td>2454782.746461898</td><td>8.7</td><td>14.1</td><td>21.75</td><td>5.0</td><td>0.03</td><td></td><td></td><td>328.638183501</td><td>26.673568416</td><td>328.741054812</td><td>26.719592304</td><td>-3.83749</td><td>-15.6192</td><td>--</td><td>--</td><td>--</td><td>--</td><td>346064.884</td><td>160272.518</td><td>66.782</td><td>--</td><td>999</td><td>--</td><td>32.629</td><td>23.189</td><td>99.64234</td><td>--</td><td>386670.4</td><td>*</td><td>--</td><td>--</td><td>--</td><td>--</td><td>--</td><td>258.43</td><td>0.0</td><td>--</td><td>--</td><td>350.110855</td><td>34.767625</td><td>7.911073944011</td><td>13.4578375</td><td>7.55849647578287</td><td>36.532096</td><td>62.86209833</td><td>14.9148124</td><td>43.9808839</td><td>107.4084</td><td>/T</td><td>6.8559</td><td>58.5</td><td>98.3016</td><td>65.8347</td><td>78.439</td><td>37.863</td><td>-3.51519</td><td>Peg</td><td>65.182671</td><td>342.1153947</td><td>36.6477187</td><td>--</td><td>--</td><td>80.909586</td><td>-21.419898</td><td>--</td><td>0.0</td><td>1.857</td><td>1.304</td><td>2.242</td><td>0.349</td><td>34.555</td><td>2.460207</td><td>2.269</td><td>16344.6752</td><td>0.0003921</td><td>3.2</td><td>11.62</td><td>0.10904</td><td>129.2912</td><td>--</td><td>6.8572</td><td>346.0975</td><td>35.7747</td></tr>\n",
       "<tr><td>...</td><td>...</td><td>...</td><td>...</td><td>...</td><td>...</td><td>...</td><td>...</td><td>...</td><td>...</td><td>...</td><td>...</td><td>...</td><td>...</td><td>...</td><td>...</td><td>...</td><td>...</td><td>...</td><td>...</td><td>...</td><td>...</td><td>...</td><td>...</td><td>...</td><td>...</td><td>...</td><td>...</td><td>...</td><td>...</td><td>...</td><td>...</td><td>...</td><td>...</td><td>...</td><td>...</td><td>...</td><td>...</td><td>...</td><td>...</td><td>...</td><td>...</td><td>...</td><td>...</td><td>...</td><td>...</td><td>...</td><td>...</td><td>...</td><td>...</td><td>...</td><td>...</td><td>...</td><td>...</td><td>...</td><td>...</td><td>...</td><td>...</td><td>...</td><td>...</td><td>...</td><td>...</td><td>...</td><td>...</td><td>...</td><td>...</td><td>...</td><td>...</td><td>...</td><td>...</td><td>...</td><td>...</td><td>...</td><td>...</td><td>...</td><td>...</td><td>...</td><td>...</td><td>...</td><td>...</td><td>...</td><td>...</td><td>...</td><td>...</td><td>...</td><td>...</td></tr>\n",
       "<tr><td>Garradd (C/2006 L1)</td><td>2024-Aug-30 05:54:54.308</td><td>2460552.746461898</td><td>8.7</td><td>14.1</td><td>21.75</td><td>5.0</td><td>0.03</td><td></td><td></td><td>313.805215396</td><td>9.020765712</td><td>314.109719428</td><td>9.116462986</td><td>-3.64425</td><td>-1.86636</td><td>--</td><td>--</td><td>--</td><td>--</td><td>551599.718</td><td>1109.995</td><td>54.813</td><td>--</td><td>999</td><td>--</td><td>50.487</td><td>29.713</td><td>99.99507</td><td>--</td><td>537705.2</td><td>*</td><td>--</td><td>--</td><td>--</td><td>--</td><td>--</td><td>305.42</td><td>0.0</td><td>--</td><td>--</td><td>319.662656</td><td>24.658409</td><td>36.65229900634</td><td>6.6414035</td><td>35.780011582447</td><td>15.1782429</td><td>297.57328242</td><td>6.7851407</td><td>33.1867078</td><td>149.3626</td><td>/T</td><td>0.8019</td><td>141.0</td><td>13.7718</td><td>30.0249</td><td>125.202</td><td>40.313</td><td>-0.78818</td><td>Del</td><td>69.182671</td><td>319.4779314</td><td>25.300183</td><td>--</td><td>--</td><td>56.59696</td><td>-22.367316</td><td>--</td><td>0.0</td><td>5.06</td><td>4.845</td><td>6.998</td><td>0.323</td><td>43.747</td><td>7.1101262</td><td>7.006</td><td>307394.347</td><td>0.0007742</td><td>3.08</td><td>11.2</td><td>2.050714</td><td>157.4997</td><td>--</td><td>0.8045</td><td>319.3967</td><td>24.9802</td></tr>\n",
       "<tr><td>Garradd (C/2006 L1)</td><td>2024-Aug-31 05:54:54.308</td><td>2460553.746461898</td><td>8.7</td><td>14.1</td><td>21.75</td><td>5.0</td><td>0.03</td><td></td><td></td><td>313.780701086</td><td>9.008300641</td><td>314.085217505</td><td>9.103984351</td><td>-3.61278</td><td>-1.88607</td><td>--</td><td>--</td><td>--</td><td>--</td><td>548806.221</td><td>2362.591</td><td>56.34</td><td>--</td><td>999</td><td>--</td><td>50.489</td><td>29.714</td><td>99.99491</td><td>--</td><td>535726.3</td><td>*</td><td>--</td><td>--</td><td>--</td><td>--</td><td>--</td><td>303.8</td><td>0.0</td><td>--</td><td>--</td><td>319.661437</td><td>24.657822</td><td>36.65613444027</td><td>6.641055</td><td>35.7889067778473</td><td>15.625358</td><td>297.64726151</td><td>6.7847732</td><td>33.2796728</td><td>148.8129</td><td>/T</td><td>0.8146</td><td>147.7</td><td>7.6306</td><td>30.5688</td><td>123.592</td><td>40.259</td><td>-0.79699</td><td>Del</td><td>69.182655</td><td>319.4482372</td><td>25.2957206</td><td>--</td><td>--</td><td>56.571055</td><td>-22.354318</td><td>--</td><td>0.0</td><td>5.065</td><td>4.847</td><td>7.003</td><td>0.323</td><td>43.738</td><td>7.1138292</td><td>7.01</td><td>307378.645</td><td>0.0007741</td><td>3.06</td><td>11.13</td><td>2.05061</td><td>157.5007</td><td>--</td><td>0.8173</td><td>319.3813</td><td>24.9776</td></tr>\n",
       "<tr><td>Garradd (C/2006 L1)</td><td>2024-Sep-01 05:54:54.308</td><td>2460554.746461898</td><td>8.7</td><td>14.1</td><td>21.75</td><td>5.0</td><td>0.03</td><td></td><td></td><td>313.756403683</td><td>8.995705742</td><td>314.060919153</td><td>9.091370713</td><td>-3.58016</td><td>-1.90521</td><td>--</td><td>--</td><td>--</td><td>--</td><td>545993.084</td><td>3622.882</td><td>57.81</td><td>--</td><td>999</td><td>--</td><td>50.49</td><td>29.715</td><td>99.99475</td><td>--</td><td>533676.5</td><td>*</td><td>--</td><td>--</td><td>--</td><td>--</td><td>--</td><td>302.23</td><td>0.0</td><td>--</td><td>--</td><td>319.660217</td><td>24.657236</td><td>36.65996966724</td><td>6.6407065</td><td>35.7980595216792</td><td>16.0700904</td><td>297.72338256</td><td>6.7844057</td><td>33.3712941</td><td>148.2435</td><td>/T</td><td>0.8276</td><td>150.8</td><td>3.2492</td><td>31.1317</td><td>122.033</td><td>40.207</td><td>-0.80556</td><td>Del</td><td>69.18264</td><td>319.4187104</td><td>25.2910652</td><td>--</td><td>--</td><td>56.545169</td><td>-22.341562</td><td>--</td><td>0.0</td><td>5.069</td><td>4.849</td><td>7.007</td><td>0.323</td><td>43.729</td><td>7.1174116</td><td>7.015</td><td>307363.06</td><td>0.0007741</td><td>3.04</td><td>11.05</td><td>2.050506</td><td>157.5017</td><td>--</td><td>0.8304</td><td>319.3659</td><td>24.975</td></tr>\n",
       "<tr><td>Garradd (C/2006 L1)</td><td>2024-Sep-02 05:54:54.308</td><td>2460555.746461898</td><td>8.7</td><td>14.1</td><td>21.75</td><td>5.0</td><td>0.03</td><td></td><td></td><td>313.732330936</td><td>8.982984853</td><td>314.036832704</td><td>9.078627741</td><td>-3.5464</td><td>-1.92376</td><td>--</td><td>--</td><td>--</td><td>--</td><td>543159.93</td><td>4890.545</td><td>59.223</td><td>--</td><td>999</td><td>--</td><td>50.492</td><td>29.716</td><td>99.99458</td><td>--</td><td>531559.5</td><td>*</td><td>--</td><td>--</td><td>--</td><td>--</td><td>--</td><td>300.71</td><td>0.0</td><td>--</td><td>--</td><td>319.658998</td><td>24.656649</td><td>36.66380468733</td><td>6.6403582</td><td>35.807468368673</td><td>16.5122016</td><td>297.80163355</td><td>6.7840383</td><td>33.4615173</td><td>147.6554</td><td>/T</td><td>0.841</td><td>149.5</td><td>0.7166</td><td>31.7126</td><td>120.524</td><td>40.156</td><td>-0.81388</td><td>Del</td><td>69.182625</td><td>319.3893608</td><td>25.2862182</td><td>--</td><td>--</td><td>56.519309</td><td>-22.329054</td><td>--</td><td>0.0</td><td>5.073</td><td>4.852</td><td>7.012</td><td>0.323</td><td>43.72</td><td>7.1208721</td><td>7.019</td><td>307347.619</td><td>0.000774</td><td>3.01</td><td>10.94</td><td>2.050403</td><td>157.5026</td><td>--</td><td>0.8438</td><td>319.3507</td><td>24.9723</td></tr>\n",
       "<tr><td>Garradd (C/2006 L1)</td><td>2024-Sep-03 05:54:54.308</td><td>2460556.746461898</td><td>8.7</td><td>14.1</td><td>21.75</td><td>5.0</td><td>0.03</td><td></td><td></td><td>313.708490488</td><td>8.970141899</td><td>314.012968086</td><td>9.065761517</td><td>-3.51152</td><td>-1.94172</td><td>--</td><td>--</td><td>--</td><td>--</td><td>540306.409</td><td>6165.263</td><td>60.581</td><td>--</td><td>999</td><td>--</td><td>50.494</td><td>29.718</td><td>99.9944</td><td>--</td><td>529378.8</td><td>*</td><td>--</td><td>--</td><td>--</td><td>--</td><td>--</td><td>299.24</td><td>0.0</td><td>--</td><td>--</td><td>319.65778</td><td>24.656063</td><td>36.66763950064</td><td>6.6400099</td><td>35.8171317379018</td><td>16.9514608</td><td>297.88200134</td><td>6.7836711</td><td>33.5503038</td><td>147.0497</td><td>/T</td><td>0.8547</td><td>144.3</td><td>0.0595</td><td>32.3104</td><td>119.063</td><td>40.105</td><td>-0.82196</td><td>Del</td><td>69.18261</td><td>319.3602002</td><td>25.2811811</td><td>--</td><td>--</td><td>56.493483</td><td>-22.316796</td><td>--</td><td>0.0</td><td>5.076</td><td>4.854</td><td>7.016</td><td>0.323</td><td>43.712</td><td>7.1242096</td><td>7.024</td><td>307332.35</td><td>0.0007739</td><td>2.98</td><td>10.82</td><td>2.050301</td><td>157.5036</td><td>--</td><td>0.8576</td><td>319.3356</td><td>24.9695</td></tr>\n",
       "<tr><td>Garradd (C/2006 L1)</td><td>2024-Sep-04 05:54:54.308</td><td>2460557.746461898</td><td>8.7</td><td>14.1</td><td>21.75</td><td>5.0</td><td>0.03</td><td></td><td></td><td>313.684889858</td><td>8.957180873</td><td>313.989336326</td><td>9.052778162</td><td>-3.47553</td><td>-1.95907</td><td>--</td><td>--</td><td>--</td><td>--</td><td>537432.198</td><td>7446.715</td><td>61.886</td><td>--</td><td>999</td><td>--</td><td>50.495</td><td>29.719</td><td>99.99421</td><td>--</td><td>527137.8</td><td>*</td><td>--</td><td>--</td><td>--</td><td>--</td><td>--</td><td>297.82</td><td>0.0</td><td>--</td><td>--</td><td>319.656561</td><td>24.655477</td><td>36.67147410727</td><td>6.6396618</td><td>35.8270479178744</td><td>17.387647</td><td>297.9644717</td><td>6.783304</td><td>33.6376293</td><td>146.4272</td><td>/T</td><td>0.8687</td><td>136.6</td><td>1.2464</td><td>32.9244</td><td>117.649</td><td>40.056</td><td>-0.82979</td><td>Del</td><td>69.182596</td><td>319.3312417</td><td>25.2759554</td><td>--</td><td>--</td><td>56.4677</td><td>-22.304794</td><td>--</td><td>0.0</td><td>5.08</td><td>4.856</td><td>7.021</td><td>0.323</td><td>43.705</td><td>7.1274228</td><td>7.028</td><td>307317.278</td><td>0.0007738</td><td>2.94</td><td>10.68</td><td>2.0502</td><td>157.5046</td><td>--</td><td>0.8716</td><td>319.3205</td><td>24.9666</td></tr>\n",
       "<tr><td>Garradd (C/2006 L1)</td><td>2024-Sep-05 05:54:54.308</td><td>2460558.746461898</td><td>8.7</td><td>14.1</td><td>21.75</td><td>5.0</td><td>0.03</td><td></td><td></td><td>313.661536429</td><td>8.944105832</td><td>313.96594896</td><td>9.039683548</td><td>-3.43846</td><td>-1.97581</td><td>--</td><td>--</td><td>--</td><td>--</td><td>534536.998</td><td>8734.582</td><td>63.137</td><td>--</td><td>999</td><td>--</td><td>50.497</td><td>29.72</td><td>99.99402</td><td>--</td><td>524839.9</td><td>*</td><td>--</td><td>--</td><td>--</td><td>--</td><td>--</td><td>296.44</td><td>0.0</td><td>--</td><td>--</td><td>319.655343</td><td>24.65489</td><td>36.67530850731</td><td>6.6393138</td><td>35.8372150726733</td><td>17.8205503</td><td>298.04902934</td><td>6.782937</td><td>33.7234821</td><td>145.7889</td><td>/T</td><td>0.8829</td><td>127.7</td><td>4.1955</td><td>33.5537</td><td>116.282</td><td>40.008</td><td>-0.83736</td><td>Del</td><td>69.182582</td><td>319.3024991</td><td>25.2705429</td><td>--</td><td>--</td><td>56.441966</td><td>-22.293051</td><td>--</td><td>0.0</td><td>5.084</td><td>4.859</td><td>7.025</td><td>0.323</td><td>43.697</td><td>7.1305107</td><td>7.032</td><td>307302.431</td><td>0.0007737</td><td>2.9</td><td>10.53</td><td>2.050101</td><td>157.5055</td><td>--</td><td>0.8859</td><td>319.3056</td><td>24.9636</td></tr>\n",
       "<tr><td>Garradd (C/2006 L1)</td><td>2024-Sep-06 05:54:54.308</td><td>2460559.746461898</td><td>8.7</td><td>14.1</td><td>21.75</td><td>5.0</td><td>0.03</td><td></td><td></td><td>313.638437433</td><td>8.930920878</td><td>313.942817425</td><td>9.026483052</td><td>-3.40033</td><td>-1.99192</td><td>--</td><td>--</td><td>--</td><td>--</td><td>531620.534</td><td>10028.541</td><td>64.338</td><td>--</td><td>999</td><td>--</td><td>50.498</td><td>29.721</td><td>99.99383</td><td>--</td><td>522488.2</td><td>*</td><td>--</td><td>--</td><td>--</td><td>--</td><td>--</td><td>295.11</td><td>0.0</td><td>--</td><td>--</td><td>319.654125</td><td>24.654304</td><td>36.6791427009</td><td>6.6389659</td><td>35.8476312487132</td><td>18.2499732</td><td>298.13565804</td><td>6.7825702</td><td>33.8078615</td><td>145.1356</td><td>/T</td><td>0.8973</td><td>118.1</td><td>8.7834</td><td>34.1974</td><td>114.959</td><td>39.961</td><td>-0.84468</td><td>Del</td><td>69.182568</td><td>319.2739863</td><td>25.2649454</td><td>--</td><td>--</td><td>56.416291</td><td>-22.28157</td><td>--</td><td>0.0</td><td>5.088</td><td>4.861</td><td>7.029</td><td>0.323</td><td>43.69</td><td>7.1334724</td><td>7.036</td><td>307287.835</td><td>0.0007736</td><td>2.85</td><td>10.36</td><td>2.050004</td><td>157.5065</td><td>--</td><td>0.9003</td><td>319.2908</td><td>24.9606</td></tr>\n",
       "<tr><td>Garradd (C/2006 L1)</td><td>2024-Sep-07 05:54:54.308</td><td>2460560.746461898</td><td>8.7</td><td>14.1</td><td>21.75</td><td>5.0</td><td>0.03</td><td></td><td></td><td>313.615599946</td><td>8.917630155</td><td>313.919952538</td><td>9.013181432</td><td>-3.36116</td><td>-2.00741</td><td>--</td><td>--</td><td>--</td><td>--</td><td>528682.553</td><td>11328.266</td><td>65.489</td><td>--</td><td>999</td><td>--</td><td>50.5</td><td>29.723</td><td>99.99362</td><td>--</td><td>520085.5</td><td>*</td><td>--</td><td>--</td><td>--</td><td>--</td><td>--</td><td>293.82</td><td>0.0</td><td>--</td><td>--</td><td>319.652907</td><td>24.653718</td><td>36.68297668815</td><td>6.6386181</td><td>35.8582943816259</td><td>18.6757296</td><td>298.22434061</td><td>6.7822035</td><td>33.8907757</td><td>144.4682</td><td>/T</td><td>0.9119</td><td>108.0</td><td>14.8556</td><td>34.8548</td><td>113.679</td><td>39.915</td><td>-0.85174</td><td>Del</td><td>69.182555</td><td>319.2457164</td><td>25.2591648</td><td>--</td><td>--</td><td>56.390681</td><td>-22.270355</td><td>--</td><td>0.0</td><td>5.091</td><td>4.863</td><td>7.033</td><td>0.323</td><td>43.684</td><td>7.1363068</td><td>7.041</td><td>307273.517</td><td>0.0007735</td><td>2.8</td><td>10.17</td><td>2.049908</td><td>157.5074</td><td>--</td><td>0.915</td><td>319.2761</td><td>24.9574</td></tr>\n",
       "</table></div>"
      ],
      "text/plain": [
       "<Table masked=True length=5787>\n",
       "     targetname           datetime_str       ...  PABLon   PABLat\n",
       "        ---                   ---            ...   deg      deg  \n",
       "       str19                 str24           ... float64  float64\n",
       "------------------- ------------------------ ... -------- -------\n",
       "Garradd (C/2006 L1) 2008-Nov-04 05:54:54.308 ... 346.6273 36.1211\n",
       "Garradd (C/2006 L1) 2008-Nov-05 05:54:54.308 ... 346.5553 36.0784\n",
       "Garradd (C/2006 L1) 2008-Nov-06 05:54:54.308 ...  346.485 36.0355\n",
       "Garradd (C/2006 L1) 2008-Nov-07 05:54:54.308 ... 346.4163 35.9924\n",
       "Garradd (C/2006 L1) 2008-Nov-08 05:54:54.308 ... 346.3492 35.9492\n",
       "Garradd (C/2006 L1) 2008-Nov-09 05:54:54.308 ... 346.2838 35.9057\n",
       "Garradd (C/2006 L1) 2008-Nov-10 05:54:54.308 ... 346.2201 35.8622\n",
       "Garradd (C/2006 L1) 2008-Nov-11 05:54:54.308 ...  346.158 35.8185\n",
       "Garradd (C/2006 L1) 2008-Nov-12 05:54:54.308 ... 346.0975 35.7747\n",
       "                ...                      ... ...      ...     ...\n",
       "Garradd (C/2006 L1) 2024-Aug-30 05:54:54.308 ... 319.3967 24.9802\n",
       "Garradd (C/2006 L1) 2024-Aug-31 05:54:54.308 ... 319.3813 24.9776\n",
       "Garradd (C/2006 L1) 2024-Sep-01 05:54:54.308 ... 319.3659  24.975\n",
       "Garradd (C/2006 L1) 2024-Sep-02 05:54:54.308 ... 319.3507 24.9723\n",
       "Garradd (C/2006 L1) 2024-Sep-03 05:54:54.308 ... 319.3356 24.9695\n",
       "Garradd (C/2006 L1) 2024-Sep-04 05:54:54.308 ... 319.3205 24.9666\n",
       "Garradd (C/2006 L1) 2024-Sep-05 05:54:54.308 ... 319.3056 24.9636\n",
       "Garradd (C/2006 L1) 2024-Sep-06 05:54:54.308 ... 319.2908 24.9606\n",
       "Garradd (C/2006 L1) 2024-Sep-07 05:54:54.308 ... 319.2761 24.9574"
      ]
     },
     "execution_count": 37,
     "metadata": {},
     "output_type": "execute_result"
    }
   ],
   "source": [
    "jpltab"
   ]
  },
  {
   "cell_type": "code",
   "execution_count": null,
   "metadata": {},
   "outputs": [],
   "source": []
  }
 ],
 "metadata": {
  "kernelspec": {
   "display_name": "astro",
   "language": "python",
   "name": "python3"
  },
  "language_info": {
   "codemirror_mode": {
    "name": "ipython",
    "version": 3
   },
   "file_extension": ".py",
   "mimetype": "text/x-python",
   "name": "python",
   "nbconvert_exporter": "python",
   "pygments_lexer": "ipython3",
   "version": "3.12.3"
  }
 },
 "nbformat": 4,
 "nbformat_minor": 2
}
